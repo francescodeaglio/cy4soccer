{
 "cells": [
  {
   "cell_type": "markdown",
   "metadata": {},
   "source": [
    "# Sunburst diagram - Game Based"
   ]
  },
  {
   "cell_type": "markdown",
   "metadata": {},
   "source": [
    "Notebook used to preprocess the data in order to upload it to MongoDb. THe preprocessing takes long (there are several possible patterns with length between 2 and 7, even if pruning is performed)."
   ]
  },
  {
   "cell_type": "markdown",
   "metadata": {},
   "source": [
    "Cell to create the connection to neo4j"
   ]
  },
  {
   "cell_type": "code",
   "execution_count": 1,
   "metadata": {},
   "outputs": [
    {
     "name": "stderr",
     "output_type": "stream",
     "text": [
      "2022-04-30 12:48:50.081 INFO    numexpr.utils: NumExpr defaulting to 8 threads.\n"
     ]
    }
   ],
   "source": [
    "from neo4j import GraphDatabase\n",
    "import logging\n",
    "from neo4j.exceptions import ServiceUnavailable\n",
    "import streamlit as st\n",
    "class App:\n",
    "\n",
    "    def __init__(self, uri, user, password):\n",
    "        self.driver = GraphDatabase.driver(uri, auth=(user, password))\n",
    "\n",
    "    def close(self):\n",
    "        # Don't forget to close the driver connection when you are finished with it\n",
    "        self.driver.close()\n",
    "\n",
    "    \n",
    "\n",
    "    def find_pattern(self, query_string):\n",
    "        with self.driver.session() as session:\n",
    "            result = session.read_transaction(self._find_and_return_pattern, query_string)\n",
    "            for row in result:\n",
    "                return row[\"cnt\"]\n",
    "            \n",
    "    def find_games(self, query_string):\n",
    "        with self.driver.session() as session:\n",
    "            result = session.read_transaction(self._find_and_return_pattern, query_string)\n",
    "            return [r[\"cnt\"] for r in result]\n",
    "\n",
    "    @staticmethod\n",
    "    def _find_and_return_pattern(tx, query_string):\n",
    "        result = tx.run(query_string+\" as cnt\")\n",
    "        return [row for row in result]"
   ]
  },
  {
   "cell_type": "markdown",
   "metadata": {},
   "source": [
    "Function to get the name of alle teams that have played euro20"
   ]
  },
  {
   "cell_type": "code",
   "execution_count": 2,
   "metadata": {},
   "outputs": [],
   "source": [
    "def all_teams():\n",
    "    return ['Austria', 'Belgium', 'Croatia','Czech_Republic','Denmark','England','Finland',\n",
    "     'France','Germany','Hungary','Italy','Netherlands','MACEDONIA_REPUBLIC_OF','Poland',\n",
    "     'Portugal','Russia','Scotland','Slovakia','Spain','Sweden','Switzerland','Turkey','Ukraine','Wales']"
   ]
  },
  {
   "cell_type": "markdown",
   "metadata": {},
   "source": [
    "Function used to produce the cypher query strings for pattern matching"
   ]
  },
  {
   "cell_type": "code",
   "execution_count": 3,
   "metadata": {},
   "outputs": [],
   "source": [
    "def cypherify(string, team = None, game = None):\n",
    "    letters = list(string)\n",
    "\n",
    "    if team:\n",
    "        query = \"MATCH p=(A:\"+team+\")\"\n",
    "        for i in range(len(string) - 1):\n",
    "            query += \"-[p\" + str(i) + \":PASS]->(\" + letters[i + 1] + \":\"+team+\")\"\n",
    "    else:\n",
    "        query = \"MATCH (A)\"\n",
    "        for i in range(len(string) - 1):\n",
    "            query += \"-[p\" + str(i) + \":PASS]->(\" + letters[i + 1] + \")\"\n",
    "\n",
    "    query += \"\\nWHERE \"\n",
    "\n",
    "    #correct order\n",
    "    first = True\n",
    "    for i in range(len(string) - 2):\n",
    "        if first:\n",
    "            query += \"p\" + str(i) + \".order + 1 = p\" + str(i + 1) + \".order\"\n",
    "            first = False\n",
    "        else:\n",
    "            query += \" and p\" + str(i) + \".order + 1 = p\" + str(i + 1) + \".order\"\n",
    "\n",
    "    #same possession\n",
    "    first = True\n",
    "    for i in range(len(string) - 2):\n",
    "        if first:\n",
    "            query += \" and p\" + str(i) + \".possession = p\" + str(i + 1) + \".possession\"\n",
    "            first = False\n",
    "        else:\n",
    "            query += \" and p\" + str(i) + \".possession = p\" + str(i + 1) + \".possession\"\n",
    "\n",
    "    #same match\n",
    "    first = True\n",
    "    for i in range(len(string) - 2):\n",
    "        if first:\n",
    "            query += \" and p\" + str(i) + \".match_id = p\" + str(i + 1) + \".match_id\"\n",
    "            first = False\n",
    "        else:\n",
    "            query += \" and p\" + str(i) + \".match_id = p\" + str(i + 1) + \".match_id\"\n",
    "\n",
    "    #different players\n",
    "    unorderedPairGenerator = ((x, y) for x in set(letters) for y in set(letters) if y > x)\n",
    "    if string != \"AB\":\n",
    "        query += \" and \" + \" and \".join([x + \".name <>\" + \" \" +y + \".name\" for x, y in list(unorderedPairGenerator)])\n",
    "    else:\n",
    "        query +=  \" and \".join([x + \".name <>\" + \" \" +y + \".name\" for x, y in list(unorderedPairGenerator)])\n",
    "    \n",
    "    if game:\n",
    "        query+= \" and p0.match_id = \"+str(game)\n",
    "    \n",
    "    query += \"\\nRETURN COUNT(p)\"\n",
    "    return query"
   ]
  },
  {
   "cell_type": "code",
   "execution_count": 8,
   "metadata": {},
   "outputs": [
    {
     "name": "stdout",
     "output_type": "stream",
     "text": [
      "Example query for pattern ABA in game 1234 by Italy: \n",
      "\n",
      "MATCH p=(A:ITALY)-[p0:PASS]->(B:ITALY)-[p1:PASS]->(A:ITALY)\n",
      "WHERE p0.order + 1 = p1.order and p0.possession = p1.possession and p0.match_id = p1.match_id and A.name <> B.name and p0.match_id = 1234\n",
      "RETURN COUNT(p)\n"
     ]
    }
   ],
   "source": [
    "string = cypherify(\"ABA\", \"ITALY\", 1234)\n",
    "print(\"Example query for pattern ABA in game 1234 by Italy: \\n\\n\"+string)"
   ]
  },
  {
   "cell_type": "markdown",
   "metadata": {},
   "source": [
    "Function to get the number of passages given a pattern"
   ]
  },
  {
   "cell_type": "code",
   "execution_count": 9,
   "metadata": {},
   "outputs": [],
   "source": [
    "def get_value(pattern, team, app, match_id):\n",
    "    query = cypherify(pattern, team, match_id)\n",
    "    v = app.find_pattern(query)\n",
    "    #print(\"Pattern: \"+pattern+\" \\t Value: \"+str(v))\n",
    "    result[pattern] = v\n",
    "    return v"
   ]
  },
  {
   "cell_type": "markdown",
   "metadata": {},
   "source": [
    "Functions to create all the possibile passing motifs and calculate the number of times they happened"
   ]
  },
  {
   "cell_type": "code",
   "execution_count": 6,
   "metadata": {},
   "outputs": [],
   "source": [
    "def pass_net(i,n, vect, team, app, match_id):\n",
    "    if i==1:\n",
    "        vect[i-1] = \"A\"\n",
    "        pass_net(2,n,vect, team, app, match_id)\n",
    "    elif i==2:\n",
    "        vect[i-1] = \"B\"\n",
    "        v = get_value(\"\".join(vect[:i]), team, app, match_id)\n",
    "        if v>0:\n",
    "            pass_net(3,n,vect, team, app, match_id)\n",
    "    elif i==n+1:\n",
    "        #print(\"\".join(vect))\n",
    "        return\n",
    "    else:\n",
    "        for l in distinct_letters(vect, i-2):\n",
    "            vect[i-1] = l\n",
    "            v = get_value(\"\".join(vect[:i]), team, app, match_id)\n",
    "            if v > 0:\n",
    "                pass_net(i+1,n,vect, team, app, match_id)\n",
    "        vect[i-1] = first_new_letter(vect,i-1)\n",
    "        v = get_value(\"\".join(vect[:i]), team, app, match_id)\n",
    "        if v > 0:\n",
    "            pass_net(i+1,n,vect, team, app, match_id)\n",
    "\n",
    "def first_new_letter(vect,end):\n",
    "    letters = [\"A\", \"B\", \"C\", \"D\", \"E\", \"F\", \"G\", \"H\", \"I\", \"L\", \"M\"]\n",
    "    max_letter = max(vect[:end])\n",
    "    return letters[letters.index(max_letter)+1]\n",
    "\n",
    "def distinct_letters(vect, end):\n",
    "    el = set(vect[:end])\n",
    "    el.discard(vect[end])\n",
    "    return list(el)"
   ]
  },
  {
   "cell_type": "markdown",
   "metadata": {},
   "source": [
    "Function that returns all games played by a given team"
   ]
  },
  {
   "cell_type": "code",
   "execution_count": 7,
   "metadata": {},
   "outputs": [],
   "source": [
    "def get_games(team, app):\n",
    "    query = 'MATCH (g:GAME) WHERE g.away_team = \"' + team + '\" or g.home_team = \"'+team+'\" RETURN g.match_id'\n",
    "    v = app.find_games(query)\n",
    "    return v"
   ]
  },
  {
   "cell_type": "markdown",
   "metadata": {},
   "source": [
    "Visualization used in the frontend (not used in this notebook)"
   ]
  },
  {
   "cell_type": "code",
   "execution_count": 8,
   "metadata": {},
   "outputs": [],
   "source": [
    "import plotly.express as px\n",
    "def display_sunburst(result, team, game):\n",
    "    patterns = []\n",
    "    prefixes = []\n",
    "    values = []\n",
    "    colors = []\n",
    "    for res in result[team][game]:\n",
    "            patterns.append(res)\n",
    "            prefixes.append(res[:-1])\n",
    "            values.append(result[team][game][res])\n",
    "            colors.append(res[0:4] if len(res)>=4 else  12)\n",
    "    \n",
    "    prefixes[0] = \"\"\n",
    "    data = dict(\n",
    "    patterns= patterns,\n",
    "    prefixes= prefixes,\n",
    "    values= values\n",
    "    )\n",
    "    \n",
    "    fig = px.sunburst(data,\n",
    "    names=\"patterns\",\n",
    "    parents=\"prefixes\",\n",
    "    values=\"values\",\n",
    "    color = prefixes\n",
    "    )\n",
    "    fig.show()"
   ]
  },
  {
   "cell_type": "code",
   "execution_count": 10,
   "metadata": {},
   "outputs": [
    {
     "ename": "SyntaxError",
     "evalue": "invalid syntax (3583558273.py, line 2)",
     "output_type": "error",
     "traceback": [
      "\u001b[1;36m  File \u001b[1;32m\"C:\\Users\\franc\\AppData\\Local\\Temp\\ipykernel_15440\\3583558273.py\"\u001b[1;36m, line \u001b[1;32m2\u001b[0m\n\u001b[1;33m    uri = ### Neo4j URI ####\u001b[0m\n\u001b[1;37m          ^\u001b[0m\n\u001b[1;31mSyntaxError\u001b[0m\u001b[1;31m:\u001b[0m invalid syntax\n"
     ]
    }
   ],
   "source": [
    "#neo4j\n",
    "uri = ### Neo4j URI ####\n",
    "user = \"soccer_analytics\"\n",
    "password = ### Neo4j Password ####\n",
    "app = App(uri, user, password)"
   ]
  },
  {
   "cell_type": "code",
   "execution_count": 10,
   "metadata": {},
   "outputs": [],
   "source": [
    "#mongo\n",
    "import pymongo\n",
    "client = pymongo.MongoClient(###### MONGO LOGIN STRING ######)\n",
    "db = client.soccer_analytics\n",
    "col = db[\"sunburst_cache\"]"
   ]
  },
  {
   "cell_type": "code",
   "execution_count": 22,
   "metadata": {},
   "outputs": [
    {
     "name": "stdout",
     "output_type": "stream",
     "text": [
      "UKRAINE has played the following games :[3794692, 3788767, 3788758, 3788746, 3795187]\n",
      "\t processing game :3794692\n",
      "\t processing game :3788767\n",
      "\t processing game :3788758\n",
      "\t processing game :3788746\n",
      "\t processing game :3795187\n",
      "WALES has played the following games :[3794689, 3788766, 3788755, 3788744]\n",
      "\t processing game :3794689\n",
      "\t processing game :3788766\n",
      "\t processing game :3788755\n",
      "\t processing game :3788744\n"
     ]
    },
    {
     "name": "stderr",
     "output_type": "stream",
     "text": [
      "2022-04-27 11:26:37.187 ERROR   neo4j: Failed to read from defunct connection IPv4Address(('00e145e7.databases.neo4j.io', 7687)) (IPv4Address(('34.126.114.186', 7687)))\n",
      "2022-04-27 11:26:37.188 WARNING neo4j: Transaction failed and will be retried in 1.032966086172038s (Failed to read from defunct connection IPv4Address(('00e145e7.databases.neo4j.io', 7687)) (IPv4Address(('34.126.114.186', 7687))))\n",
      "2022-04-27 11:26:38.224 ERROR   neo4j: Failed to read from defunct connection ResolvedIPv4Address(('34.126.114.186', 7687)) (IPv4Address(('34.126.114.186', 7687)))\n",
      "2022-04-27 11:26:38.225 ERROR   neo4j: Unable to retrieve routing information\n",
      "2022-04-27 11:26:38.226 WARNING neo4j: Transaction failed and will be retried in 1.6173206193934122s (Unable to retrieve routing information)\n",
      "2022-04-27 11:26:40.933 ERROR   neo4j: Unable to retrieve routing information\n",
      "2022-04-27 11:26:40.934 WARNING neo4j: Transaction failed and will be retried in 4.7677706112706435s (Unable to retrieve routing information)\n",
      "2022-04-27 11:26:46.826 ERROR   neo4j: Unable to retrieve routing information\n",
      "2022-04-27 11:26:46.827 WARNING neo4j: Transaction failed and will be retried in 8.494910816925291s (Unable to retrieve routing information)\n",
      "2022-04-27 11:26:56.417 ERROR   neo4j: Unable to retrieve routing information\n",
      "2022-04-27 11:26:56.420 WARNING neo4j: Transaction failed and will be retried in 18.707652776707768s (Unable to retrieve routing information)\n"
     ]
    }
   ],
   "source": [
    "#use it to skip already uploaded teams\n",
    "SKIP_BEGINNING = 0\n",
    "\n",
    "#loop through all teams and each game played by each team\n",
    "for team_l in all_teams()[SKIP_BEGINNING:]:    \n",
    "    #to use team names (team_n) and labels (team_l)\n",
    "    if team_l == \"MACEDONIA_REPUBLIC_OF\":\n",
    "        team_n = \"North Macedonia\"\n",
    "    elif team_l == \"Czech_Republic\":\n",
    "        team_n = \"Czech Republic\"\n",
    "    else:\n",
    "        team_n = team_l\n",
    "    team_l = team_l.upper()\n",
    "    \n",
    "    #get all the games played by that team\n",
    "    games = get_games(team_n, app)\n",
    "    \n",
    "    print(team_l+\" has played the following games :\"+str(games))\n",
    "    \n",
    "    for match_id in games:\n",
    "        print(\"\\t processing game :\"+str(match_id))\n",
    "        n = 6\n",
    "        l = [0]*n\n",
    "        result = {}\n",
    "        pass_net(1, n, l, team_l, app, match_id)\n",
    "        col.insert_one({\n",
    "            \"team\":team_l,\n",
    "            \"match_id\":match_id,\n",
    "            \"data\":result\n",
    "        })"
   ]
  },
  {
   "cell_type": "markdown",
   "metadata": {},
   "source": [
    "Example of a invocation. This is then loaded in Mongo."
   ]
  },
  {
   "cell_type": "code",
   "execution_count": 23,
   "metadata": {},
   "outputs": [
    {
     "data": {
      "text/plain": [
       "{'AB': 280,\n",
       " 'ABA': 30,\n",
       " 'ABAB': 4,\n",
       " 'ABABA': 0,\n",
       " 'ABABC': 4,\n",
       " 'ABABCB': 1,\n",
       " 'ABABCA': 0,\n",
       " 'ABABCD': 2,\n",
       " 'ABAC': 17,\n",
       " 'ABACB': 0,\n",
       " 'ABACA': 3,\n",
       " 'ABACAB': 2,\n",
       " 'ABACAC': 0,\n",
       " 'ABACAD': 1,\n",
       " 'ABACD': 9,\n",
       " 'ABACDB': 1,\n",
       " 'ABACDC': 0,\n",
       " 'ABACDA': 0,\n",
       " 'ABACDE': 5,\n",
       " 'ABC': 185,\n",
       " 'ABCB': 21,\n",
       " 'ABCBC': 4,\n",
       " 'ABCBCB': 0,\n",
       " 'ABCBCA': 0,\n",
       " 'ABCBCD': 4,\n",
       " 'ABCBA': 3,\n",
       " 'ABCBAB': 1,\n",
       " 'ABCBAC': 0,\n",
       " 'ABCBAD': 1,\n",
       " 'ABCBD': 7,\n",
       " 'ABCBDB': 1,\n",
       " 'ABCBDC': 0,\n",
       " 'ABCBDA': 1,\n",
       " 'ABCBDE': 3,\n",
       " 'ABCA': 4,\n",
       " 'ABCAB': 0,\n",
       " 'ABCAC': 0,\n",
       " 'ABCAD': 3,\n",
       " 'ABCADB': 0,\n",
       " 'ABCADC': 0,\n",
       " 'ABCADA': 0,\n",
       " 'ABCADE': 2,\n",
       " 'ABCD': 111,\n",
       " 'ABCDB': 2,\n",
       " 'ABCDBC': 0,\n",
       " 'ABCDBD': 0,\n",
       " 'ABCDBA': 0,\n",
       " 'ABCDBE': 1,\n",
       " 'ABCDC': 11,\n",
       " 'ABCDCB': 1,\n",
       " 'ABCDCD': 3,\n",
       " 'ABCDCA': 0,\n",
       " 'ABCDCE': 4,\n",
       " 'ABCDA': 7,\n",
       " 'ABCDAB': 0,\n",
       " 'ABCDAC': 0,\n",
       " 'ABCDAD': 0,\n",
       " 'ABCDAE': 6,\n",
       " 'ABCDE': 59,\n",
       " 'ABCDEB': 4,\n",
       " 'ABCDEC': 2,\n",
       " 'ABCDED': 5,\n",
       " 'ABCDEA': 0,\n",
       " 'ABCDEF': 29}"
      ]
     },
     "execution_count": 23,
     "metadata": {},
     "output_type": "execute_result"
    }
   ],
   "source": [
    "result"
   ]
  }
 ],
 "metadata": {
  "kernelspec": {
   "display_name": "Python 3 (ipykernel)",
   "language": "python",
   "name": "python3"
  },
  "language_info": {
   "codemirror_mode": {
    "name": "ipython",
    "version": 3
   },
   "file_extension": ".py",
   "mimetype": "text/x-python",
   "name": "python",
   "nbconvert_exporter": "python",
   "pygments_lexer": "ipython3",
   "version": "3.8.13"
  }
 },
 "nbformat": 4,
 "nbformat_minor": 4
}
