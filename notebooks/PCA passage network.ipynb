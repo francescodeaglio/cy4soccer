{
 "cells": [
  {
   "cell_type": "markdown",
   "metadata": {},
   "source": [
    "# PCA passage patterns"
   ]
  },
  {
   "cell_type": "markdown",
   "metadata": {},
   "source": [
    "Notebook to reproduce pass pattern PCA shown in lecture 5"
   ]
  },
  {
   "cell_type": "markdown",
   "metadata": {},
   "source": [
    "#### Functions"
   ]
  },
  {
   "cell_type": "code",
   "execution_count": 27,
   "metadata": {},
   "outputs": [],
   "source": [
    "def all_teams():\n",
    "    return {'Austria',\n",
    "     'Belgium',\n",
    "     'Croatia',\n",
    "     'Czech_Republic',\n",
    "     'Denmark',\n",
    "     'England',\n",
    "     'Finland',\n",
    "     'France',\n",
    "     'Germany',\n",
    "     'Hungary',\n",
    "     'Italy',\n",
    "     'Netherlands',\n",
    "     'MACEDONIA_REPUBLIC_OF',\n",
    "     'Poland',\n",
    "     'Portugal',\n",
    "     'Russia',\n",
    "     'Scotland',\n",
    "     'Slovakia',\n",
    "     'Spain',\n",
    "     'Sweden',\n",
    "     'Switzerland',\n",
    "     'Turkey',\n",
    "     'Ukraine',\n",
    "     'Wales'}\n",
    "    "
   ]
  },
  {
   "cell_type": "code",
   "execution_count": 23,
   "metadata": {},
   "outputs": [],
   "source": [
    "def all_patterns():\n",
    "    return [\"ABAB\",\"ABAC\",\"ABCB\",\"ABCA\",\"ABCD\"]"
   ]
  },
  {
   "cell_type": "code",
   "execution_count": 24,
   "metadata": {},
   "outputs": [],
   "source": [
    "def cypherify(string, team = None):\n",
    "    letters = list(string)\n",
    "\n",
    "    if team:\n",
    "        query = \"MATCH p=(A:\"+team+\")\"\n",
    "        for i in range(len(string) - 1):\n",
    "            query += \"-[p\" + str(i) + \":PASS]->(\" + letters[i + 1] + \":\"+team+\")\"\n",
    "    else:\n",
    "        query = \"MATCH (A)\"\n",
    "        for i in range(len(string) - 1):\n",
    "            query += \"-[p\" + str(i) + \":PASS]->(\" + letters[i + 1] + \")\"\n",
    "\n",
    "    query += \"\\nWHERE \"\n",
    "\n",
    "    #correct order\n",
    "    first = True\n",
    "    for i in range(len(string) - 2):\n",
    "        if first:\n",
    "            query += \"p\" + str(i) + \".order + 1 = p\" + str(i + 1) + \".order\"\n",
    "            first = False\n",
    "        else:\n",
    "            query += \" and p\" + str(i) + \".order + 1 = p\" + str(i + 1) + \".order\"\n",
    "\n",
    "    #same possession\n",
    "    first = True\n",
    "    for i in range(len(string) - 2):\n",
    "        if first:\n",
    "            query += \" and p\" + str(i) + \".possession = p\" + str(i + 1) + \".possession\"\n",
    "            first = False\n",
    "        else:\n",
    "            query += \" and p\" + str(i) + \".possession = p\" + str(i + 1) + \".possession\"\n",
    "\n",
    "    #same match\n",
    "    first = True\n",
    "    for i in range(len(string) - 2):\n",
    "        if first:\n",
    "            query += \" and p\" + str(i) + \".match_id = p\" + str(i + 1) + \".match_id\"\n",
    "            first = False\n",
    "        else:\n",
    "            query += \" and p\" + str(i) + \".match_id = p\" + str(i + 1) + \".match_id\"\n",
    "\n",
    "    #different players\n",
    "    unorderedPairGenerator = ((x, y) for x in set(letters) for y in set(letters) if y > x)\n",
    "    query += \" and \" + \" and \".join([x + \".name <>\" + \" \" +y + \".name\" for x, y in list(unorderedPairGenerator)])\n",
    "    \n",
    "    \n",
    "    query += \"\\nRETURN COUNT(p)\"\n",
    "    return query"
   ]
  },
  {
   "cell_type": "code",
   "execution_count": 25,
   "metadata": {},
   "outputs": [],
   "source": [
    "from neo4j import GraphDatabase\n",
    "import logging\n",
    "from neo4j.exceptions import ServiceUnavailable\n",
    "import streamlit as st\n",
    "class App:\n",
    "\n",
    "    def __init__(self, uri, user, password):\n",
    "        self.driver = GraphDatabase.driver(uri, auth=(user, password))\n",
    "\n",
    "    def close(self):\n",
    "        # Don't forget to close the driver connection when you are finished with it\n",
    "        self.driver.close()\n",
    "\n",
    "    \n",
    "\n",
    "    def find_pattern(self, query_string):\n",
    "        with self.driver.session() as session:\n",
    "            result = session.read_transaction(self._find_and_return_pattern, query_string)\n",
    "            for row in result:\n",
    "                print(row)\n",
    "                return row[\"cnt\"]\n",
    "\n",
    "\n",
    "    @staticmethod\n",
    "    def _find_and_return_pattern(tx, query_string):\n",
    "        result = tx.run(query_string+\" as cnt\")\n",
    "        return [row for row in result]"
   ]
  },
  {
   "cell_type": "markdown",
   "metadata": {},
   "source": [
    "#### Pattern matching"
   ]
  },
  {
   "cell_type": "code",
   "execution_count": 73,
   "metadata": {},
   "outputs": [
    {
     "name": "stdout",
     "output_type": "stream",
     "text": [
      "Matching FINLAND...\n",
      "<Record cnt=31>\n",
      "<Record cnt=98>\n",
      "<Record cnt=105>\n",
      "<Record cnt=54>\n",
      "<Record cnt=329>\n",
      "Matching CZECH_REPUBLIC...\n",
      "<Record cnt=39>\n",
      "<Record cnt=181>\n",
      "<Record cnt=147>\n",
      "<Record cnt=91>\n",
      "<Record cnt=610>\n",
      "Matching AUSTRIA...\n",
      "<Record cnt=35>\n",
      "<Record cnt=182>\n",
      "<Record cnt=163>\n",
      "<Record cnt=99>\n",
      "<Record cnt=769>\n",
      "Matching MACEDONIA_REPUBLIC_OF...\n",
      "<Record cnt=26>\n",
      "<Record cnt=90>\n",
      "<Record cnt=77>\n",
      "<Record cnt=44>\n",
      "<Record cnt=359>\n",
      "Matching BELGIUM...\n",
      "<Record cnt=57>\n",
      "<Record cnt=269>\n",
      "<Record cnt=256>\n",
      "<Record cnt=156>\n",
      "<Record cnt=1218>\n",
      "Matching CROATIA...\n",
      "<Record cnt=18>\n",
      "<Record cnt=177>\n",
      "<Record cnt=172>\n",
      "<Record cnt=109>\n",
      "<Record cnt=745>\n",
      "Matching SWEDEN...\n",
      "<Record cnt=18>\n",
      "<Record cnt=109>\n",
      "<Record cnt=103>\n",
      "<Record cnt=58>\n",
      "<Record cnt=505>\n",
      "Matching SWITZERLAND...\n",
      "<Record cnt=46>\n",
      "<Record cnt=207>\n",
      "<Record cnt=196>\n",
      "<Record cnt=116>\n",
      "<Record cnt=899>\n",
      "Matching SPAIN...\n",
      "<Record cnt=90>\n",
      "<Record cnt=516>\n",
      "<Record cnt=492>\n",
      "<Record cnt=276>\n",
      "<Record cnt=2246>\n",
      "Matching TURKEY...\n",
      "<Record cnt=25>\n",
      "<Record cnt=121>\n",
      "<Record cnt=105>\n",
      "<Record cnt=68>\n",
      "<Record cnt=479>\n",
      "Matching WALES...\n",
      "<Record cnt=11>\n",
      "<Record cnt=89>\n",
      "<Record cnt=79>\n",
      "<Record cnt=58>\n",
      "<Record cnt=422>\n",
      "Matching NETHERLANDS...\n",
      "<Record cnt=54>\n",
      "<Record cnt=233>\n",
      "<Record cnt=207>\n",
      "<Record cnt=137>\n",
      "<Record cnt=711>\n",
      "Matching RUSSIA...\n",
      "<Record cnt=18>\n",
      "<Record cnt=86>\n",
      "<Record cnt=84>\n",
      "<Record cnt=40>\n",
      "<Record cnt=381>\n",
      "Matching SLOVAKIA...\n",
      "<Record cnt=17>\n",
      "<Record cnt=147>\n",
      "<Record cnt=136>\n",
      "<Record cnt=60>\n",
      "<Record cnt=503>\n",
      "Matching FRANCE...\n",
      "<Record cnt=53>\n",
      "<Record cnt=224>\n",
      "<Record cnt=224>\n",
      "<Record cnt=142>\n",
      "<Record cnt=943>\n",
      "Matching POLAND...\n",
      "<Record cnt=26>\n",
      "<Record cnt=104>\n",
      "<Record cnt=94>\n",
      "<Record cnt=51>\n",
      "<Record cnt=355>\n",
      "Matching HUNGARY...\n",
      "<Record cnt=20>\n",
      "<Record cnt=75>\n",
      "<Record cnt=65>\n",
      "<Record cnt=35>\n",
      "<Record cnt=197>\n",
      "Matching ENGLAND...\n",
      "<Record cnt=76>\n",
      "<Record cnt=415>\n",
      "<Record cnt=386>\n",
      "<Record cnt=190>\n",
      "<Record cnt=1455>\n",
      "Matching ITALY...\n",
      "<Record cnt=89>\n",
      "<Record cnt=420>\n",
      "<Record cnt=394>\n",
      "<Record cnt=245>\n",
      "<Record cnt=1626>\n",
      "Matching PORTUGAL...\n",
      "<Record cnt=54>\n",
      "<Record cnt=216>\n",
      "<Record cnt=198>\n",
      "<Record cnt=121>\n",
      "<Record cnt=890>\n",
      "Matching GERMANY...\n",
      "<Record cnt=56>\n",
      "<Record cnt=260>\n",
      "<Record cnt=237>\n",
      "<Record cnt=177>\n",
      "<Record cnt=1054>\n",
      "Matching SCOTLAND...\n",
      "<Record cnt=10>\n",
      "<Record cnt=80>\n",
      "<Record cnt=68>\n",
      "<Record cnt=54>\n",
      "<Record cnt=419>\n",
      "Matching UKRAINE...\n",
      "<Record cnt=53>\n",
      "<Record cnt=266>\n",
      "<Record cnt=254>\n",
      "<Record cnt=164>\n",
      "<Record cnt=1068>\n",
      "Matching DENMARK...\n",
      "<Record cnt=40>\n",
      "<Record cnt=253>\n",
      "<Record cnt=231>\n",
      "<Record cnt=165>\n",
      "<Record cnt=1051>\n"
     ]
    }
   ],
   "source": [
    "uri = \"bolt://162.55.245.102\"\n",
    "user = \"neo4j\"\n",
    "password = \"axis-bruno-lorenzo-banana-arthur-8328\"\n",
    "app = App(uri, user, password)\n",
    "\n",
    "res = {}\n",
    "for team in all_teams():\n",
    "    res[team.upper()] = {}\n",
    "\n",
    "for team in all_teams():\n",
    "    team = team.upper()\n",
    "    print(\"Matching \"+team+\"...\")\n",
    "    for pattern in all_patterns():\n",
    "        query = cypherify(pattern, team)\n",
    "        cnt = app.find_pattern(query)\n",
    "        res[team][pattern] = cnt\n",
    "    "
   ]
  },
  {
   "cell_type": "code",
   "execution_count": 61,
   "metadata": {},
   "outputs": [
    {
     "name": "stdout",
     "output_type": "stream",
     "text": [
      "<Record cnt=3>\n",
      "<Record cnt=0>\n",
      "<Record cnt=4>\n",
      "<Record cnt=0>\n",
      "<Record cnt=5>\n",
      "<Record cnt=4>\n",
      "<Record cnt=4>\n",
      "<Record cnt=5>\n",
      "<Record cnt=6>\n",
      "<Record cnt=3>\n",
      "<Record cnt=4>\n",
      "<Record cnt=4>\n",
      "<Record cnt=3>\n",
      "<Record cnt=3>\n",
      "<Record cnt=4>\n",
      "<Record cnt=3>\n",
      "<Record cnt=3>\n",
      "<Record cnt=7>\n",
      "<Record cnt=7>\n",
      "<Record cnt=4>\n",
      "<Record cnt=4>\n",
      "<Record cnt=3>\n",
      "<Record cnt=5>\n",
      "<Record cnt=6>\n"
     ]
    }
   ],
   "source": [
    "#games played normalization (not used)\n",
    "games_played = {}\n",
    "for team in all_teams():\n",
    "    \n",
    "    \n",
    "    query = \"\"\"\n",
    "    MATCH (g:GAME)\n",
    "    WITH g.teams as t, g\n",
    "    WHERE '\"\"\" + team + \"\"\"' in t = true\n",
    "    RETURN count(g)\"\"\"\n",
    "    \n",
    "    #query = \"MATCH (a:\"+team+\")-[:HAS_PLAYED]->(g:GAME) RETURN COUNT(DISTINCT(g))\"\n",
    "    \n",
    "    team = team.upper()\n",
    "    \n",
    "    cnt = app.find_pattern(query)\n",
    "    \n",
    "    #print(team,str(cnt))\n",
    "    games_played[team] = cnt\n",
    "\n",
    "\n",
    "games_played[\"CZECH_REPUBLIC\"] = 5\n",
    "games_played[\"MACEDONIA_REPUBLIC_OF\"] = 3\n",
    "\n",
    "print(games_played)"
   ]
  },
  {
   "cell_type": "code",
   "execution_count": 72,
   "metadata": {},
   "outputs": [],
   "source": [
    "res_norm = {}\n",
    "for team in all_teams():\n",
    "    res_norm[team.upper()] = {}\n",
    "for team in games_played:\n",
    "    for value in res[team]:\n",
    "        res_norm[team][value] = round(res[team][value] / games_played[team] , 2 )"
   ]
  },
  {
   "cell_type": "code",
   "execution_count": 75,
   "metadata": {},
   "outputs": [],
   "source": [
    "#percentage normalization\n",
    "percentage = {}\n",
    "for team in all_teams():\n",
    "    percentage[team.upper()] = {} \n",
    "\n",
    "for team in res:\n",
    "    tot = 0\n",
    "    for pattern in res[team]:\n",
    "        tot += res[team][pattern]\n",
    "    \n",
    "    for pattern in res[team]:\n",
    "        percentage[team][pattern] = round(res[team][pattern] / tot, 2)"
   ]
  },
  {
   "cell_type": "code",
   "execution_count": 76,
   "metadata": {},
   "outputs": [
    {
     "data": {
      "text/plain": [
       "{'FINLAND': {'ABAB': 0.05,\n",
       "  'ABAC': 0.16,\n",
       "  'ABCB': 0.17,\n",
       "  'ABCA': 0.09,\n",
       "  'ABCD': 0.53},\n",
       " 'CZECH_REPUBLIC': {'ABAB': 0.04,\n",
       "  'ABAC': 0.17,\n",
       "  'ABCB': 0.14,\n",
       "  'ABCA': 0.09,\n",
       "  'ABCD': 0.57},\n",
       " 'AUSTRIA': {'ABAB': 0.03,\n",
       "  'ABAC': 0.15,\n",
       "  'ABCB': 0.13,\n",
       "  'ABCA': 0.08,\n",
       "  'ABCD': 0.62},\n",
       " 'MACEDONIA_REPUBLIC_OF': {'ABAB': 0.04,\n",
       "  'ABAC': 0.15,\n",
       "  'ABCB': 0.13,\n",
       "  'ABCA': 0.07,\n",
       "  'ABCD': 0.6},\n",
       " 'BELGIUM': {'ABAB': 0.03,\n",
       "  'ABAC': 0.14,\n",
       "  'ABCB': 0.13,\n",
       "  'ABCA': 0.08,\n",
       "  'ABCD': 0.62},\n",
       " 'CROATIA': {'ABAB': 0.01,\n",
       "  'ABAC': 0.14,\n",
       "  'ABCB': 0.14,\n",
       "  'ABCA': 0.09,\n",
       "  'ABCD': 0.61},\n",
       " 'SWEDEN': {'ABAB': 0.02,\n",
       "  'ABAC': 0.14,\n",
       "  'ABCB': 0.13,\n",
       "  'ABCA': 0.07,\n",
       "  'ABCD': 0.64},\n",
       " 'SWITZERLAND': {'ABAB': 0.03,\n",
       "  'ABAC': 0.14,\n",
       "  'ABCB': 0.13,\n",
       "  'ABCA': 0.08,\n",
       "  'ABCD': 0.61},\n",
       " 'SPAIN': {'ABAB': 0.02,\n",
       "  'ABAC': 0.14,\n",
       "  'ABCB': 0.14,\n",
       "  'ABCA': 0.08,\n",
       "  'ABCD': 0.62},\n",
       " 'TURKEY': {'ABAB': 0.03,\n",
       "  'ABAC': 0.15,\n",
       "  'ABCB': 0.13,\n",
       "  'ABCA': 0.09,\n",
       "  'ABCD': 0.6},\n",
       " 'WALES': {'ABAB': 0.02,\n",
       "  'ABAC': 0.14,\n",
       "  'ABCB': 0.12,\n",
       "  'ABCA': 0.09,\n",
       "  'ABCD': 0.64},\n",
       " 'NETHERLANDS': {'ABAB': 0.04,\n",
       "  'ABAC': 0.17,\n",
       "  'ABCB': 0.15,\n",
       "  'ABCA': 0.1,\n",
       "  'ABCD': 0.53},\n",
       " 'RUSSIA': {'ABAB': 0.03,\n",
       "  'ABAC': 0.14,\n",
       "  'ABCB': 0.14,\n",
       "  'ABCA': 0.07,\n",
       "  'ABCD': 0.63},\n",
       " 'SLOVAKIA': {'ABAB': 0.02,\n",
       "  'ABAC': 0.17,\n",
       "  'ABCB': 0.16,\n",
       "  'ABCA': 0.07,\n",
       "  'ABCD': 0.58},\n",
       " 'FRANCE': {'ABAB': 0.03,\n",
       "  'ABAC': 0.14,\n",
       "  'ABCB': 0.14,\n",
       "  'ABCA': 0.09,\n",
       "  'ABCD': 0.59},\n",
       " 'POLAND': {'ABAB': 0.04,\n",
       "  'ABAC': 0.17,\n",
       "  'ABCB': 0.15,\n",
       "  'ABCA': 0.08,\n",
       "  'ABCD': 0.56},\n",
       " 'HUNGARY': {'ABAB': 0.05,\n",
       "  'ABAC': 0.19,\n",
       "  'ABCB': 0.17,\n",
       "  'ABCA': 0.09,\n",
       "  'ABCD': 0.5},\n",
       " 'ENGLAND': {'ABAB': 0.03,\n",
       "  'ABAC': 0.16,\n",
       "  'ABCB': 0.15,\n",
       "  'ABCA': 0.08,\n",
       "  'ABCD': 0.58},\n",
       " 'ITALY': {'ABAB': 0.03,\n",
       "  'ABAC': 0.15,\n",
       "  'ABCB': 0.14,\n",
       "  'ABCA': 0.09,\n",
       "  'ABCD': 0.59},\n",
       " 'PORTUGAL': {'ABAB': 0.04,\n",
       "  'ABAC': 0.15,\n",
       "  'ABCB': 0.13,\n",
       "  'ABCA': 0.08,\n",
       "  'ABCD': 0.6},\n",
       " 'GERMANY': {'ABAB': 0.03,\n",
       "  'ABAC': 0.15,\n",
       "  'ABCB': 0.13,\n",
       "  'ABCA': 0.1,\n",
       "  'ABCD': 0.59},\n",
       " 'SCOTLAND': {'ABAB': 0.02,\n",
       "  'ABAC': 0.13,\n",
       "  'ABCB': 0.11,\n",
       "  'ABCA': 0.09,\n",
       "  'ABCD': 0.66},\n",
       " 'UKRAINE': {'ABAB': 0.03,\n",
       "  'ABAC': 0.15,\n",
       "  'ABCB': 0.14,\n",
       "  'ABCA': 0.09,\n",
       "  'ABCD': 0.59},\n",
       " 'DENMARK': {'ABAB': 0.02,\n",
       "  'ABAC': 0.15,\n",
       "  'ABCB': 0.13,\n",
       "  'ABCA': 0.09,\n",
       "  'ABCD': 0.6}}"
      ]
     },
     "execution_count": 76,
     "metadata": {},
     "output_type": "execute_result"
    }
   ],
   "source": [
    "percentage"
   ]
  },
  {
   "cell_type": "code",
   "execution_count": 113,
   "metadata": {},
   "outputs": [],
   "source": [
    "import json\n",
    "json.dump(percentage, open(\"pca_table.json\", \"w\"))"
   ]
  },
  {
   "cell_type": "markdown",
   "metadata": {},
   "source": [
    "#### Visualization"
   ]
  },
  {
   "cell_type": "code",
   "execution_count": 77,
   "metadata": {},
   "outputs": [
    {
     "data": {
      "text/html": [
       "<div>\n",
       "<style scoped>\n",
       "    .dataframe tbody tr th:only-of-type {\n",
       "        vertical-align: middle;\n",
       "    }\n",
       "\n",
       "    .dataframe tbody tr th {\n",
       "        vertical-align: top;\n",
       "    }\n",
       "\n",
       "    .dataframe thead th {\n",
       "        text-align: right;\n",
       "    }\n",
       "</style>\n",
       "<table border=\"1\" class=\"dataframe\">\n",
       "  <thead>\n",
       "    <tr style=\"text-align: right;\">\n",
       "      <th></th>\n",
       "      <th>ABAB</th>\n",
       "      <th>ABAC</th>\n",
       "      <th>ABCB</th>\n",
       "      <th>ABCA</th>\n",
       "      <th>ABCD</th>\n",
       "    </tr>\n",
       "  </thead>\n",
       "  <tbody>\n",
       "    <tr>\n",
       "      <th>FINLAND</th>\n",
       "      <td>0.05</td>\n",
       "      <td>0.16</td>\n",
       "      <td>0.17</td>\n",
       "      <td>0.09</td>\n",
       "      <td>0.53</td>\n",
       "    </tr>\n",
       "    <tr>\n",
       "      <th>CZECH_REPUBLIC</th>\n",
       "      <td>0.04</td>\n",
       "      <td>0.17</td>\n",
       "      <td>0.14</td>\n",
       "      <td>0.09</td>\n",
       "      <td>0.57</td>\n",
       "    </tr>\n",
       "    <tr>\n",
       "      <th>AUSTRIA</th>\n",
       "      <td>0.03</td>\n",
       "      <td>0.15</td>\n",
       "      <td>0.13</td>\n",
       "      <td>0.08</td>\n",
       "      <td>0.62</td>\n",
       "    </tr>\n",
       "    <tr>\n",
       "      <th>MACEDONIA_REPUBLIC_OF</th>\n",
       "      <td>0.04</td>\n",
       "      <td>0.15</td>\n",
       "      <td>0.13</td>\n",
       "      <td>0.07</td>\n",
       "      <td>0.60</td>\n",
       "    </tr>\n",
       "    <tr>\n",
       "      <th>BELGIUM</th>\n",
       "      <td>0.03</td>\n",
       "      <td>0.14</td>\n",
       "      <td>0.13</td>\n",
       "      <td>0.08</td>\n",
       "      <td>0.62</td>\n",
       "    </tr>\n",
       "    <tr>\n",
       "      <th>CROATIA</th>\n",
       "      <td>0.01</td>\n",
       "      <td>0.14</td>\n",
       "      <td>0.14</td>\n",
       "      <td>0.09</td>\n",
       "      <td>0.61</td>\n",
       "    </tr>\n",
       "    <tr>\n",
       "      <th>SWEDEN</th>\n",
       "      <td>0.02</td>\n",
       "      <td>0.14</td>\n",
       "      <td>0.13</td>\n",
       "      <td>0.07</td>\n",
       "      <td>0.64</td>\n",
       "    </tr>\n",
       "    <tr>\n",
       "      <th>SWITZERLAND</th>\n",
       "      <td>0.03</td>\n",
       "      <td>0.14</td>\n",
       "      <td>0.13</td>\n",
       "      <td>0.08</td>\n",
       "      <td>0.61</td>\n",
       "    </tr>\n",
       "    <tr>\n",
       "      <th>SPAIN</th>\n",
       "      <td>0.02</td>\n",
       "      <td>0.14</td>\n",
       "      <td>0.14</td>\n",
       "      <td>0.08</td>\n",
       "      <td>0.62</td>\n",
       "    </tr>\n",
       "    <tr>\n",
       "      <th>TURKEY</th>\n",
       "      <td>0.03</td>\n",
       "      <td>0.15</td>\n",
       "      <td>0.13</td>\n",
       "      <td>0.09</td>\n",
       "      <td>0.60</td>\n",
       "    </tr>\n",
       "    <tr>\n",
       "      <th>WALES</th>\n",
       "      <td>0.02</td>\n",
       "      <td>0.14</td>\n",
       "      <td>0.12</td>\n",
       "      <td>0.09</td>\n",
       "      <td>0.64</td>\n",
       "    </tr>\n",
       "    <tr>\n",
       "      <th>NETHERLANDS</th>\n",
       "      <td>0.04</td>\n",
       "      <td>0.17</td>\n",
       "      <td>0.15</td>\n",
       "      <td>0.10</td>\n",
       "      <td>0.53</td>\n",
       "    </tr>\n",
       "    <tr>\n",
       "      <th>RUSSIA</th>\n",
       "      <td>0.03</td>\n",
       "      <td>0.14</td>\n",
       "      <td>0.14</td>\n",
       "      <td>0.07</td>\n",
       "      <td>0.63</td>\n",
       "    </tr>\n",
       "    <tr>\n",
       "      <th>SLOVAKIA</th>\n",
       "      <td>0.02</td>\n",
       "      <td>0.17</td>\n",
       "      <td>0.16</td>\n",
       "      <td>0.07</td>\n",
       "      <td>0.58</td>\n",
       "    </tr>\n",
       "    <tr>\n",
       "      <th>FRANCE</th>\n",
       "      <td>0.03</td>\n",
       "      <td>0.14</td>\n",
       "      <td>0.14</td>\n",
       "      <td>0.09</td>\n",
       "      <td>0.59</td>\n",
       "    </tr>\n",
       "    <tr>\n",
       "      <th>POLAND</th>\n",
       "      <td>0.04</td>\n",
       "      <td>0.17</td>\n",
       "      <td>0.15</td>\n",
       "      <td>0.08</td>\n",
       "      <td>0.56</td>\n",
       "    </tr>\n",
       "    <tr>\n",
       "      <th>HUNGARY</th>\n",
       "      <td>0.05</td>\n",
       "      <td>0.19</td>\n",
       "      <td>0.17</td>\n",
       "      <td>0.09</td>\n",
       "      <td>0.50</td>\n",
       "    </tr>\n",
       "    <tr>\n",
       "      <th>ENGLAND</th>\n",
       "      <td>0.03</td>\n",
       "      <td>0.16</td>\n",
       "      <td>0.15</td>\n",
       "      <td>0.08</td>\n",
       "      <td>0.58</td>\n",
       "    </tr>\n",
       "    <tr>\n",
       "      <th>ITALY</th>\n",
       "      <td>0.03</td>\n",
       "      <td>0.15</td>\n",
       "      <td>0.14</td>\n",
       "      <td>0.09</td>\n",
       "      <td>0.59</td>\n",
       "    </tr>\n",
       "    <tr>\n",
       "      <th>PORTUGAL</th>\n",
       "      <td>0.04</td>\n",
       "      <td>0.15</td>\n",
       "      <td>0.13</td>\n",
       "      <td>0.08</td>\n",
       "      <td>0.60</td>\n",
       "    </tr>\n",
       "    <tr>\n",
       "      <th>GERMANY</th>\n",
       "      <td>0.03</td>\n",
       "      <td>0.15</td>\n",
       "      <td>0.13</td>\n",
       "      <td>0.10</td>\n",
       "      <td>0.59</td>\n",
       "    </tr>\n",
       "    <tr>\n",
       "      <th>SCOTLAND</th>\n",
       "      <td>0.02</td>\n",
       "      <td>0.13</td>\n",
       "      <td>0.11</td>\n",
       "      <td>0.09</td>\n",
       "      <td>0.66</td>\n",
       "    </tr>\n",
       "    <tr>\n",
       "      <th>UKRAINE</th>\n",
       "      <td>0.03</td>\n",
       "      <td>0.15</td>\n",
       "      <td>0.14</td>\n",
       "      <td>0.09</td>\n",
       "      <td>0.59</td>\n",
       "    </tr>\n",
       "    <tr>\n",
       "      <th>DENMARK</th>\n",
       "      <td>0.02</td>\n",
       "      <td>0.15</td>\n",
       "      <td>0.13</td>\n",
       "      <td>0.09</td>\n",
       "      <td>0.60</td>\n",
       "    </tr>\n",
       "  </tbody>\n",
       "</table>\n",
       "</div>"
      ],
      "text/plain": [
       "                       ABAB  ABAC  ABCB  ABCA  ABCD\n",
       "FINLAND                0.05  0.16  0.17  0.09  0.53\n",
       "CZECH_REPUBLIC         0.04  0.17  0.14  0.09  0.57\n",
       "AUSTRIA                0.03  0.15  0.13  0.08  0.62\n",
       "MACEDONIA_REPUBLIC_OF  0.04  0.15  0.13  0.07  0.60\n",
       "BELGIUM                0.03  0.14  0.13  0.08  0.62\n",
       "CROATIA                0.01  0.14  0.14  0.09  0.61\n",
       "SWEDEN                 0.02  0.14  0.13  0.07  0.64\n",
       "SWITZERLAND            0.03  0.14  0.13  0.08  0.61\n",
       "SPAIN                  0.02  0.14  0.14  0.08  0.62\n",
       "TURKEY                 0.03  0.15  0.13  0.09  0.60\n",
       "WALES                  0.02  0.14  0.12  0.09  0.64\n",
       "NETHERLANDS            0.04  0.17  0.15  0.10  0.53\n",
       "RUSSIA                 0.03  0.14  0.14  0.07  0.63\n",
       "SLOVAKIA               0.02  0.17  0.16  0.07  0.58\n",
       "FRANCE                 0.03  0.14  0.14  0.09  0.59\n",
       "POLAND                 0.04  0.17  0.15  0.08  0.56\n",
       "HUNGARY                0.05  0.19  0.17  0.09  0.50\n",
       "ENGLAND                0.03  0.16  0.15  0.08  0.58\n",
       "ITALY                  0.03  0.15  0.14  0.09  0.59\n",
       "PORTUGAL               0.04  0.15  0.13  0.08  0.60\n",
       "GERMANY                0.03  0.15  0.13  0.10  0.59\n",
       "SCOTLAND               0.02  0.13  0.11  0.09  0.66\n",
       "UKRAINE                0.03  0.15  0.14  0.09  0.59\n",
       "DENMARK                0.02  0.15  0.13  0.09  0.60"
      ]
     },
     "execution_count": 77,
     "metadata": {},
     "output_type": "execute_result"
    }
   ],
   "source": [
    "import pandas as pd\n",
    "\n",
    "df = pd.DataFrame(percentage).T\n",
    "df"
   ]
  },
  {
   "cell_type": "code",
   "execution_count": 78,
   "metadata": {},
   "outputs": [
    {
     "data": {
      "application/vnd.plotly.v1+json": {
       "config": {
        "plotlyServerURL": "https://plot.ly"
       },
       "data": [
        {
         "diagonal": {
          "visible": true
         },
         "dimensions": [
          {
           "axis": {
            "matches": true
           },
           "label": "ABAB",
           "values": [
            0.05
           ]
          },
          {
           "axis": {
            "matches": true
           },
           "label": "ABAC",
           "values": [
            0.16
           ]
          },
          {
           "axis": {
            "matches": true
           },
           "label": "ABCB",
           "values": [
            0.17
           ]
          },
          {
           "axis": {
            "matches": true
           },
           "label": "ABCA",
           "values": [
            0.09
           ]
          },
          {
           "axis": {
            "matches": true
           },
           "label": "ABCD",
           "values": [
            0.53
           ]
          }
         ],
         "hovertemplate": "index=FINLAND<br>%{xaxis.title.text}=%{x}<br>%{yaxis.title.text}=%{y}<extra></extra>",
         "legendgroup": "FINLAND",
         "marker": {
          "color": "#636efa",
          "symbol": "circle"
         },
         "name": "FINLAND",
         "showlegend": true,
         "type": "splom"
        },
        {
         "diagonal": {
          "visible": true
         },
         "dimensions": [
          {
           "axis": {
            "matches": true
           },
           "label": "ABAB",
           "values": [
            0.04
           ]
          },
          {
           "axis": {
            "matches": true
           },
           "label": "ABAC",
           "values": [
            0.17
           ]
          },
          {
           "axis": {
            "matches": true
           },
           "label": "ABCB",
           "values": [
            0.14
           ]
          },
          {
           "axis": {
            "matches": true
           },
           "label": "ABCA",
           "values": [
            0.09
           ]
          },
          {
           "axis": {
            "matches": true
           },
           "label": "ABCD",
           "values": [
            0.57
           ]
          }
         ],
         "hovertemplate": "index=CZECH_REPUBLIC<br>%{xaxis.title.text}=%{x}<br>%{yaxis.title.text}=%{y}<extra></extra>",
         "legendgroup": "CZECH_REPUBLIC",
         "marker": {
          "color": "#EF553B",
          "symbol": "circle"
         },
         "name": "CZECH_REPUBLIC",
         "showlegend": true,
         "type": "splom"
        },
        {
         "diagonal": {
          "visible": true
         },
         "dimensions": [
          {
           "axis": {
            "matches": true
           },
           "label": "ABAB",
           "values": [
            0.03
           ]
          },
          {
           "axis": {
            "matches": true
           },
           "label": "ABAC",
           "values": [
            0.15
           ]
          },
          {
           "axis": {
            "matches": true
           },
           "label": "ABCB",
           "values": [
            0.13
           ]
          },
          {
           "axis": {
            "matches": true
           },
           "label": "ABCA",
           "values": [
            0.08
           ]
          },
          {
           "axis": {
            "matches": true
           },
           "label": "ABCD",
           "values": [
            0.62
           ]
          }
         ],
         "hovertemplate": "index=AUSTRIA<br>%{xaxis.title.text}=%{x}<br>%{yaxis.title.text}=%{y}<extra></extra>",
         "legendgroup": "AUSTRIA",
         "marker": {
          "color": "#00cc96",
          "symbol": "circle"
         },
         "name": "AUSTRIA",
         "showlegend": true,
         "type": "splom"
        },
        {
         "diagonal": {
          "visible": true
         },
         "dimensions": [
          {
           "axis": {
            "matches": true
           },
           "label": "ABAB",
           "values": [
            0.04
           ]
          },
          {
           "axis": {
            "matches": true
           },
           "label": "ABAC",
           "values": [
            0.15
           ]
          },
          {
           "axis": {
            "matches": true
           },
           "label": "ABCB",
           "values": [
            0.13
           ]
          },
          {
           "axis": {
            "matches": true
           },
           "label": "ABCA",
           "values": [
            0.07
           ]
          },
          {
           "axis": {
            "matches": true
           },
           "label": "ABCD",
           "values": [
            0.6
           ]
          }
         ],
         "hovertemplate": "index=MACEDONIA_REPUBLIC_OF<br>%{xaxis.title.text}=%{x}<br>%{yaxis.title.text}=%{y}<extra></extra>",
         "legendgroup": "MACEDONIA_REPUBLIC_OF",
         "marker": {
          "color": "#ab63fa",
          "symbol": "circle"
         },
         "name": "MACEDONIA_REPUBLIC_OF",
         "showlegend": true,
         "type": "splom"
        },
        {
         "diagonal": {
          "visible": true
         },
         "dimensions": [
          {
           "axis": {
            "matches": true
           },
           "label": "ABAB",
           "values": [
            0.03
           ]
          },
          {
           "axis": {
            "matches": true
           },
           "label": "ABAC",
           "values": [
            0.14
           ]
          },
          {
           "axis": {
            "matches": true
           },
           "label": "ABCB",
           "values": [
            0.13
           ]
          },
          {
           "axis": {
            "matches": true
           },
           "label": "ABCA",
           "values": [
            0.08
           ]
          },
          {
           "axis": {
            "matches": true
           },
           "label": "ABCD",
           "values": [
            0.62
           ]
          }
         ],
         "hovertemplate": "index=BELGIUM<br>%{xaxis.title.text}=%{x}<br>%{yaxis.title.text}=%{y}<extra></extra>",
         "legendgroup": "BELGIUM",
         "marker": {
          "color": "#FFA15A",
          "symbol": "circle"
         },
         "name": "BELGIUM",
         "showlegend": true,
         "type": "splom"
        },
        {
         "diagonal": {
          "visible": true
         },
         "dimensions": [
          {
           "axis": {
            "matches": true
           },
           "label": "ABAB",
           "values": [
            0.01
           ]
          },
          {
           "axis": {
            "matches": true
           },
           "label": "ABAC",
           "values": [
            0.14
           ]
          },
          {
           "axis": {
            "matches": true
           },
           "label": "ABCB",
           "values": [
            0.14
           ]
          },
          {
           "axis": {
            "matches": true
           },
           "label": "ABCA",
           "values": [
            0.09
           ]
          },
          {
           "axis": {
            "matches": true
           },
           "label": "ABCD",
           "values": [
            0.61
           ]
          }
         ],
         "hovertemplate": "index=CROATIA<br>%{xaxis.title.text}=%{x}<br>%{yaxis.title.text}=%{y}<extra></extra>",
         "legendgroup": "CROATIA",
         "marker": {
          "color": "#19d3f3",
          "symbol": "circle"
         },
         "name": "CROATIA",
         "showlegend": true,
         "type": "splom"
        },
        {
         "diagonal": {
          "visible": true
         },
         "dimensions": [
          {
           "axis": {
            "matches": true
           },
           "label": "ABAB",
           "values": [
            0.02
           ]
          },
          {
           "axis": {
            "matches": true
           },
           "label": "ABAC",
           "values": [
            0.14
           ]
          },
          {
           "axis": {
            "matches": true
           },
           "label": "ABCB",
           "values": [
            0.13
           ]
          },
          {
           "axis": {
            "matches": true
           },
           "label": "ABCA",
           "values": [
            0.07
           ]
          },
          {
           "axis": {
            "matches": true
           },
           "label": "ABCD",
           "values": [
            0.64
           ]
          }
         ],
         "hovertemplate": "index=SWEDEN<br>%{xaxis.title.text}=%{x}<br>%{yaxis.title.text}=%{y}<extra></extra>",
         "legendgroup": "SWEDEN",
         "marker": {
          "color": "#FF6692",
          "symbol": "circle"
         },
         "name": "SWEDEN",
         "showlegend": true,
         "type": "splom"
        },
        {
         "diagonal": {
          "visible": true
         },
         "dimensions": [
          {
           "axis": {
            "matches": true
           },
           "label": "ABAB",
           "values": [
            0.03
           ]
          },
          {
           "axis": {
            "matches": true
           },
           "label": "ABAC",
           "values": [
            0.14
           ]
          },
          {
           "axis": {
            "matches": true
           },
           "label": "ABCB",
           "values": [
            0.13
           ]
          },
          {
           "axis": {
            "matches": true
           },
           "label": "ABCA",
           "values": [
            0.08
           ]
          },
          {
           "axis": {
            "matches": true
           },
           "label": "ABCD",
           "values": [
            0.61
           ]
          }
         ],
         "hovertemplate": "index=SWITZERLAND<br>%{xaxis.title.text}=%{x}<br>%{yaxis.title.text}=%{y}<extra></extra>",
         "legendgroup": "SWITZERLAND",
         "marker": {
          "color": "#B6E880",
          "symbol": "circle"
         },
         "name": "SWITZERLAND",
         "showlegend": true,
         "type": "splom"
        },
        {
         "diagonal": {
          "visible": true
         },
         "dimensions": [
          {
           "axis": {
            "matches": true
           },
           "label": "ABAB",
           "values": [
            0.02
           ]
          },
          {
           "axis": {
            "matches": true
           },
           "label": "ABAC",
           "values": [
            0.14
           ]
          },
          {
           "axis": {
            "matches": true
           },
           "label": "ABCB",
           "values": [
            0.14
           ]
          },
          {
           "axis": {
            "matches": true
           },
           "label": "ABCA",
           "values": [
            0.08
           ]
          },
          {
           "axis": {
            "matches": true
           },
           "label": "ABCD",
           "values": [
            0.62
           ]
          }
         ],
         "hovertemplate": "index=SPAIN<br>%{xaxis.title.text}=%{x}<br>%{yaxis.title.text}=%{y}<extra></extra>",
         "legendgroup": "SPAIN",
         "marker": {
          "color": "#FF97FF",
          "symbol": "circle"
         },
         "name": "SPAIN",
         "showlegend": true,
         "type": "splom"
        },
        {
         "diagonal": {
          "visible": true
         },
         "dimensions": [
          {
           "axis": {
            "matches": true
           },
           "label": "ABAB",
           "values": [
            0.03
           ]
          },
          {
           "axis": {
            "matches": true
           },
           "label": "ABAC",
           "values": [
            0.15
           ]
          },
          {
           "axis": {
            "matches": true
           },
           "label": "ABCB",
           "values": [
            0.13
           ]
          },
          {
           "axis": {
            "matches": true
           },
           "label": "ABCA",
           "values": [
            0.09
           ]
          },
          {
           "axis": {
            "matches": true
           },
           "label": "ABCD",
           "values": [
            0.6
           ]
          }
         ],
         "hovertemplate": "index=TURKEY<br>%{xaxis.title.text}=%{x}<br>%{yaxis.title.text}=%{y}<extra></extra>",
         "legendgroup": "TURKEY",
         "marker": {
          "color": "#FECB52",
          "symbol": "circle"
         },
         "name": "TURKEY",
         "showlegend": true,
         "type": "splom"
        },
        {
         "diagonal": {
          "visible": true
         },
         "dimensions": [
          {
           "axis": {
            "matches": true
           },
           "label": "ABAB",
           "values": [
            0.02
           ]
          },
          {
           "axis": {
            "matches": true
           },
           "label": "ABAC",
           "values": [
            0.14
           ]
          },
          {
           "axis": {
            "matches": true
           },
           "label": "ABCB",
           "values": [
            0.12
           ]
          },
          {
           "axis": {
            "matches": true
           },
           "label": "ABCA",
           "values": [
            0.09
           ]
          },
          {
           "axis": {
            "matches": true
           },
           "label": "ABCD",
           "values": [
            0.64
           ]
          }
         ],
         "hovertemplate": "index=WALES<br>%{xaxis.title.text}=%{x}<br>%{yaxis.title.text}=%{y}<extra></extra>",
         "legendgroup": "WALES",
         "marker": {
          "color": "#636efa",
          "symbol": "circle"
         },
         "name": "WALES",
         "showlegend": true,
         "type": "splom"
        },
        {
         "diagonal": {
          "visible": true
         },
         "dimensions": [
          {
           "axis": {
            "matches": true
           },
           "label": "ABAB",
           "values": [
            0.04
           ]
          },
          {
           "axis": {
            "matches": true
           },
           "label": "ABAC",
           "values": [
            0.17
           ]
          },
          {
           "axis": {
            "matches": true
           },
           "label": "ABCB",
           "values": [
            0.15
           ]
          },
          {
           "axis": {
            "matches": true
           },
           "label": "ABCA",
           "values": [
            0.1
           ]
          },
          {
           "axis": {
            "matches": true
           },
           "label": "ABCD",
           "values": [
            0.53
           ]
          }
         ],
         "hovertemplate": "index=NETHERLANDS<br>%{xaxis.title.text}=%{x}<br>%{yaxis.title.text}=%{y}<extra></extra>",
         "legendgroup": "NETHERLANDS",
         "marker": {
          "color": "#EF553B",
          "symbol": "circle"
         },
         "name": "NETHERLANDS",
         "showlegend": true,
         "type": "splom"
        },
        {
         "diagonal": {
          "visible": true
         },
         "dimensions": [
          {
           "axis": {
            "matches": true
           },
           "label": "ABAB",
           "values": [
            0.03
           ]
          },
          {
           "axis": {
            "matches": true
           },
           "label": "ABAC",
           "values": [
            0.14
           ]
          },
          {
           "axis": {
            "matches": true
           },
           "label": "ABCB",
           "values": [
            0.14
           ]
          },
          {
           "axis": {
            "matches": true
           },
           "label": "ABCA",
           "values": [
            0.07
           ]
          },
          {
           "axis": {
            "matches": true
           },
           "label": "ABCD",
           "values": [
            0.63
           ]
          }
         ],
         "hovertemplate": "index=RUSSIA<br>%{xaxis.title.text}=%{x}<br>%{yaxis.title.text}=%{y}<extra></extra>",
         "legendgroup": "RUSSIA",
         "marker": {
          "color": "#00cc96",
          "symbol": "circle"
         },
         "name": "RUSSIA",
         "showlegend": true,
         "type": "splom"
        },
        {
         "diagonal": {
          "visible": true
         },
         "dimensions": [
          {
           "axis": {
            "matches": true
           },
           "label": "ABAB",
           "values": [
            0.02
           ]
          },
          {
           "axis": {
            "matches": true
           },
           "label": "ABAC",
           "values": [
            0.17
           ]
          },
          {
           "axis": {
            "matches": true
           },
           "label": "ABCB",
           "values": [
            0.16
           ]
          },
          {
           "axis": {
            "matches": true
           },
           "label": "ABCA",
           "values": [
            0.07
           ]
          },
          {
           "axis": {
            "matches": true
           },
           "label": "ABCD",
           "values": [
            0.58
           ]
          }
         ],
         "hovertemplate": "index=SLOVAKIA<br>%{xaxis.title.text}=%{x}<br>%{yaxis.title.text}=%{y}<extra></extra>",
         "legendgroup": "SLOVAKIA",
         "marker": {
          "color": "#ab63fa",
          "symbol": "circle"
         },
         "name": "SLOVAKIA",
         "showlegend": true,
         "type": "splom"
        },
        {
         "diagonal": {
          "visible": true
         },
         "dimensions": [
          {
           "axis": {
            "matches": true
           },
           "label": "ABAB",
           "values": [
            0.03
           ]
          },
          {
           "axis": {
            "matches": true
           },
           "label": "ABAC",
           "values": [
            0.14
           ]
          },
          {
           "axis": {
            "matches": true
           },
           "label": "ABCB",
           "values": [
            0.14
           ]
          },
          {
           "axis": {
            "matches": true
           },
           "label": "ABCA",
           "values": [
            0.09
           ]
          },
          {
           "axis": {
            "matches": true
           },
           "label": "ABCD",
           "values": [
            0.59
           ]
          }
         ],
         "hovertemplate": "index=FRANCE<br>%{xaxis.title.text}=%{x}<br>%{yaxis.title.text}=%{y}<extra></extra>",
         "legendgroup": "FRANCE",
         "marker": {
          "color": "#FFA15A",
          "symbol": "circle"
         },
         "name": "FRANCE",
         "showlegend": true,
         "type": "splom"
        },
        {
         "diagonal": {
          "visible": true
         },
         "dimensions": [
          {
           "axis": {
            "matches": true
           },
           "label": "ABAB",
           "values": [
            0.04
           ]
          },
          {
           "axis": {
            "matches": true
           },
           "label": "ABAC",
           "values": [
            0.17
           ]
          },
          {
           "axis": {
            "matches": true
           },
           "label": "ABCB",
           "values": [
            0.15
           ]
          },
          {
           "axis": {
            "matches": true
           },
           "label": "ABCA",
           "values": [
            0.08
           ]
          },
          {
           "axis": {
            "matches": true
           },
           "label": "ABCD",
           "values": [
            0.56
           ]
          }
         ],
         "hovertemplate": "index=POLAND<br>%{xaxis.title.text}=%{x}<br>%{yaxis.title.text}=%{y}<extra></extra>",
         "legendgroup": "POLAND",
         "marker": {
          "color": "#19d3f3",
          "symbol": "circle"
         },
         "name": "POLAND",
         "showlegend": true,
         "type": "splom"
        },
        {
         "diagonal": {
          "visible": true
         },
         "dimensions": [
          {
           "axis": {
            "matches": true
           },
           "label": "ABAB",
           "values": [
            0.05
           ]
          },
          {
           "axis": {
            "matches": true
           },
           "label": "ABAC",
           "values": [
            0.19
           ]
          },
          {
           "axis": {
            "matches": true
           },
           "label": "ABCB",
           "values": [
            0.17
           ]
          },
          {
           "axis": {
            "matches": true
           },
           "label": "ABCA",
           "values": [
            0.09
           ]
          },
          {
           "axis": {
            "matches": true
           },
           "label": "ABCD",
           "values": [
            0.5
           ]
          }
         ],
         "hovertemplate": "index=HUNGARY<br>%{xaxis.title.text}=%{x}<br>%{yaxis.title.text}=%{y}<extra></extra>",
         "legendgroup": "HUNGARY",
         "marker": {
          "color": "#FF6692",
          "symbol": "circle"
         },
         "name": "HUNGARY",
         "showlegend": true,
         "type": "splom"
        },
        {
         "diagonal": {
          "visible": true
         },
         "dimensions": [
          {
           "axis": {
            "matches": true
           },
           "label": "ABAB",
           "values": [
            0.03
           ]
          },
          {
           "axis": {
            "matches": true
           },
           "label": "ABAC",
           "values": [
            0.16
           ]
          },
          {
           "axis": {
            "matches": true
           },
           "label": "ABCB",
           "values": [
            0.15
           ]
          },
          {
           "axis": {
            "matches": true
           },
           "label": "ABCA",
           "values": [
            0.08
           ]
          },
          {
           "axis": {
            "matches": true
           },
           "label": "ABCD",
           "values": [
            0.58
           ]
          }
         ],
         "hovertemplate": "index=ENGLAND<br>%{xaxis.title.text}=%{x}<br>%{yaxis.title.text}=%{y}<extra></extra>",
         "legendgroup": "ENGLAND",
         "marker": {
          "color": "#B6E880",
          "symbol": "circle"
         },
         "name": "ENGLAND",
         "showlegend": true,
         "type": "splom"
        },
        {
         "diagonal": {
          "visible": true
         },
         "dimensions": [
          {
           "axis": {
            "matches": true
           },
           "label": "ABAB",
           "values": [
            0.03
           ]
          },
          {
           "axis": {
            "matches": true
           },
           "label": "ABAC",
           "values": [
            0.15
           ]
          },
          {
           "axis": {
            "matches": true
           },
           "label": "ABCB",
           "values": [
            0.14
           ]
          },
          {
           "axis": {
            "matches": true
           },
           "label": "ABCA",
           "values": [
            0.09
           ]
          },
          {
           "axis": {
            "matches": true
           },
           "label": "ABCD",
           "values": [
            0.59
           ]
          }
         ],
         "hovertemplate": "index=ITALY<br>%{xaxis.title.text}=%{x}<br>%{yaxis.title.text}=%{y}<extra></extra>",
         "legendgroup": "ITALY",
         "marker": {
          "color": "#FF97FF",
          "symbol": "circle"
         },
         "name": "ITALY",
         "showlegend": true,
         "type": "splom"
        },
        {
         "diagonal": {
          "visible": true
         },
         "dimensions": [
          {
           "axis": {
            "matches": true
           },
           "label": "ABAB",
           "values": [
            0.04
           ]
          },
          {
           "axis": {
            "matches": true
           },
           "label": "ABAC",
           "values": [
            0.15
           ]
          },
          {
           "axis": {
            "matches": true
           },
           "label": "ABCB",
           "values": [
            0.13
           ]
          },
          {
           "axis": {
            "matches": true
           },
           "label": "ABCA",
           "values": [
            0.08
           ]
          },
          {
           "axis": {
            "matches": true
           },
           "label": "ABCD",
           "values": [
            0.6
           ]
          }
         ],
         "hovertemplate": "index=PORTUGAL<br>%{xaxis.title.text}=%{x}<br>%{yaxis.title.text}=%{y}<extra></extra>",
         "legendgroup": "PORTUGAL",
         "marker": {
          "color": "#FECB52",
          "symbol": "circle"
         },
         "name": "PORTUGAL",
         "showlegend": true,
         "type": "splom"
        },
        {
         "diagonal": {
          "visible": true
         },
         "dimensions": [
          {
           "axis": {
            "matches": true
           },
           "label": "ABAB",
           "values": [
            0.03
           ]
          },
          {
           "axis": {
            "matches": true
           },
           "label": "ABAC",
           "values": [
            0.15
           ]
          },
          {
           "axis": {
            "matches": true
           },
           "label": "ABCB",
           "values": [
            0.13
           ]
          },
          {
           "axis": {
            "matches": true
           },
           "label": "ABCA",
           "values": [
            0.1
           ]
          },
          {
           "axis": {
            "matches": true
           },
           "label": "ABCD",
           "values": [
            0.59
           ]
          }
         ],
         "hovertemplate": "index=GERMANY<br>%{xaxis.title.text}=%{x}<br>%{yaxis.title.text}=%{y}<extra></extra>",
         "legendgroup": "GERMANY",
         "marker": {
          "color": "#636efa",
          "symbol": "circle"
         },
         "name": "GERMANY",
         "showlegend": true,
         "type": "splom"
        },
        {
         "diagonal": {
          "visible": true
         },
         "dimensions": [
          {
           "axis": {
            "matches": true
           },
           "label": "ABAB",
           "values": [
            0.02
           ]
          },
          {
           "axis": {
            "matches": true
           },
           "label": "ABAC",
           "values": [
            0.13
           ]
          },
          {
           "axis": {
            "matches": true
           },
           "label": "ABCB",
           "values": [
            0.11
           ]
          },
          {
           "axis": {
            "matches": true
           },
           "label": "ABCA",
           "values": [
            0.09
           ]
          },
          {
           "axis": {
            "matches": true
           },
           "label": "ABCD",
           "values": [
            0.66
           ]
          }
         ],
         "hovertemplate": "index=SCOTLAND<br>%{xaxis.title.text}=%{x}<br>%{yaxis.title.text}=%{y}<extra></extra>",
         "legendgroup": "SCOTLAND",
         "marker": {
          "color": "#EF553B",
          "symbol": "circle"
         },
         "name": "SCOTLAND",
         "showlegend": true,
         "type": "splom"
        },
        {
         "diagonal": {
          "visible": true
         },
         "dimensions": [
          {
           "axis": {
            "matches": true
           },
           "label": "ABAB",
           "values": [
            0.03
           ]
          },
          {
           "axis": {
            "matches": true
           },
           "label": "ABAC",
           "values": [
            0.15
           ]
          },
          {
           "axis": {
            "matches": true
           },
           "label": "ABCB",
           "values": [
            0.14
           ]
          },
          {
           "axis": {
            "matches": true
           },
           "label": "ABCA",
           "values": [
            0.09
           ]
          },
          {
           "axis": {
            "matches": true
           },
           "label": "ABCD",
           "values": [
            0.59
           ]
          }
         ],
         "hovertemplate": "index=UKRAINE<br>%{xaxis.title.text}=%{x}<br>%{yaxis.title.text}=%{y}<extra></extra>",
         "legendgroup": "UKRAINE",
         "marker": {
          "color": "#00cc96",
          "symbol": "circle"
         },
         "name": "UKRAINE",
         "showlegend": true,
         "type": "splom"
        },
        {
         "diagonal": {
          "visible": true
         },
         "dimensions": [
          {
           "axis": {
            "matches": true
           },
           "label": "ABAB",
           "values": [
            0.02
           ]
          },
          {
           "axis": {
            "matches": true
           },
           "label": "ABAC",
           "values": [
            0.15
           ]
          },
          {
           "axis": {
            "matches": true
           },
           "label": "ABCB",
           "values": [
            0.13
           ]
          },
          {
           "axis": {
            "matches": true
           },
           "label": "ABCA",
           "values": [
            0.09
           ]
          },
          {
           "axis": {
            "matches": true
           },
           "label": "ABCD",
           "values": [
            0.6
           ]
          }
         ],
         "hovertemplate": "index=DENMARK<br>%{xaxis.title.text}=%{x}<br>%{yaxis.title.text}=%{y}<extra></extra>",
         "legendgroup": "DENMARK",
         "marker": {
          "color": "#ab63fa",
          "symbol": "circle"
         },
         "name": "DENMARK",
         "showlegend": true,
         "type": "splom"
        }
       ],
       "layout": {
        "dragmode": "select",
        "legend": {
         "title": {
          "text": "index"
         },
         "tracegroupgap": 0
        },
        "margin": {
         "t": 60
        },
        "template": {
         "data": {
          "bar": [
           {
            "error_x": {
             "color": "#2a3f5f"
            },
            "error_y": {
             "color": "#2a3f5f"
            },
            "marker": {
             "line": {
              "color": "#E5ECF6",
              "width": 0.5
             }
            },
            "type": "bar"
           }
          ],
          "barpolar": [
           {
            "marker": {
             "line": {
              "color": "#E5ECF6",
              "width": 0.5
             }
            },
            "type": "barpolar"
           }
          ],
          "carpet": [
           {
            "aaxis": {
             "endlinecolor": "#2a3f5f",
             "gridcolor": "white",
             "linecolor": "white",
             "minorgridcolor": "white",
             "startlinecolor": "#2a3f5f"
            },
            "baxis": {
             "endlinecolor": "#2a3f5f",
             "gridcolor": "white",
             "linecolor": "white",
             "minorgridcolor": "white",
             "startlinecolor": "#2a3f5f"
            },
            "type": "carpet"
           }
          ],
          "choropleth": [
           {
            "colorbar": {
             "outlinewidth": 0,
             "ticks": ""
            },
            "type": "choropleth"
           }
          ],
          "contour": [
           {
            "colorbar": {
             "outlinewidth": 0,
             "ticks": ""
            },
            "colorscale": [
             [
              0,
              "#0d0887"
             ],
             [
              0.1111111111111111,
              "#46039f"
             ],
             [
              0.2222222222222222,
              "#7201a8"
             ],
             [
              0.3333333333333333,
              "#9c179e"
             ],
             [
              0.4444444444444444,
              "#bd3786"
             ],
             [
              0.5555555555555556,
              "#d8576b"
             ],
             [
              0.6666666666666666,
              "#ed7953"
             ],
             [
              0.7777777777777778,
              "#fb9f3a"
             ],
             [
              0.8888888888888888,
              "#fdca26"
             ],
             [
              1,
              "#f0f921"
             ]
            ],
            "type": "contour"
           }
          ],
          "contourcarpet": [
           {
            "colorbar": {
             "outlinewidth": 0,
             "ticks": ""
            },
            "type": "contourcarpet"
           }
          ],
          "heatmap": [
           {
            "colorbar": {
             "outlinewidth": 0,
             "ticks": ""
            },
            "colorscale": [
             [
              0,
              "#0d0887"
             ],
             [
              0.1111111111111111,
              "#46039f"
             ],
             [
              0.2222222222222222,
              "#7201a8"
             ],
             [
              0.3333333333333333,
              "#9c179e"
             ],
             [
              0.4444444444444444,
              "#bd3786"
             ],
             [
              0.5555555555555556,
              "#d8576b"
             ],
             [
              0.6666666666666666,
              "#ed7953"
             ],
             [
              0.7777777777777778,
              "#fb9f3a"
             ],
             [
              0.8888888888888888,
              "#fdca26"
             ],
             [
              1,
              "#f0f921"
             ]
            ],
            "type": "heatmap"
           }
          ],
          "heatmapgl": [
           {
            "colorbar": {
             "outlinewidth": 0,
             "ticks": ""
            },
            "colorscale": [
             [
              0,
              "#0d0887"
             ],
             [
              0.1111111111111111,
              "#46039f"
             ],
             [
              0.2222222222222222,
              "#7201a8"
             ],
             [
              0.3333333333333333,
              "#9c179e"
             ],
             [
              0.4444444444444444,
              "#bd3786"
             ],
             [
              0.5555555555555556,
              "#d8576b"
             ],
             [
              0.6666666666666666,
              "#ed7953"
             ],
             [
              0.7777777777777778,
              "#fb9f3a"
             ],
             [
              0.8888888888888888,
              "#fdca26"
             ],
             [
              1,
              "#f0f921"
             ]
            ],
            "type": "heatmapgl"
           }
          ],
          "histogram": [
           {
            "marker": {
             "colorbar": {
              "outlinewidth": 0,
              "ticks": ""
             }
            },
            "type": "histogram"
           }
          ],
          "histogram2d": [
           {
            "colorbar": {
             "outlinewidth": 0,
             "ticks": ""
            },
            "colorscale": [
             [
              0,
              "#0d0887"
             ],
             [
              0.1111111111111111,
              "#46039f"
             ],
             [
              0.2222222222222222,
              "#7201a8"
             ],
             [
              0.3333333333333333,
              "#9c179e"
             ],
             [
              0.4444444444444444,
              "#bd3786"
             ],
             [
              0.5555555555555556,
              "#d8576b"
             ],
             [
              0.6666666666666666,
              "#ed7953"
             ],
             [
              0.7777777777777778,
              "#fb9f3a"
             ],
             [
              0.8888888888888888,
              "#fdca26"
             ],
             [
              1,
              "#f0f921"
             ]
            ],
            "type": "histogram2d"
           }
          ],
          "histogram2dcontour": [
           {
            "colorbar": {
             "outlinewidth": 0,
             "ticks": ""
            },
            "colorscale": [
             [
              0,
              "#0d0887"
             ],
             [
              0.1111111111111111,
              "#46039f"
             ],
             [
              0.2222222222222222,
              "#7201a8"
             ],
             [
              0.3333333333333333,
              "#9c179e"
             ],
             [
              0.4444444444444444,
              "#bd3786"
             ],
             [
              0.5555555555555556,
              "#d8576b"
             ],
             [
              0.6666666666666666,
              "#ed7953"
             ],
             [
              0.7777777777777778,
              "#fb9f3a"
             ],
             [
              0.8888888888888888,
              "#fdca26"
             ],
             [
              1,
              "#f0f921"
             ]
            ],
            "type": "histogram2dcontour"
           }
          ],
          "mesh3d": [
           {
            "colorbar": {
             "outlinewidth": 0,
             "ticks": ""
            },
            "type": "mesh3d"
           }
          ],
          "parcoords": [
           {
            "line": {
             "colorbar": {
              "outlinewidth": 0,
              "ticks": ""
             }
            },
            "type": "parcoords"
           }
          ],
          "pie": [
           {
            "automargin": true,
            "type": "pie"
           }
          ],
          "scatter": [
           {
            "marker": {
             "colorbar": {
              "outlinewidth": 0,
              "ticks": ""
             }
            },
            "type": "scatter"
           }
          ],
          "scatter3d": [
           {
            "line": {
             "colorbar": {
              "outlinewidth": 0,
              "ticks": ""
             }
            },
            "marker": {
             "colorbar": {
              "outlinewidth": 0,
              "ticks": ""
             }
            },
            "type": "scatter3d"
           }
          ],
          "scattercarpet": [
           {
            "marker": {
             "colorbar": {
              "outlinewidth": 0,
              "ticks": ""
             }
            },
            "type": "scattercarpet"
           }
          ],
          "scattergeo": [
           {
            "marker": {
             "colorbar": {
              "outlinewidth": 0,
              "ticks": ""
             }
            },
            "type": "scattergeo"
           }
          ],
          "scattergl": [
           {
            "marker": {
             "colorbar": {
              "outlinewidth": 0,
              "ticks": ""
             }
            },
            "type": "scattergl"
           }
          ],
          "scattermapbox": [
           {
            "marker": {
             "colorbar": {
              "outlinewidth": 0,
              "ticks": ""
             }
            },
            "type": "scattermapbox"
           }
          ],
          "scatterpolar": [
           {
            "marker": {
             "colorbar": {
              "outlinewidth": 0,
              "ticks": ""
             }
            },
            "type": "scatterpolar"
           }
          ],
          "scatterpolargl": [
           {
            "marker": {
             "colorbar": {
              "outlinewidth": 0,
              "ticks": ""
             }
            },
            "type": "scatterpolargl"
           }
          ],
          "scatterternary": [
           {
            "marker": {
             "colorbar": {
              "outlinewidth": 0,
              "ticks": ""
             }
            },
            "type": "scatterternary"
           }
          ],
          "surface": [
           {
            "colorbar": {
             "outlinewidth": 0,
             "ticks": ""
            },
            "colorscale": [
             [
              0,
              "#0d0887"
             ],
             [
              0.1111111111111111,
              "#46039f"
             ],
             [
              0.2222222222222222,
              "#7201a8"
             ],
             [
              0.3333333333333333,
              "#9c179e"
             ],
             [
              0.4444444444444444,
              "#bd3786"
             ],
             [
              0.5555555555555556,
              "#d8576b"
             ],
             [
              0.6666666666666666,
              "#ed7953"
             ],
             [
              0.7777777777777778,
              "#fb9f3a"
             ],
             [
              0.8888888888888888,
              "#fdca26"
             ],
             [
              1,
              "#f0f921"
             ]
            ],
            "type": "surface"
           }
          ],
          "table": [
           {
            "cells": {
             "fill": {
              "color": "#EBF0F8"
             },
             "line": {
              "color": "white"
             }
            },
            "header": {
             "fill": {
              "color": "#C8D4E3"
             },
             "line": {
              "color": "white"
             }
            },
            "type": "table"
           }
          ]
         },
         "layout": {
          "annotationdefaults": {
           "arrowcolor": "#2a3f5f",
           "arrowhead": 0,
           "arrowwidth": 1
          },
          "autotypenumbers": "strict",
          "coloraxis": {
           "colorbar": {
            "outlinewidth": 0,
            "ticks": ""
           }
          },
          "colorscale": {
           "diverging": [
            [
             0,
             "#8e0152"
            ],
            [
             0.1,
             "#c51b7d"
            ],
            [
             0.2,
             "#de77ae"
            ],
            [
             0.3,
             "#f1b6da"
            ],
            [
             0.4,
             "#fde0ef"
            ],
            [
             0.5,
             "#f7f7f7"
            ],
            [
             0.6,
             "#e6f5d0"
            ],
            [
             0.7,
             "#b8e186"
            ],
            [
             0.8,
             "#7fbc41"
            ],
            [
             0.9,
             "#4d9221"
            ],
            [
             1,
             "#276419"
            ]
           ],
           "sequential": [
            [
             0,
             "#0d0887"
            ],
            [
             0.1111111111111111,
             "#46039f"
            ],
            [
             0.2222222222222222,
             "#7201a8"
            ],
            [
             0.3333333333333333,
             "#9c179e"
            ],
            [
             0.4444444444444444,
             "#bd3786"
            ],
            [
             0.5555555555555556,
             "#d8576b"
            ],
            [
             0.6666666666666666,
             "#ed7953"
            ],
            [
             0.7777777777777778,
             "#fb9f3a"
            ],
            [
             0.8888888888888888,
             "#fdca26"
            ],
            [
             1,
             "#f0f921"
            ]
           ],
           "sequentialminus": [
            [
             0,
             "#0d0887"
            ],
            [
             0.1111111111111111,
             "#46039f"
            ],
            [
             0.2222222222222222,
             "#7201a8"
            ],
            [
             0.3333333333333333,
             "#9c179e"
            ],
            [
             0.4444444444444444,
             "#bd3786"
            ],
            [
             0.5555555555555556,
             "#d8576b"
            ],
            [
             0.6666666666666666,
             "#ed7953"
            ],
            [
             0.7777777777777778,
             "#fb9f3a"
            ],
            [
             0.8888888888888888,
             "#fdca26"
            ],
            [
             1,
             "#f0f921"
            ]
           ]
          },
          "colorway": [
           "#636efa",
           "#EF553B",
           "#00cc96",
           "#ab63fa",
           "#FFA15A",
           "#19d3f3",
           "#FF6692",
           "#B6E880",
           "#FF97FF",
           "#FECB52"
          ],
          "font": {
           "color": "#2a3f5f"
          },
          "geo": {
           "bgcolor": "white",
           "lakecolor": "white",
           "landcolor": "#E5ECF6",
           "showlakes": true,
           "showland": true,
           "subunitcolor": "white"
          },
          "hoverlabel": {
           "align": "left"
          },
          "hovermode": "closest",
          "mapbox": {
           "style": "light"
          },
          "paper_bgcolor": "white",
          "plot_bgcolor": "#E5ECF6",
          "polar": {
           "angularaxis": {
            "gridcolor": "white",
            "linecolor": "white",
            "ticks": ""
           },
           "bgcolor": "#E5ECF6",
           "radialaxis": {
            "gridcolor": "white",
            "linecolor": "white",
            "ticks": ""
           }
          },
          "scene": {
           "xaxis": {
            "backgroundcolor": "#E5ECF6",
            "gridcolor": "white",
            "gridwidth": 2,
            "linecolor": "white",
            "showbackground": true,
            "ticks": "",
            "zerolinecolor": "white"
           },
           "yaxis": {
            "backgroundcolor": "#E5ECF6",
            "gridcolor": "white",
            "gridwidth": 2,
            "linecolor": "white",
            "showbackground": true,
            "ticks": "",
            "zerolinecolor": "white"
           },
           "zaxis": {
            "backgroundcolor": "#E5ECF6",
            "gridcolor": "white",
            "gridwidth": 2,
            "linecolor": "white",
            "showbackground": true,
            "ticks": "",
            "zerolinecolor": "white"
           }
          },
          "shapedefaults": {
           "line": {
            "color": "#2a3f5f"
           }
          },
          "ternary": {
           "aaxis": {
            "gridcolor": "white",
            "linecolor": "white",
            "ticks": ""
           },
           "baxis": {
            "gridcolor": "white",
            "linecolor": "white",
            "ticks": ""
           },
           "bgcolor": "#E5ECF6",
           "caxis": {
            "gridcolor": "white",
            "linecolor": "white",
            "ticks": ""
           }
          },
          "title": {
           "x": 0.05
          },
          "xaxis": {
           "automargin": true,
           "gridcolor": "white",
           "linecolor": "white",
           "ticks": "",
           "title": {
            "standoff": 15
           },
           "zerolinecolor": "white",
           "zerolinewidth": 2
          },
          "yaxis": {
           "automargin": true,
           "gridcolor": "white",
           "linecolor": "white",
           "ticks": "",
           "title": {
            "standoff": 15
           },
           "zerolinecolor": "white",
           "zerolinewidth": 2
          }
         }
        }
       }
      },
      "text/html": [
       "<div>                            <div id=\"41c47ee6-c228-4874-9429-cf82944d6bbd\" class=\"plotly-graph-div\" style=\"height:525px; width:100%;\"></div>            <script type=\"text/javascript\">                require([\"plotly\"], function(Plotly) {                    window.PLOTLYENV=window.PLOTLYENV || {};                                    if (document.getElementById(\"41c47ee6-c228-4874-9429-cf82944d6bbd\")) {                    Plotly.newPlot(                        \"41c47ee6-c228-4874-9429-cf82944d6bbd\",                        [{\"diagonal\": {\"visible\": true}, \"dimensions\": [{\"axis\": {\"matches\": true}, \"label\": \"ABAB\", \"values\": [0.05]}, {\"axis\": {\"matches\": true}, \"label\": \"ABAC\", \"values\": [0.16]}, {\"axis\": {\"matches\": true}, \"label\": \"ABCB\", \"values\": [0.17]}, {\"axis\": {\"matches\": true}, \"label\": \"ABCA\", \"values\": [0.09]}, {\"axis\": {\"matches\": true}, \"label\": \"ABCD\", \"values\": [0.53]}], \"hovertemplate\": \"index=FINLAND<br>%{xaxis.title.text}=%{x}<br>%{yaxis.title.text}=%{y}<extra></extra>\", \"legendgroup\": \"FINLAND\", \"marker\": {\"color\": \"#636efa\", \"symbol\": \"circle\"}, \"name\": \"FINLAND\", \"showlegend\": true, \"type\": \"splom\"}, {\"diagonal\": {\"visible\": true}, \"dimensions\": [{\"axis\": {\"matches\": true}, \"label\": \"ABAB\", \"values\": [0.04]}, {\"axis\": {\"matches\": true}, \"label\": \"ABAC\", \"values\": [0.17]}, {\"axis\": {\"matches\": true}, \"label\": \"ABCB\", \"values\": [0.14]}, {\"axis\": {\"matches\": true}, \"label\": \"ABCA\", \"values\": [0.09]}, {\"axis\": {\"matches\": true}, \"label\": \"ABCD\", \"values\": [0.57]}], \"hovertemplate\": \"index=CZECH_REPUBLIC<br>%{xaxis.title.text}=%{x}<br>%{yaxis.title.text}=%{y}<extra></extra>\", \"legendgroup\": \"CZECH_REPUBLIC\", \"marker\": {\"color\": \"#EF553B\", \"symbol\": \"circle\"}, \"name\": \"CZECH_REPUBLIC\", \"showlegend\": true, \"type\": \"splom\"}, {\"diagonal\": {\"visible\": true}, \"dimensions\": [{\"axis\": {\"matches\": true}, \"label\": \"ABAB\", \"values\": [0.03]}, {\"axis\": {\"matches\": true}, \"label\": \"ABAC\", \"values\": [0.15]}, {\"axis\": {\"matches\": true}, \"label\": \"ABCB\", \"values\": [0.13]}, {\"axis\": {\"matches\": true}, \"label\": \"ABCA\", \"values\": [0.08]}, {\"axis\": {\"matches\": true}, \"label\": \"ABCD\", \"values\": [0.62]}], \"hovertemplate\": \"index=AUSTRIA<br>%{xaxis.title.text}=%{x}<br>%{yaxis.title.text}=%{y}<extra></extra>\", \"legendgroup\": \"AUSTRIA\", \"marker\": {\"color\": \"#00cc96\", \"symbol\": \"circle\"}, \"name\": \"AUSTRIA\", \"showlegend\": true, \"type\": \"splom\"}, {\"diagonal\": {\"visible\": true}, \"dimensions\": [{\"axis\": {\"matches\": true}, \"label\": \"ABAB\", \"values\": [0.04]}, {\"axis\": {\"matches\": true}, \"label\": \"ABAC\", \"values\": [0.15]}, {\"axis\": {\"matches\": true}, \"label\": \"ABCB\", \"values\": [0.13]}, {\"axis\": {\"matches\": true}, \"label\": \"ABCA\", \"values\": [0.07]}, {\"axis\": {\"matches\": true}, \"label\": \"ABCD\", \"values\": [0.6]}], \"hovertemplate\": \"index=MACEDONIA_REPUBLIC_OF<br>%{xaxis.title.text}=%{x}<br>%{yaxis.title.text}=%{y}<extra></extra>\", \"legendgroup\": \"MACEDONIA_REPUBLIC_OF\", \"marker\": {\"color\": \"#ab63fa\", \"symbol\": \"circle\"}, \"name\": \"MACEDONIA_REPUBLIC_OF\", \"showlegend\": true, \"type\": \"splom\"}, {\"diagonal\": {\"visible\": true}, \"dimensions\": [{\"axis\": {\"matches\": true}, \"label\": \"ABAB\", \"values\": [0.03]}, {\"axis\": {\"matches\": true}, \"label\": \"ABAC\", \"values\": [0.14]}, {\"axis\": {\"matches\": true}, \"label\": \"ABCB\", \"values\": [0.13]}, {\"axis\": {\"matches\": true}, \"label\": \"ABCA\", \"values\": [0.08]}, {\"axis\": {\"matches\": true}, \"label\": \"ABCD\", \"values\": [0.62]}], \"hovertemplate\": \"index=BELGIUM<br>%{xaxis.title.text}=%{x}<br>%{yaxis.title.text}=%{y}<extra></extra>\", \"legendgroup\": \"BELGIUM\", \"marker\": {\"color\": \"#FFA15A\", \"symbol\": \"circle\"}, \"name\": \"BELGIUM\", \"showlegend\": true, \"type\": \"splom\"}, {\"diagonal\": {\"visible\": true}, \"dimensions\": [{\"axis\": {\"matches\": true}, \"label\": \"ABAB\", \"values\": [0.01]}, {\"axis\": {\"matches\": true}, \"label\": \"ABAC\", \"values\": [0.14]}, {\"axis\": {\"matches\": true}, \"label\": \"ABCB\", \"values\": [0.14]}, {\"axis\": {\"matches\": true}, \"label\": \"ABCA\", \"values\": [0.09]}, {\"axis\": {\"matches\": true}, \"label\": \"ABCD\", \"values\": [0.61]}], \"hovertemplate\": \"index=CROATIA<br>%{xaxis.title.text}=%{x}<br>%{yaxis.title.text}=%{y}<extra></extra>\", \"legendgroup\": \"CROATIA\", \"marker\": {\"color\": \"#19d3f3\", \"symbol\": \"circle\"}, \"name\": \"CROATIA\", \"showlegend\": true, \"type\": \"splom\"}, {\"diagonal\": {\"visible\": true}, \"dimensions\": [{\"axis\": {\"matches\": true}, \"label\": \"ABAB\", \"values\": [0.02]}, {\"axis\": {\"matches\": true}, \"label\": \"ABAC\", \"values\": [0.14]}, {\"axis\": {\"matches\": true}, \"label\": \"ABCB\", \"values\": [0.13]}, {\"axis\": {\"matches\": true}, \"label\": \"ABCA\", \"values\": [0.07]}, {\"axis\": {\"matches\": true}, \"label\": \"ABCD\", \"values\": [0.64]}], \"hovertemplate\": \"index=SWEDEN<br>%{xaxis.title.text}=%{x}<br>%{yaxis.title.text}=%{y}<extra></extra>\", \"legendgroup\": \"SWEDEN\", \"marker\": {\"color\": \"#FF6692\", \"symbol\": \"circle\"}, \"name\": \"SWEDEN\", \"showlegend\": true, \"type\": \"splom\"}, {\"diagonal\": {\"visible\": true}, \"dimensions\": [{\"axis\": {\"matches\": true}, \"label\": \"ABAB\", \"values\": [0.03]}, {\"axis\": {\"matches\": true}, \"label\": \"ABAC\", \"values\": [0.14]}, {\"axis\": {\"matches\": true}, \"label\": \"ABCB\", \"values\": [0.13]}, {\"axis\": {\"matches\": true}, \"label\": \"ABCA\", \"values\": [0.08]}, {\"axis\": {\"matches\": true}, \"label\": \"ABCD\", \"values\": [0.61]}], \"hovertemplate\": \"index=SWITZERLAND<br>%{xaxis.title.text}=%{x}<br>%{yaxis.title.text}=%{y}<extra></extra>\", \"legendgroup\": \"SWITZERLAND\", \"marker\": {\"color\": \"#B6E880\", \"symbol\": \"circle\"}, \"name\": \"SWITZERLAND\", \"showlegend\": true, \"type\": \"splom\"}, {\"diagonal\": {\"visible\": true}, \"dimensions\": [{\"axis\": {\"matches\": true}, \"label\": \"ABAB\", \"values\": [0.02]}, {\"axis\": {\"matches\": true}, \"label\": \"ABAC\", \"values\": [0.14]}, {\"axis\": {\"matches\": true}, \"label\": \"ABCB\", \"values\": [0.14]}, {\"axis\": {\"matches\": true}, \"label\": \"ABCA\", \"values\": [0.08]}, {\"axis\": {\"matches\": true}, \"label\": \"ABCD\", \"values\": [0.62]}], \"hovertemplate\": \"index=SPAIN<br>%{xaxis.title.text}=%{x}<br>%{yaxis.title.text}=%{y}<extra></extra>\", \"legendgroup\": \"SPAIN\", \"marker\": {\"color\": \"#FF97FF\", \"symbol\": \"circle\"}, \"name\": \"SPAIN\", \"showlegend\": true, \"type\": \"splom\"}, {\"diagonal\": {\"visible\": true}, \"dimensions\": [{\"axis\": {\"matches\": true}, \"label\": \"ABAB\", \"values\": [0.03]}, {\"axis\": {\"matches\": true}, \"label\": \"ABAC\", \"values\": [0.15]}, {\"axis\": {\"matches\": true}, \"label\": \"ABCB\", \"values\": [0.13]}, {\"axis\": {\"matches\": true}, \"label\": \"ABCA\", \"values\": [0.09]}, {\"axis\": {\"matches\": true}, \"label\": \"ABCD\", \"values\": [0.6]}], \"hovertemplate\": \"index=TURKEY<br>%{xaxis.title.text}=%{x}<br>%{yaxis.title.text}=%{y}<extra></extra>\", \"legendgroup\": \"TURKEY\", \"marker\": {\"color\": \"#FECB52\", \"symbol\": \"circle\"}, \"name\": \"TURKEY\", \"showlegend\": true, \"type\": \"splom\"}, {\"diagonal\": {\"visible\": true}, \"dimensions\": [{\"axis\": {\"matches\": true}, \"label\": \"ABAB\", \"values\": [0.02]}, {\"axis\": {\"matches\": true}, \"label\": \"ABAC\", \"values\": [0.14]}, {\"axis\": {\"matches\": true}, \"label\": \"ABCB\", \"values\": [0.12]}, {\"axis\": {\"matches\": true}, \"label\": \"ABCA\", \"values\": [0.09]}, {\"axis\": {\"matches\": true}, \"label\": \"ABCD\", \"values\": [0.64]}], \"hovertemplate\": \"index=WALES<br>%{xaxis.title.text}=%{x}<br>%{yaxis.title.text}=%{y}<extra></extra>\", \"legendgroup\": \"WALES\", \"marker\": {\"color\": \"#636efa\", \"symbol\": \"circle\"}, \"name\": \"WALES\", \"showlegend\": true, \"type\": \"splom\"}, {\"diagonal\": {\"visible\": true}, \"dimensions\": [{\"axis\": {\"matches\": true}, \"label\": \"ABAB\", \"values\": [0.04]}, {\"axis\": {\"matches\": true}, \"label\": \"ABAC\", \"values\": [0.17]}, {\"axis\": {\"matches\": true}, \"label\": \"ABCB\", \"values\": [0.15]}, {\"axis\": {\"matches\": true}, \"label\": \"ABCA\", \"values\": [0.1]}, {\"axis\": {\"matches\": true}, \"label\": \"ABCD\", \"values\": [0.53]}], \"hovertemplate\": \"index=NETHERLANDS<br>%{xaxis.title.text}=%{x}<br>%{yaxis.title.text}=%{y}<extra></extra>\", \"legendgroup\": \"NETHERLANDS\", \"marker\": {\"color\": \"#EF553B\", \"symbol\": \"circle\"}, \"name\": \"NETHERLANDS\", \"showlegend\": true, \"type\": \"splom\"}, {\"diagonal\": {\"visible\": true}, \"dimensions\": [{\"axis\": {\"matches\": true}, \"label\": \"ABAB\", \"values\": [0.03]}, {\"axis\": {\"matches\": true}, \"label\": \"ABAC\", \"values\": [0.14]}, {\"axis\": {\"matches\": true}, \"label\": \"ABCB\", \"values\": [0.14]}, {\"axis\": {\"matches\": true}, \"label\": \"ABCA\", \"values\": [0.07]}, {\"axis\": {\"matches\": true}, \"label\": \"ABCD\", \"values\": [0.63]}], \"hovertemplate\": \"index=RUSSIA<br>%{xaxis.title.text}=%{x}<br>%{yaxis.title.text}=%{y}<extra></extra>\", \"legendgroup\": \"RUSSIA\", \"marker\": {\"color\": \"#00cc96\", \"symbol\": \"circle\"}, \"name\": \"RUSSIA\", \"showlegend\": true, \"type\": \"splom\"}, {\"diagonal\": {\"visible\": true}, \"dimensions\": [{\"axis\": {\"matches\": true}, \"label\": \"ABAB\", \"values\": [0.02]}, {\"axis\": {\"matches\": true}, \"label\": \"ABAC\", \"values\": [0.17]}, {\"axis\": {\"matches\": true}, \"label\": \"ABCB\", \"values\": [0.16]}, {\"axis\": {\"matches\": true}, \"label\": \"ABCA\", \"values\": [0.07]}, {\"axis\": {\"matches\": true}, \"label\": \"ABCD\", \"values\": [0.58]}], \"hovertemplate\": \"index=SLOVAKIA<br>%{xaxis.title.text}=%{x}<br>%{yaxis.title.text}=%{y}<extra></extra>\", \"legendgroup\": \"SLOVAKIA\", \"marker\": {\"color\": \"#ab63fa\", \"symbol\": \"circle\"}, \"name\": \"SLOVAKIA\", \"showlegend\": true, \"type\": \"splom\"}, {\"diagonal\": {\"visible\": true}, \"dimensions\": [{\"axis\": {\"matches\": true}, \"label\": \"ABAB\", \"values\": [0.03]}, {\"axis\": {\"matches\": true}, \"label\": \"ABAC\", \"values\": [0.14]}, {\"axis\": {\"matches\": true}, \"label\": \"ABCB\", \"values\": [0.14]}, {\"axis\": {\"matches\": true}, \"label\": \"ABCA\", \"values\": [0.09]}, {\"axis\": {\"matches\": true}, \"label\": \"ABCD\", \"values\": [0.59]}], \"hovertemplate\": \"index=FRANCE<br>%{xaxis.title.text}=%{x}<br>%{yaxis.title.text}=%{y}<extra></extra>\", \"legendgroup\": \"FRANCE\", \"marker\": {\"color\": \"#FFA15A\", \"symbol\": \"circle\"}, \"name\": \"FRANCE\", \"showlegend\": true, \"type\": \"splom\"}, {\"diagonal\": {\"visible\": true}, \"dimensions\": [{\"axis\": {\"matches\": true}, \"label\": \"ABAB\", \"values\": [0.04]}, {\"axis\": {\"matches\": true}, \"label\": \"ABAC\", \"values\": [0.17]}, {\"axis\": {\"matches\": true}, \"label\": \"ABCB\", \"values\": [0.15]}, {\"axis\": {\"matches\": true}, \"label\": \"ABCA\", \"values\": [0.08]}, {\"axis\": {\"matches\": true}, \"label\": \"ABCD\", \"values\": [0.56]}], \"hovertemplate\": \"index=POLAND<br>%{xaxis.title.text}=%{x}<br>%{yaxis.title.text}=%{y}<extra></extra>\", \"legendgroup\": \"POLAND\", \"marker\": {\"color\": \"#19d3f3\", \"symbol\": \"circle\"}, \"name\": \"POLAND\", \"showlegend\": true, \"type\": \"splom\"}, {\"diagonal\": {\"visible\": true}, \"dimensions\": [{\"axis\": {\"matches\": true}, \"label\": \"ABAB\", \"values\": [0.05]}, {\"axis\": {\"matches\": true}, \"label\": \"ABAC\", \"values\": [0.19]}, {\"axis\": {\"matches\": true}, \"label\": \"ABCB\", \"values\": [0.17]}, {\"axis\": {\"matches\": true}, \"label\": \"ABCA\", \"values\": [0.09]}, {\"axis\": {\"matches\": true}, \"label\": \"ABCD\", \"values\": [0.5]}], \"hovertemplate\": \"index=HUNGARY<br>%{xaxis.title.text}=%{x}<br>%{yaxis.title.text}=%{y}<extra></extra>\", \"legendgroup\": \"HUNGARY\", \"marker\": {\"color\": \"#FF6692\", \"symbol\": \"circle\"}, \"name\": \"HUNGARY\", \"showlegend\": true, \"type\": \"splom\"}, {\"diagonal\": {\"visible\": true}, \"dimensions\": [{\"axis\": {\"matches\": true}, \"label\": \"ABAB\", \"values\": [0.03]}, {\"axis\": {\"matches\": true}, \"label\": \"ABAC\", \"values\": [0.16]}, {\"axis\": {\"matches\": true}, \"label\": \"ABCB\", \"values\": [0.15]}, {\"axis\": {\"matches\": true}, \"label\": \"ABCA\", \"values\": [0.08]}, {\"axis\": {\"matches\": true}, \"label\": \"ABCD\", \"values\": [0.58]}], \"hovertemplate\": \"index=ENGLAND<br>%{xaxis.title.text}=%{x}<br>%{yaxis.title.text}=%{y}<extra></extra>\", \"legendgroup\": \"ENGLAND\", \"marker\": {\"color\": \"#B6E880\", \"symbol\": \"circle\"}, \"name\": \"ENGLAND\", \"showlegend\": true, \"type\": \"splom\"}, {\"diagonal\": {\"visible\": true}, \"dimensions\": [{\"axis\": {\"matches\": true}, \"label\": \"ABAB\", \"values\": [0.03]}, {\"axis\": {\"matches\": true}, \"label\": \"ABAC\", \"values\": [0.15]}, {\"axis\": {\"matches\": true}, \"label\": \"ABCB\", \"values\": [0.14]}, {\"axis\": {\"matches\": true}, \"label\": \"ABCA\", \"values\": [0.09]}, {\"axis\": {\"matches\": true}, \"label\": \"ABCD\", \"values\": [0.59]}], \"hovertemplate\": \"index=ITALY<br>%{xaxis.title.text}=%{x}<br>%{yaxis.title.text}=%{y}<extra></extra>\", \"legendgroup\": \"ITALY\", \"marker\": {\"color\": \"#FF97FF\", \"symbol\": \"circle\"}, \"name\": \"ITALY\", \"showlegend\": true, \"type\": \"splom\"}, {\"diagonal\": {\"visible\": true}, \"dimensions\": [{\"axis\": {\"matches\": true}, \"label\": \"ABAB\", \"values\": [0.04]}, {\"axis\": {\"matches\": true}, \"label\": \"ABAC\", \"values\": [0.15]}, {\"axis\": {\"matches\": true}, \"label\": \"ABCB\", \"values\": [0.13]}, {\"axis\": {\"matches\": true}, \"label\": \"ABCA\", \"values\": [0.08]}, {\"axis\": {\"matches\": true}, \"label\": \"ABCD\", \"values\": [0.6]}], \"hovertemplate\": \"index=PORTUGAL<br>%{xaxis.title.text}=%{x}<br>%{yaxis.title.text}=%{y}<extra></extra>\", \"legendgroup\": \"PORTUGAL\", \"marker\": {\"color\": \"#FECB52\", \"symbol\": \"circle\"}, \"name\": \"PORTUGAL\", \"showlegend\": true, \"type\": \"splom\"}, {\"diagonal\": {\"visible\": true}, \"dimensions\": [{\"axis\": {\"matches\": true}, \"label\": \"ABAB\", \"values\": [0.03]}, {\"axis\": {\"matches\": true}, \"label\": \"ABAC\", \"values\": [0.15]}, {\"axis\": {\"matches\": true}, \"label\": \"ABCB\", \"values\": [0.13]}, {\"axis\": {\"matches\": true}, \"label\": \"ABCA\", \"values\": [0.1]}, {\"axis\": {\"matches\": true}, \"label\": \"ABCD\", \"values\": [0.59]}], \"hovertemplate\": \"index=GERMANY<br>%{xaxis.title.text}=%{x}<br>%{yaxis.title.text}=%{y}<extra></extra>\", \"legendgroup\": \"GERMANY\", \"marker\": {\"color\": \"#636efa\", \"symbol\": \"circle\"}, \"name\": \"GERMANY\", \"showlegend\": true, \"type\": \"splom\"}, {\"diagonal\": {\"visible\": true}, \"dimensions\": [{\"axis\": {\"matches\": true}, \"label\": \"ABAB\", \"values\": [0.02]}, {\"axis\": {\"matches\": true}, \"label\": \"ABAC\", \"values\": [0.13]}, {\"axis\": {\"matches\": true}, \"label\": \"ABCB\", \"values\": [0.11]}, {\"axis\": {\"matches\": true}, \"label\": \"ABCA\", \"values\": [0.09]}, {\"axis\": {\"matches\": true}, \"label\": \"ABCD\", \"values\": [0.66]}], \"hovertemplate\": \"index=SCOTLAND<br>%{xaxis.title.text}=%{x}<br>%{yaxis.title.text}=%{y}<extra></extra>\", \"legendgroup\": \"SCOTLAND\", \"marker\": {\"color\": \"#EF553B\", \"symbol\": \"circle\"}, \"name\": \"SCOTLAND\", \"showlegend\": true, \"type\": \"splom\"}, {\"diagonal\": {\"visible\": true}, \"dimensions\": [{\"axis\": {\"matches\": true}, \"label\": \"ABAB\", \"values\": [0.03]}, {\"axis\": {\"matches\": true}, \"label\": \"ABAC\", \"values\": [0.15]}, {\"axis\": {\"matches\": true}, \"label\": \"ABCB\", \"values\": [0.14]}, {\"axis\": {\"matches\": true}, \"label\": \"ABCA\", \"values\": [0.09]}, {\"axis\": {\"matches\": true}, \"label\": \"ABCD\", \"values\": [0.59]}], \"hovertemplate\": \"index=UKRAINE<br>%{xaxis.title.text}=%{x}<br>%{yaxis.title.text}=%{y}<extra></extra>\", \"legendgroup\": \"UKRAINE\", \"marker\": {\"color\": \"#00cc96\", \"symbol\": \"circle\"}, \"name\": \"UKRAINE\", \"showlegend\": true, \"type\": \"splom\"}, {\"diagonal\": {\"visible\": true}, \"dimensions\": [{\"axis\": {\"matches\": true}, \"label\": \"ABAB\", \"values\": [0.02]}, {\"axis\": {\"matches\": true}, \"label\": \"ABAC\", \"values\": [0.15]}, {\"axis\": {\"matches\": true}, \"label\": \"ABCB\", \"values\": [0.13]}, {\"axis\": {\"matches\": true}, \"label\": \"ABCA\", \"values\": [0.09]}, {\"axis\": {\"matches\": true}, \"label\": \"ABCD\", \"values\": [0.6]}], \"hovertemplate\": \"index=DENMARK<br>%{xaxis.title.text}=%{x}<br>%{yaxis.title.text}=%{y}<extra></extra>\", \"legendgroup\": \"DENMARK\", \"marker\": {\"color\": \"#ab63fa\", \"symbol\": \"circle\"}, \"name\": \"DENMARK\", \"showlegend\": true, \"type\": \"splom\"}],                        {\"dragmode\": \"select\", \"legend\": {\"title\": {\"text\": \"index\"}, \"tracegroupgap\": 0}, \"margin\": {\"t\": 60}, \"template\": {\"data\": {\"bar\": [{\"error_x\": {\"color\": \"#2a3f5f\"}, \"error_y\": {\"color\": \"#2a3f5f\"}, \"marker\": {\"line\": {\"color\": \"#E5ECF6\", \"width\": 0.5}}, \"type\": \"bar\"}], \"barpolar\": [{\"marker\": {\"line\": {\"color\": \"#E5ECF6\", \"width\": 0.5}}, \"type\": \"barpolar\"}], \"carpet\": [{\"aaxis\": {\"endlinecolor\": \"#2a3f5f\", \"gridcolor\": \"white\", \"linecolor\": \"white\", \"minorgridcolor\": \"white\", \"startlinecolor\": \"#2a3f5f\"}, \"baxis\": {\"endlinecolor\": \"#2a3f5f\", \"gridcolor\": \"white\", \"linecolor\": \"white\", \"minorgridcolor\": \"white\", \"startlinecolor\": \"#2a3f5f\"}, \"type\": \"carpet\"}], \"choropleth\": [{\"colorbar\": {\"outlinewidth\": 0, \"ticks\": \"\"}, \"type\": \"choropleth\"}], \"contour\": [{\"colorbar\": {\"outlinewidth\": 0, \"ticks\": \"\"}, \"colorscale\": [[0.0, \"#0d0887\"], [0.1111111111111111, \"#46039f\"], [0.2222222222222222, \"#7201a8\"], [0.3333333333333333, \"#9c179e\"], [0.4444444444444444, \"#bd3786\"], [0.5555555555555556, \"#d8576b\"], [0.6666666666666666, \"#ed7953\"], [0.7777777777777778, \"#fb9f3a\"], [0.8888888888888888, \"#fdca26\"], [1.0, \"#f0f921\"]], \"type\": \"contour\"}], \"contourcarpet\": [{\"colorbar\": {\"outlinewidth\": 0, \"ticks\": \"\"}, \"type\": \"contourcarpet\"}], \"heatmap\": [{\"colorbar\": {\"outlinewidth\": 0, \"ticks\": \"\"}, \"colorscale\": [[0.0, \"#0d0887\"], [0.1111111111111111, \"#46039f\"], [0.2222222222222222, \"#7201a8\"], [0.3333333333333333, \"#9c179e\"], [0.4444444444444444, \"#bd3786\"], [0.5555555555555556, \"#d8576b\"], [0.6666666666666666, \"#ed7953\"], [0.7777777777777778, \"#fb9f3a\"], [0.8888888888888888, \"#fdca26\"], [1.0, \"#f0f921\"]], \"type\": \"heatmap\"}], \"heatmapgl\": [{\"colorbar\": {\"outlinewidth\": 0, \"ticks\": \"\"}, \"colorscale\": [[0.0, \"#0d0887\"], [0.1111111111111111, \"#46039f\"], [0.2222222222222222, \"#7201a8\"], [0.3333333333333333, \"#9c179e\"], [0.4444444444444444, \"#bd3786\"], [0.5555555555555556, \"#d8576b\"], [0.6666666666666666, \"#ed7953\"], [0.7777777777777778, \"#fb9f3a\"], [0.8888888888888888, \"#fdca26\"], [1.0, \"#f0f921\"]], \"type\": \"heatmapgl\"}], \"histogram\": [{\"marker\": {\"colorbar\": {\"outlinewidth\": 0, \"ticks\": \"\"}}, \"type\": \"histogram\"}], \"histogram2d\": [{\"colorbar\": {\"outlinewidth\": 0, \"ticks\": \"\"}, \"colorscale\": [[0.0, \"#0d0887\"], [0.1111111111111111, \"#46039f\"], [0.2222222222222222, \"#7201a8\"], [0.3333333333333333, \"#9c179e\"], [0.4444444444444444, \"#bd3786\"], [0.5555555555555556, \"#d8576b\"], [0.6666666666666666, \"#ed7953\"], [0.7777777777777778, \"#fb9f3a\"], [0.8888888888888888, \"#fdca26\"], [1.0, \"#f0f921\"]], \"type\": \"histogram2d\"}], \"histogram2dcontour\": [{\"colorbar\": {\"outlinewidth\": 0, \"ticks\": \"\"}, \"colorscale\": [[0.0, \"#0d0887\"], [0.1111111111111111, \"#46039f\"], [0.2222222222222222, \"#7201a8\"], [0.3333333333333333, \"#9c179e\"], [0.4444444444444444, \"#bd3786\"], [0.5555555555555556, \"#d8576b\"], [0.6666666666666666, \"#ed7953\"], [0.7777777777777778, \"#fb9f3a\"], [0.8888888888888888, \"#fdca26\"], [1.0, \"#f0f921\"]], \"type\": \"histogram2dcontour\"}], \"mesh3d\": [{\"colorbar\": {\"outlinewidth\": 0, \"ticks\": \"\"}, \"type\": \"mesh3d\"}], \"parcoords\": [{\"line\": {\"colorbar\": {\"outlinewidth\": 0, \"ticks\": \"\"}}, \"type\": \"parcoords\"}], \"pie\": [{\"automargin\": true, \"type\": \"pie\"}], \"scatter\": [{\"marker\": {\"colorbar\": {\"outlinewidth\": 0, \"ticks\": \"\"}}, \"type\": \"scatter\"}], \"scatter3d\": [{\"line\": {\"colorbar\": {\"outlinewidth\": 0, \"ticks\": \"\"}}, \"marker\": {\"colorbar\": {\"outlinewidth\": 0, \"ticks\": \"\"}}, \"type\": \"scatter3d\"}], \"scattercarpet\": [{\"marker\": {\"colorbar\": {\"outlinewidth\": 0, \"ticks\": \"\"}}, \"type\": \"scattercarpet\"}], \"scattergeo\": [{\"marker\": {\"colorbar\": {\"outlinewidth\": 0, \"ticks\": \"\"}}, \"type\": \"scattergeo\"}], \"scattergl\": [{\"marker\": {\"colorbar\": {\"outlinewidth\": 0, \"ticks\": \"\"}}, \"type\": \"scattergl\"}], \"scattermapbox\": [{\"marker\": {\"colorbar\": {\"outlinewidth\": 0, \"ticks\": \"\"}}, \"type\": \"scattermapbox\"}], \"scatterpolar\": [{\"marker\": {\"colorbar\": {\"outlinewidth\": 0, \"ticks\": \"\"}}, \"type\": \"scatterpolar\"}], \"scatterpolargl\": [{\"marker\": {\"colorbar\": {\"outlinewidth\": 0, \"ticks\": \"\"}}, \"type\": \"scatterpolargl\"}], \"scatterternary\": [{\"marker\": {\"colorbar\": {\"outlinewidth\": 0, \"ticks\": \"\"}}, \"type\": \"scatterternary\"}], \"surface\": [{\"colorbar\": {\"outlinewidth\": 0, \"ticks\": \"\"}, \"colorscale\": [[0.0, \"#0d0887\"], [0.1111111111111111, \"#46039f\"], [0.2222222222222222, \"#7201a8\"], [0.3333333333333333, \"#9c179e\"], [0.4444444444444444, \"#bd3786\"], [0.5555555555555556, \"#d8576b\"], [0.6666666666666666, \"#ed7953\"], [0.7777777777777778, \"#fb9f3a\"], [0.8888888888888888, \"#fdca26\"], [1.0, \"#f0f921\"]], \"type\": \"surface\"}], \"table\": [{\"cells\": {\"fill\": {\"color\": \"#EBF0F8\"}, \"line\": {\"color\": \"white\"}}, \"header\": {\"fill\": {\"color\": \"#C8D4E3\"}, \"line\": {\"color\": \"white\"}}, \"type\": \"table\"}]}, \"layout\": {\"annotationdefaults\": {\"arrowcolor\": \"#2a3f5f\", \"arrowhead\": 0, \"arrowwidth\": 1}, \"autotypenumbers\": \"strict\", \"coloraxis\": {\"colorbar\": {\"outlinewidth\": 0, \"ticks\": \"\"}}, \"colorscale\": {\"diverging\": [[0, \"#8e0152\"], [0.1, \"#c51b7d\"], [0.2, \"#de77ae\"], [0.3, \"#f1b6da\"], [0.4, \"#fde0ef\"], [0.5, \"#f7f7f7\"], [0.6, \"#e6f5d0\"], [0.7, \"#b8e186\"], [0.8, \"#7fbc41\"], [0.9, \"#4d9221\"], [1, \"#276419\"]], \"sequential\": [[0.0, \"#0d0887\"], [0.1111111111111111, \"#46039f\"], [0.2222222222222222, \"#7201a8\"], [0.3333333333333333, \"#9c179e\"], [0.4444444444444444, \"#bd3786\"], [0.5555555555555556, \"#d8576b\"], [0.6666666666666666, \"#ed7953\"], [0.7777777777777778, \"#fb9f3a\"], [0.8888888888888888, \"#fdca26\"], [1.0, \"#f0f921\"]], \"sequentialminus\": [[0.0, \"#0d0887\"], [0.1111111111111111, \"#46039f\"], [0.2222222222222222, \"#7201a8\"], [0.3333333333333333, \"#9c179e\"], [0.4444444444444444, \"#bd3786\"], [0.5555555555555556, \"#d8576b\"], [0.6666666666666666, \"#ed7953\"], [0.7777777777777778, \"#fb9f3a\"], [0.8888888888888888, \"#fdca26\"], [1.0, \"#f0f921\"]]}, \"colorway\": [\"#636efa\", \"#EF553B\", \"#00cc96\", \"#ab63fa\", \"#FFA15A\", \"#19d3f3\", \"#FF6692\", \"#B6E880\", \"#FF97FF\", \"#FECB52\"], \"font\": {\"color\": \"#2a3f5f\"}, \"geo\": {\"bgcolor\": \"white\", \"lakecolor\": \"white\", \"landcolor\": \"#E5ECF6\", \"showlakes\": true, \"showland\": true, \"subunitcolor\": \"white\"}, \"hoverlabel\": {\"align\": \"left\"}, \"hovermode\": \"closest\", \"mapbox\": {\"style\": \"light\"}, \"paper_bgcolor\": \"white\", \"plot_bgcolor\": \"#E5ECF6\", \"polar\": {\"angularaxis\": {\"gridcolor\": \"white\", \"linecolor\": \"white\", \"ticks\": \"\"}, \"bgcolor\": \"#E5ECF6\", \"radialaxis\": {\"gridcolor\": \"white\", \"linecolor\": \"white\", \"ticks\": \"\"}}, \"scene\": {\"xaxis\": {\"backgroundcolor\": \"#E5ECF6\", \"gridcolor\": \"white\", \"gridwidth\": 2, \"linecolor\": \"white\", \"showbackground\": true, \"ticks\": \"\", \"zerolinecolor\": \"white\"}, \"yaxis\": {\"backgroundcolor\": \"#E5ECF6\", \"gridcolor\": \"white\", \"gridwidth\": 2, \"linecolor\": \"white\", \"showbackground\": true, \"ticks\": \"\", \"zerolinecolor\": \"white\"}, \"zaxis\": {\"backgroundcolor\": \"#E5ECF6\", \"gridcolor\": \"white\", \"gridwidth\": 2, \"linecolor\": \"white\", \"showbackground\": true, \"ticks\": \"\", \"zerolinecolor\": \"white\"}}, \"shapedefaults\": {\"line\": {\"color\": \"#2a3f5f\"}}, \"ternary\": {\"aaxis\": {\"gridcolor\": \"white\", \"linecolor\": \"white\", \"ticks\": \"\"}, \"baxis\": {\"gridcolor\": \"white\", \"linecolor\": \"white\", \"ticks\": \"\"}, \"bgcolor\": \"#E5ECF6\", \"caxis\": {\"gridcolor\": \"white\", \"linecolor\": \"white\", \"ticks\": \"\"}}, \"title\": {\"x\": 0.05}, \"xaxis\": {\"automargin\": true, \"gridcolor\": \"white\", \"linecolor\": \"white\", \"ticks\": \"\", \"title\": {\"standoff\": 15}, \"zerolinecolor\": \"white\", \"zerolinewidth\": 2}, \"yaxis\": {\"automargin\": true, \"gridcolor\": \"white\", \"linecolor\": \"white\", \"ticks\": \"\", \"title\": {\"standoff\": 15}, \"zerolinecolor\": \"white\", \"zerolinewidth\": 2}}}},                        {\"responsive\": true}                    ).then(function(){\n",
       "                            \n",
       "var gd = document.getElementById('41c47ee6-c228-4874-9429-cf82944d6bbd');\n",
       "var x = new MutationObserver(function (mutations, observer) {{\n",
       "        var display = window.getComputedStyle(gd).display;\n",
       "        if (!display || display === 'none') {{\n",
       "            console.log([gd, 'removed!']);\n",
       "            Plotly.purge(gd);\n",
       "            observer.disconnect();\n",
       "        }}\n",
       "}});\n",
       "\n",
       "// Listen for the removal of the full notebook cells\n",
       "var notebookContainer = gd.closest('#notebook-container');\n",
       "if (notebookContainer) {{\n",
       "    x.observe(notebookContainer, {childList: true});\n",
       "}}\n",
       "\n",
       "// Listen for the clearing of the current output cell\n",
       "var outputEl = gd.closest('.output');\n",
       "if (outputEl) {{\n",
       "    x.observe(outputEl, {childList: true});\n",
       "}}\n",
       "\n",
       "                        })                };                });            </script>        </div>"
      ]
     },
     "metadata": {},
     "output_type": "display_data"
    }
   ],
   "source": [
    "import plotly.express as px\n",
    "\n",
    "features = all_patterns()\n",
    "\n",
    "fig = px.scatter_matrix(\n",
    "    df,\n",
    "    dimensions=features,\n",
    "    color=df.index\n",
    ")\n",
    "fig.update_traces(diagonal_visible=True)\n",
    "fig.show()"
   ]
  },
  {
   "cell_type": "code",
   "execution_count": 114,
   "metadata": {},
   "outputs": [
    {
     "data": {
      "application/vnd.plotly.v1+json": {
       "config": {
        "plotlyServerURL": "https://plot.ly"
       },
       "data": [
        {
         "dimensions": [
          {
           "axis": {
            "matches": true
           },
           "label": "PC 1 (89.6%)",
           "values": [
            0.07243974191069007
           ]
          },
          {
           "axis": {
            "matches": true
           },
           "label": "PC 2 (5.1%)",
           "values": [
            0.0016407175473920905
           ]
          },
          {
           "axis": {
            "matches": true
           },
           "label": "PC 3 (2.9%)",
           "values": [
            0.0018980707219325528
           ]
          },
          {
           "axis": {
            "matches": true
           },
           "label": "PC 4 (2.0%)",
           "values": [
            0.017526724340036902
           ]
          }
         ],
         "hovertemplate": "color=FINLAND<br>%{xaxis.title.text}=%{x}<br>%{yaxis.title.text}=%{y}<extra></extra>",
         "legendgroup": "FINLAND",
         "marker": {
          "color": "#636efa",
          "symbol": "circle"
         },
         "name": "FINLAND",
         "showlegend": true,
         "type": "splom"
        },
        {
         "dimensions": [
          {
           "axis": {
            "matches": true
           },
           "label": "PC 1 (89.6%)",
           "values": [
            0.029400813057069347
           ]
          },
          {
           "axis": {
            "matches": true
           },
           "label": "PC 2 (5.1%)",
           "values": [
            -0.004776236009559876
           ]
          },
          {
           "axis": {
            "matches": true
           },
           "label": "PC 3 (2.9%)",
           "values": [
            -0.0076250049646433985
           ]
          },
          {
           "axis": {
            "matches": true
           },
           "label": "PC 4 (2.0%)",
           "values": [
            -0.009224776342059333
           ]
          }
         ],
         "hovertemplate": "color=CZECH_REPUBLIC<br>%{xaxis.title.text}=%{x}<br>%{yaxis.title.text}=%{y}<extra></extra>",
         "legendgroup": "CZECH_REPUBLIC",
         "marker": {
          "color": "#EF553B",
          "symbol": "circle"
         },
         "name": "CZECH_REPUBLIC",
         "showlegend": true,
         "type": "splom"
        },
        {
         "dimensions": [
          {
           "axis": {
            "matches": true
           },
           "label": "PC 1 (89.6%)",
           "values": [
            -0.02634717504768791
           ]
          },
          {
           "axis": {
            "matches": true
           },
           "label": "PC 2 (5.1%)",
           "values": [
            0.0032634698474807468
           ]
          },
          {
           "axis": {
            "matches": true
           },
           "label": "PC 3 (2.9%)",
           "values": [
            -0.006022074075952608
           ]
          },
          {
           "axis": {
            "matches": true
           },
           "label": "PC 4 (2.0%)",
           "values": [
            -0.004264280063134349
           ]
          }
         ],
         "hovertemplate": "color=AUSTRIA<br>%{xaxis.title.text}=%{x}<br>%{yaxis.title.text}=%{y}<extra></extra>",
         "legendgroup": "AUSTRIA",
         "marker": {
          "color": "#00cc96",
          "symbol": "circle"
         },
         "name": "AUSTRIA",
         "showlegend": true,
         "type": "splom"
        },
        {
         "dimensions": [
          {
           "axis": {
            "matches": true
           },
           "label": "PC 1 (89.6%)",
           "values": [
            -0.007516544171357882
           ]
          },
          {
           "axis": {
            "matches": true
           },
           "label": "PC 2 (5.1%)",
           "values": [
            0.006975396173196675
           ]
          },
          {
           "axis": {
            "matches": true
           },
           "label": "PC 3 (2.9%)",
           "values": [
            -0.01643189626195771
           ]
          },
          {
           "axis": {
            "matches": true
           },
           "label": "PC 4 (2.0%)",
           "values": [
            0.002027171903668074
           ]
          }
         ],
         "hovertemplate": "color=MACEDONIA_REPUBLIC_OF<br>%{xaxis.title.text}=%{x}<br>%{yaxis.title.text}=%{y}<extra></extra>",
         "legendgroup": "MACEDONIA_REPUBLIC_OF",
         "marker": {
          "color": "#ab63fa",
          "symbol": "circle"
         },
         "name": "MACEDONIA_REPUBLIC_OF",
         "showlegend": true,
         "type": "splom"
        },
        {
         "dimensions": [
          {
           "axis": {
            "matches": true
           },
           "label": "PC 1 (89.6%)",
           "values": [
            -0.029385982789567857
           ]
          },
          {
           "axis": {
            "matches": true
           },
           "label": "PC 2 (5.1%)",
           "values": [
            0.0012104788520174226
           ]
          },
          {
           "axis": {
            "matches": true
           },
           "label": "PC 3 (2.9%)",
           "values": [
            -0.004233662083360726
           ]
          },
          {
           "axis": {
            "matches": true
           },
           "label": "PC 4 (2.0%)",
           "values": [
            0.004264419542655776
           ]
          }
         ],
         "hovertemplate": "color=BELGIUM<br>%{xaxis.title.text}=%{x}<br>%{yaxis.title.text}=%{y}<extra></extra>",
         "legendgroup": "BELGIUM",
         "marker": {
          "color": "#FFA15A",
          "symbol": "circle"
         },
         "name": "BELGIUM",
         "showlegend": true,
         "type": "splom"
        },
        {
         "dimensions": [
          {
           "axis": {
            "matches": true
           },
           "label": "PC 1 (89.6%)",
           "values": [
            -0.02046985721260992
           ]
          },
          {
           "axis": {
            "matches": true
           },
           "label": "PC 2 (5.1%)",
           "values": [
            -0.0019950122325191853
           ]
          },
          {
           "axis": {
            "matches": true
           },
           "label": "PC 3 (2.9%)",
           "values": [
            0.020121244115803436
           ]
          },
          {
           "axis": {
            "matches": true
           },
           "label": "PC 4 (2.0%)",
           "values": [
            0.0007396065222095326
           ]
          }
         ],
         "hovertemplate": "color=CROATIA<br>%{xaxis.title.text}=%{x}<br>%{yaxis.title.text}=%{y}<extra></extra>",
         "legendgroup": "CROATIA",
         "marker": {
          "color": "#19d3f3",
          "symbol": "circle"
         },
         "name": "CROATIA",
         "showlegend": true,
         "type": "splom"
        },
        {
         "dimensions": [
          {
           "axis": {
            "matches": true
           },
           "label": "PC 1 (89.6%)",
           "values": [
            -0.049531498822995124
           ]
          },
          {
           "axis": {
            "matches": true
           },
           "label": "PC 2 (5.1%)",
           "values": [
            0.013317491344336794
           ]
          },
          {
           "axis": {
            "matches": true
           },
           "label": "PC 3 (2.9%)",
           "values": [
            -0.00027238790525363103
           ]
          },
          {
           "axis": {
            "matches": true
           },
           "label": "PC 4 (2.0%)",
           "values": [
            -0.001265840678660844
           ]
          }
         ],
         "hovertemplate": "color=SWEDEN<br>%{xaxis.title.text}=%{x}<br>%{yaxis.title.text}=%{y}<extra></extra>",
         "legendgroup": "SWEDEN",
         "marker": {
          "color": "#FF6692",
          "symbol": "circle"
         },
         "name": "SWEDEN",
         "showlegend": true,
         "type": "splom"
        },
        {
         "dimensions": [
          {
           "axis": {
            "matches": true
           },
           "label": "PC 1 (89.6%)",
           "values": [
            -0.02053099612926958
           ]
          },
          {
           "axis": {
            "matches": true
           },
           "label": "PC 2 (5.1%)",
           "values": [
            -0.0006157373912198248
           ]
          },
          {
           "axis": {
            "matches": true
           },
           "label": "PC 3 (2.9%)",
           "values": [
            -0.0038214778051092863
           ]
          },
          {
           "axis": {
            "matches": true
           },
           "label": "PC 4 (2.0%)",
           "values": [
            0.005319845707194278
           ]
          }
         ],
         "hovertemplate": "color=SWITZERLAND<br>%{xaxis.title.text}=%{x}<br>%{yaxis.title.text}=%{y}<extra></extra>",
         "legendgroup": "SWITZERLAND",
         "marker": {
          "color": "#B6E880",
          "symbol": "circle"
         },
         "name": "SWITZERLAND",
         "showlegend": true,
         "type": "splom"
        },
        {
         "dimensions": [
          {
           "axis": {
            "matches": true
           },
           "label": "PC 1 (89.6%)",
           "values": [
            -0.028204186317174723
           ]
          },
          {
           "axis": {
            "matches": true
           },
           "label": "PC 2 (5.1%)",
           "values": [
            0.007195562822908487
           ]
          },
          {
           "axis": {
            "matches": true
           },
           "label": "PC 3 (2.9%)",
           "values": [
            0.008474869095044019
           ]
          },
          {
           "axis": {
            "matches": true
           },
           "label": "PC 4 (2.0%)",
           "values": [
            0.003864779995396452
           ]
          }
         ],
         "hovertemplate": "color=SPAIN<br>%{xaxis.title.text}=%{x}<br>%{yaxis.title.text}=%{y}<extra></extra>",
         "legendgroup": "SPAIN",
         "marker": {
          "color": "#FF97FF",
          "symbol": "circle"
         },
         "name": "SPAIN",
         "showlegend": true,
         "type": "splom"
        },
        {
         "dimensions": [
          {
           "axis": {
            "matches": true
           },
           "label": "PC 1 (89.6%)",
           "values": [
            -0.007979759148542735
           ]
          },
          {
           "axis": {
            "matches": true
           },
           "label": "PC 2 (5.1%)",
           "values": [
            -0.0082984320480114
           ]
          },
          {
           "axis": {
            "matches": true
           },
           "label": "PC 3 (2.9%)",
           "values": [
            -0.001973431515500731
           ]
          },
          {
           "axis": {
            "matches": true
           },
           "label": "PC 4 (2.0%)",
           "values": [
            -0.0025340236068002488
           ]
          }
         ],
         "hovertemplate": "color=TURKEY<br>%{xaxis.title.text}=%{x}<br>%{yaxis.title.text}=%{y}<extra></extra>",
         "legendgroup": "TURKEY",
         "marker": {
          "color": "#FECB52",
          "symbol": "circle"
         },
         "name": "TURKEY",
         "showlegend": true,
         "type": "splom"
        },
        {
         "dimensions": [
          {
           "axis": {
            "matches": true
           },
           "label": "PC 1 (89.6%)",
           "values": [
            -0.051176510272573104
           ]
          },
          {
           "axis": {
            "matches": true
           },
           "label": "PC 2 (5.1%)",
           "values": [
            -0.007941420847762344
           ]
          },
          {
           "axis": {
            "matches": true
           },
           "label": "PC 3 (2.9%)",
           "values": [
            0.0014775456627986018
           ]
          },
          {
           "axis": {
            "matches": true
           },
           "label": "PC 4 (2.0%)",
           "values": [
            -0.00542739664186984
           ]
          }
         ],
         "hovertemplate": "color=WALES<br>%{xaxis.title.text}=%{x}<br>%{yaxis.title.text}=%{y}<extra></extra>",
         "legendgroup": "WALES",
         "marker": {
          "color": "#636efa",
          "symbol": "circle"
         },
         "name": "WALES",
         "showlegend": true,
         "type": "splom"
        },
        {
         "dimensions": [
          {
           "axis": {
            "matches": true
           },
           "label": "PC 1 (89.6%)",
           "values": [
            0.06843809888348618
           ]
          },
          {
           "axis": {
            "matches": true
           },
           "label": "PC 2 (5.1%)",
           "values": [
            -0.014550597017462688
           ]
          },
          {
           "axis": {
            "matches": true
           },
           "label": "PC 3 (2.9%)",
           "values": [
            0.0019466205921571153
           ]
          },
          {
           "axis": {
            "matches": true
           },
           "label": "PC 4 (2.0%)",
           "values": [
            -0.001983303338925058
           ]
          }
         ],
         "hovertemplate": "color=NETHERLANDS<br>%{xaxis.title.text}=%{x}<br>%{yaxis.title.text}=%{y}<extra></extra>",
         "legendgroup": "NETHERLANDS",
         "marker": {
          "color": "#EF553B",
          "symbol": "circle"
         },
         "name": "NETHERLANDS",
         "showlegend": true,
         "type": "splom"
        },
        {
         "dimensions": [
          {
           "axis": {
            "matches": true
           },
           "label": "PC 1 (89.6%)",
           "values": [
            -0.03593851542173952
           ]
          },
          {
           "axis": {
            "matches": true
           },
           "label": "PC 2 (5.1%)",
           "values": [
            0.016386137878336156
           ]
          },
          {
           "axis": {
            "matches": true
           },
           "label": "PC 3 (2.9%)",
           "values": [
            -0.0031715059257153982
           ]
          },
          {
           "axis": {
            "matches": true
           },
           "label": "PC 4 (2.0%)",
           "values": [
            0.006989953468583369
           ]
          }
         ],
         "hovertemplate": "color=RUSSIA<br>%{xaxis.title.text}=%{x}<br>%{yaxis.title.text}=%{y}<extra></extra>",
         "legendgroup": "RUSSIA",
         "marker": {
          "color": "#00cc96",
          "symbol": "circle"
         },
         "name": "RUSSIA",
         "showlegend": true,
         "type": "splom"
        },
        {
         "dimensions": [
          {
           "axis": {
            "matches": true
           },
           "label": "PC 1 (89.6%)",
           "values": [
            0.02159453418446007
           ]
          },
          {
           "axis": {
            "matches": true
           },
           "label": "PC 2 (5.1%)",
           "values": [
            0.024839086993494786
           ]
          },
          {
           "axis": {
            "matches": true
           },
           "label": "PC 3 (2.9%)",
           "values": [
            0.010931325106016639
           ]
          },
          {
           "axis": {
            "matches": true
           },
           "label": "PC 4 (2.0%)",
           "values": [
            -0.010318289855630691
           ]
          }
         ],
         "hovertemplate": "color=SLOVAKIA<br>%{xaxis.title.text}=%{x}<br>%{yaxis.title.text}=%{y}<extra></extra>",
         "legendgroup": "SLOVAKIA",
         "marker": {
          "color": "#ab63fa",
          "symbol": "circle"
         },
         "name": "SLOVAKIA",
         "showlegend": true,
         "type": "splom"
        },
        {
         "dimensions": [
          {
           "axis": {
            "matches": true
           },
           "label": "PC 1 (89.6%)",
           "values": [
            0.0007963163765508129
           ]
          },
          {
           "axis": {
            "matches": true
           },
           "label": "PC 2 (5.1%)",
           "values": [
            -0.006737665912648134
           ]
          },
          {
           "axis": {
            "matches": true
           },
           "label": "PC 3 (2.9%)",
           "values": [
            0.00492577919518836
           ]
          },
          {
           "axis": {
            "matches": true
           },
           "label": "PC 4 (2.0%)",
           "values": [
            0.010450466381251574
           ]
          }
         ],
         "hovertemplate": "color=FRANCE<br>%{xaxis.title.text}=%{x}<br>%{yaxis.title.text}=%{y}<extra></extra>",
         "legendgroup": "FRANCE",
         "marker": {
          "color": "#FFA15A",
          "symbol": "circle"
         },
         "name": "FRANCE",
         "showlegend": true,
         "type": "splom"
        },
        {
         "dimensions": [
          {
           "axis": {
            "matches": true
           },
           "label": "PC 1 (89.6%)",
           "values": [
            0.04055825374549412
           ]
          },
          {
           "axis": {
            "matches": true
           },
           "label": "PC 2 (5.1%)",
           "values": [
            0.006746990530284367
           ]
          },
          {
           "axis": {
            "matches": true
           },
           "label": "PC 3 (2.9%)",
           "values": [
            -0.0057384802504952094
           ]
          },
          {
           "axis": {
            "matches": true
           },
           "label": "PC 4 (2.0%)",
           "values": [
            -0.004388390087054758
           ]
          }
         ],
         "hovertemplate": "color=POLAND<br>%{xaxis.title.text}=%{x}<br>%{yaxis.title.text}=%{y}<extra></extra>",
         "legendgroup": "POLAND",
         "marker": {
          "color": "#19d3f3",
          "symbol": "circle"
         },
         "name": "POLAND",
         "showlegend": true,
         "type": "splom"
        },
        {
         "dimensions": [
          {
           "axis": {
            "matches": true
           },
           "label": "PC 1 (89.6%)",
           "values": [
            0.10812112511722484
           ]
          },
          {
           "axis": {
            "matches": true
           },
           "label": "PC 2 (5.1%)",
           "values": [
            0.002321041804070331
           ]
          },
          {
           "axis": {
            "matches": true
           },
           "label": "PC 3 (2.9%)",
           "values": [
            -0.002230612421088787
           ]
          },
          {
           "axis": {
            "matches": true
           },
           "label": "PC 4 (2.0%)",
           "values": [
            -0.004893095983718023
           ]
          }
         ],
         "hovertemplate": "color=HUNGARY<br>%{xaxis.title.text}=%{x}<br>%{yaxis.title.text}=%{y}<extra></extra>",
         "legendgroup": "HUNGARY",
         "marker": {
          "color": "#FF6692",
          "symbol": "circle"
         },
         "name": "HUNGARY",
         "showlegend": true,
         "type": "splom"
        },
        {
         "dimensions": [
          {
           "axis": {
            "matches": true
           },
           "label": "PC 1 (89.6%)",
           "values": [
            0.018031372548735602
           ]
          },
          {
           "axis": {
            "matches": true
           },
           "label": "PC 2 (5.1%)",
           "values": [
            0.008891542618122743
           ]
          },
          {
           "axis": {
            "matches": true
           },
           "label": "PC 3 (2.9%)",
           "values": [
            0.003235479924152783
           ]
          },
          {
           "axis": {
            "matches": true
           },
           "label": "PC 4 (2.0%)",
           "values": [
            -0.001770546575324119
           ]
          }
         ],
         "hovertemplate": "color=ENGLAND<br>%{xaxis.title.text}=%{x}<br>%{yaxis.title.text}=%{y}<extra></extra>",
         "legendgroup": "ENGLAND",
         "marker": {
          "color": "#B6E880",
          "symbol": "circle"
         },
         "name": "ENGLAND",
         "showlegend": true,
         "type": "splom"
        },
        {
         "dimensions": [
          {
           "axis": {
            "matches": true
           },
           "label": "PC 1 (89.6%)",
           "values": [
            0.0038351241184307653
           ]
          },
          {
           "axis": {
            "matches": true
           },
           "label": "PC 2 (5.1%)",
           "values": [
            -0.0046846749171848105
           ]
          },
          {
           "axis": {
            "matches": true
           },
           "label": "PC 3 (2.9%)",
           "values": [
            0.0031373672025964763
           ]
          },
          {
           "axis": {
            "matches": true
           },
           "label": "PC 4 (2.0%)",
           "values": [
            0.0019217667754614452
           ]
          }
         ],
         "hovertemplate": "color=ITALY<br>%{xaxis.title.text}=%{x}<br>%{yaxis.title.text}=%{y}<extra></extra>",
         "legendgroup": "ITALY",
         "marker": {
          "color": "#FF97FF",
          "symbol": "circle"
         },
         "name": "ITALY",
         "showlegend": true,
         "type": "splom"
        },
        {
         "dimensions": [
          {
           "axis": {
            "matches": true
           },
           "label": "PC 1 (89.6%)",
           "values": [
            -0.006859101592809259
           ]
          },
          {
           "axis": {
            "matches": true
           },
           "label": "PC 2 (5.1%)",
           "values": [
            -0.000934073235820978
           ]
          },
          {
           "axis": {
            "matches": true
           },
           "label": "PC 3 (2.9%)",
           "values": [
            -0.013207622258008709
           ]
          },
          {
           "axis": {
            "matches": true
           },
           "label": "PC 4 (2.0%)",
           "values": [
            0.0016465760309251722
           ]
          }
         ],
         "hovertemplate": "color=PORTUGAL<br>%{xaxis.title.text}=%{x}<br>%{yaxis.title.text}=%{y}<extra></extra>",
         "legendgroup": "PORTUGAL",
         "marker": {
          "color": "#FECB52",
          "symbol": "circle"
         },
         "name": "PORTUGAL",
         "showlegend": true,
         "type": "splom"
        },
        {
         "dimensions": [
          {
           "axis": {
            "matches": true
           },
           "label": "PC 1 (89.6%)",
           "values": [
            0.001532670090304163
           ]
          },
          {
           "axis": {
            "matches": true
           },
           "label": "PC 2 (5.1%)",
           "values": [
            -0.018034117700266313
           ]
          },
          {
           "axis": {
            "matches": true
           },
           "label": "PC 3 (2.9%)",
           "values": [
            0.0016630267666997139
           ]
          },
          {
           "axis": {
            "matches": true
           },
           "label": "PC 4 (2.0%)",
           "values": [
            -0.0018591933150046498
           ]
          }
         ],
         "hovertemplate": "color=GERMANY<br>%{xaxis.title.text}=%{x}<br>%{yaxis.title.text}=%{y}<extra></extra>",
         "legendgroup": "GERMANY",
         "marker": {
          "color": "#636efa",
          "symbol": "circle"
         },
         "name": "GERMANY",
         "showlegend": true,
         "type": "splom"
        },
        {
         "dimensions": [
          {
           "axis": {
            "matches": true
           },
           "label": "PC 1 (89.6%)",
           "values": [
            -0.07488518794172483
           ]
          },
          {
           "axis": {
            "matches": true
           },
           "label": "PC 2 (5.1%)",
           "values": [
            -0.01178195273081501
           ]
          },
          {
           "axis": {
            "matches": true
           },
           "label": "PC 3 (2.9%)",
           "values": [
            -0.0022570253409581508
           ]
          },
          {
           "axis": {
            "matches": true
           },
           "label": "PC 4 (2.0%)",
           "values": [
            -0.002409913582879879
           ]
          }
         ],
         "hovertemplate": "color=SCOTLAND<br>%{xaxis.title.text}=%{x}<br>%{yaxis.title.text}=%{y}<extra></extra>",
         "legendgroup": "SCOTLAND",
         "marker": {
          "color": "#EF553B",
          "symbol": "circle"
         },
         "name": "SCOTLAND",
         "showlegend": true,
         "type": "splom"
        },
        {
         "dimensions": [
          {
           "axis": {
            "matches": true
           },
           "label": "PC 1 (89.6%)",
           "values": [
            0.0038351241184307653
           ]
          },
          {
           "axis": {
            "matches": true
           },
           "label": "PC 2 (5.1%)",
           "values": [
            -0.0046846749171848105
           ]
          },
          {
           "axis": {
            "matches": true
           },
           "label": "PC 3 (2.9%)",
           "values": [
            0.0031373672025964763
           ]
          },
          {
           "axis": {
            "matches": true
           },
           "label": "PC 4 (2.0%)",
           "values": [
            0.0019217667754614452
           ]
          }
         ],
         "hovertemplate": "color=UKRAINE<br>%{xaxis.title.text}=%{x}<br>%{yaxis.title.text}=%{y}<extra></extra>",
         "legendgroup": "UKRAINE",
         "marker": {
          "color": "#00cc96",
          "symbol": "circle"
         },
         "name": "UKRAINE",
         "showlegend": true,
         "type": "splom"
        },
        {
         "dimensions": [
          {
           "axis": {
            "matches": true
           },
           "label": "PC 1 (89.6%)",
           "values": [
            -0.009757859282824823
           ]
          },
          {
           "axis": {
            "matches": true
           },
           "label": "PC 2 (5.1%)",
           "values": [
            -0.007753321451184175
           ]
          },
          {
           "axis": {
            "matches": true
           },
           "label": "PC 3 (2.9%)",
           "values": [
            0.006036485223058245
           ]
          },
          {
           "axis": {
            "matches": true
           },
           "label": "PC 4 (2.0%)",
           "values": [
            -0.006334027371782768
           ]
          }
         ],
         "hovertemplate": "color=DENMARK<br>%{xaxis.title.text}=%{x}<br>%{yaxis.title.text}=%{y}<extra></extra>",
         "legendgroup": "DENMARK",
         "marker": {
          "color": "#ab63fa",
          "symbol": "circle"
         },
         "name": "DENMARK",
         "showlegend": true,
         "type": "splom"
        }
       ],
       "layout": {
        "dragmode": "select",
        "legend": {
         "title": {
          "text": "color"
         },
         "tracegroupgap": 0
        },
        "margin": {
         "t": 60
        },
        "template": {
         "data": {
          "bar": [
           {
            "error_x": {
             "color": "#2a3f5f"
            },
            "error_y": {
             "color": "#2a3f5f"
            },
            "marker": {
             "line": {
              "color": "#E5ECF6",
              "width": 0.5
             }
            },
            "type": "bar"
           }
          ],
          "barpolar": [
           {
            "marker": {
             "line": {
              "color": "#E5ECF6",
              "width": 0.5
             }
            },
            "type": "barpolar"
           }
          ],
          "carpet": [
           {
            "aaxis": {
             "endlinecolor": "#2a3f5f",
             "gridcolor": "white",
             "linecolor": "white",
             "minorgridcolor": "white",
             "startlinecolor": "#2a3f5f"
            },
            "baxis": {
             "endlinecolor": "#2a3f5f",
             "gridcolor": "white",
             "linecolor": "white",
             "minorgridcolor": "white",
             "startlinecolor": "#2a3f5f"
            },
            "type": "carpet"
           }
          ],
          "choropleth": [
           {
            "colorbar": {
             "outlinewidth": 0,
             "ticks": ""
            },
            "type": "choropleth"
           }
          ],
          "contour": [
           {
            "colorbar": {
             "outlinewidth": 0,
             "ticks": ""
            },
            "colorscale": [
             [
              0,
              "#0d0887"
             ],
             [
              0.1111111111111111,
              "#46039f"
             ],
             [
              0.2222222222222222,
              "#7201a8"
             ],
             [
              0.3333333333333333,
              "#9c179e"
             ],
             [
              0.4444444444444444,
              "#bd3786"
             ],
             [
              0.5555555555555556,
              "#d8576b"
             ],
             [
              0.6666666666666666,
              "#ed7953"
             ],
             [
              0.7777777777777778,
              "#fb9f3a"
             ],
             [
              0.8888888888888888,
              "#fdca26"
             ],
             [
              1,
              "#f0f921"
             ]
            ],
            "type": "contour"
           }
          ],
          "contourcarpet": [
           {
            "colorbar": {
             "outlinewidth": 0,
             "ticks": ""
            },
            "type": "contourcarpet"
           }
          ],
          "heatmap": [
           {
            "colorbar": {
             "outlinewidth": 0,
             "ticks": ""
            },
            "colorscale": [
             [
              0,
              "#0d0887"
             ],
             [
              0.1111111111111111,
              "#46039f"
             ],
             [
              0.2222222222222222,
              "#7201a8"
             ],
             [
              0.3333333333333333,
              "#9c179e"
             ],
             [
              0.4444444444444444,
              "#bd3786"
             ],
             [
              0.5555555555555556,
              "#d8576b"
             ],
             [
              0.6666666666666666,
              "#ed7953"
             ],
             [
              0.7777777777777778,
              "#fb9f3a"
             ],
             [
              0.8888888888888888,
              "#fdca26"
             ],
             [
              1,
              "#f0f921"
             ]
            ],
            "type": "heatmap"
           }
          ],
          "heatmapgl": [
           {
            "colorbar": {
             "outlinewidth": 0,
             "ticks": ""
            },
            "colorscale": [
             [
              0,
              "#0d0887"
             ],
             [
              0.1111111111111111,
              "#46039f"
             ],
             [
              0.2222222222222222,
              "#7201a8"
             ],
             [
              0.3333333333333333,
              "#9c179e"
             ],
             [
              0.4444444444444444,
              "#bd3786"
             ],
             [
              0.5555555555555556,
              "#d8576b"
             ],
             [
              0.6666666666666666,
              "#ed7953"
             ],
             [
              0.7777777777777778,
              "#fb9f3a"
             ],
             [
              0.8888888888888888,
              "#fdca26"
             ],
             [
              1,
              "#f0f921"
             ]
            ],
            "type": "heatmapgl"
           }
          ],
          "histogram": [
           {
            "marker": {
             "colorbar": {
              "outlinewidth": 0,
              "ticks": ""
             }
            },
            "type": "histogram"
           }
          ],
          "histogram2d": [
           {
            "colorbar": {
             "outlinewidth": 0,
             "ticks": ""
            },
            "colorscale": [
             [
              0,
              "#0d0887"
             ],
             [
              0.1111111111111111,
              "#46039f"
             ],
             [
              0.2222222222222222,
              "#7201a8"
             ],
             [
              0.3333333333333333,
              "#9c179e"
             ],
             [
              0.4444444444444444,
              "#bd3786"
             ],
             [
              0.5555555555555556,
              "#d8576b"
             ],
             [
              0.6666666666666666,
              "#ed7953"
             ],
             [
              0.7777777777777778,
              "#fb9f3a"
             ],
             [
              0.8888888888888888,
              "#fdca26"
             ],
             [
              1,
              "#f0f921"
             ]
            ],
            "type": "histogram2d"
           }
          ],
          "histogram2dcontour": [
           {
            "colorbar": {
             "outlinewidth": 0,
             "ticks": ""
            },
            "colorscale": [
             [
              0,
              "#0d0887"
             ],
             [
              0.1111111111111111,
              "#46039f"
             ],
             [
              0.2222222222222222,
              "#7201a8"
             ],
             [
              0.3333333333333333,
              "#9c179e"
             ],
             [
              0.4444444444444444,
              "#bd3786"
             ],
             [
              0.5555555555555556,
              "#d8576b"
             ],
             [
              0.6666666666666666,
              "#ed7953"
             ],
             [
              0.7777777777777778,
              "#fb9f3a"
             ],
             [
              0.8888888888888888,
              "#fdca26"
             ],
             [
              1,
              "#f0f921"
             ]
            ],
            "type": "histogram2dcontour"
           }
          ],
          "mesh3d": [
           {
            "colorbar": {
             "outlinewidth": 0,
             "ticks": ""
            },
            "type": "mesh3d"
           }
          ],
          "parcoords": [
           {
            "line": {
             "colorbar": {
              "outlinewidth": 0,
              "ticks": ""
             }
            },
            "type": "parcoords"
           }
          ],
          "pie": [
           {
            "automargin": true,
            "type": "pie"
           }
          ],
          "scatter": [
           {
            "marker": {
             "colorbar": {
              "outlinewidth": 0,
              "ticks": ""
             }
            },
            "type": "scatter"
           }
          ],
          "scatter3d": [
           {
            "line": {
             "colorbar": {
              "outlinewidth": 0,
              "ticks": ""
             }
            },
            "marker": {
             "colorbar": {
              "outlinewidth": 0,
              "ticks": ""
             }
            },
            "type": "scatter3d"
           }
          ],
          "scattercarpet": [
           {
            "marker": {
             "colorbar": {
              "outlinewidth": 0,
              "ticks": ""
             }
            },
            "type": "scattercarpet"
           }
          ],
          "scattergeo": [
           {
            "marker": {
             "colorbar": {
              "outlinewidth": 0,
              "ticks": ""
             }
            },
            "type": "scattergeo"
           }
          ],
          "scattergl": [
           {
            "marker": {
             "colorbar": {
              "outlinewidth": 0,
              "ticks": ""
             }
            },
            "type": "scattergl"
           }
          ],
          "scattermapbox": [
           {
            "marker": {
             "colorbar": {
              "outlinewidth": 0,
              "ticks": ""
             }
            },
            "type": "scattermapbox"
           }
          ],
          "scatterpolar": [
           {
            "marker": {
             "colorbar": {
              "outlinewidth": 0,
              "ticks": ""
             }
            },
            "type": "scatterpolar"
           }
          ],
          "scatterpolargl": [
           {
            "marker": {
             "colorbar": {
              "outlinewidth": 0,
              "ticks": ""
             }
            },
            "type": "scatterpolargl"
           }
          ],
          "scatterternary": [
           {
            "marker": {
             "colorbar": {
              "outlinewidth": 0,
              "ticks": ""
             }
            },
            "type": "scatterternary"
           }
          ],
          "surface": [
           {
            "colorbar": {
             "outlinewidth": 0,
             "ticks": ""
            },
            "colorscale": [
             [
              0,
              "#0d0887"
             ],
             [
              0.1111111111111111,
              "#46039f"
             ],
             [
              0.2222222222222222,
              "#7201a8"
             ],
             [
              0.3333333333333333,
              "#9c179e"
             ],
             [
              0.4444444444444444,
              "#bd3786"
             ],
             [
              0.5555555555555556,
              "#d8576b"
             ],
             [
              0.6666666666666666,
              "#ed7953"
             ],
             [
              0.7777777777777778,
              "#fb9f3a"
             ],
             [
              0.8888888888888888,
              "#fdca26"
             ],
             [
              1,
              "#f0f921"
             ]
            ],
            "type": "surface"
           }
          ],
          "table": [
           {
            "cells": {
             "fill": {
              "color": "#EBF0F8"
             },
             "line": {
              "color": "white"
             }
            },
            "header": {
             "fill": {
              "color": "#C8D4E3"
             },
             "line": {
              "color": "white"
             }
            },
            "type": "table"
           }
          ]
         },
         "layout": {
          "annotationdefaults": {
           "arrowcolor": "#2a3f5f",
           "arrowhead": 0,
           "arrowwidth": 1
          },
          "autotypenumbers": "strict",
          "coloraxis": {
           "colorbar": {
            "outlinewidth": 0,
            "ticks": ""
           }
          },
          "colorscale": {
           "diverging": [
            [
             0,
             "#8e0152"
            ],
            [
             0.1,
             "#c51b7d"
            ],
            [
             0.2,
             "#de77ae"
            ],
            [
             0.3,
             "#f1b6da"
            ],
            [
             0.4,
             "#fde0ef"
            ],
            [
             0.5,
             "#f7f7f7"
            ],
            [
             0.6,
             "#e6f5d0"
            ],
            [
             0.7,
             "#b8e186"
            ],
            [
             0.8,
             "#7fbc41"
            ],
            [
             0.9,
             "#4d9221"
            ],
            [
             1,
             "#276419"
            ]
           ],
           "sequential": [
            [
             0,
             "#0d0887"
            ],
            [
             0.1111111111111111,
             "#46039f"
            ],
            [
             0.2222222222222222,
             "#7201a8"
            ],
            [
             0.3333333333333333,
             "#9c179e"
            ],
            [
             0.4444444444444444,
             "#bd3786"
            ],
            [
             0.5555555555555556,
             "#d8576b"
            ],
            [
             0.6666666666666666,
             "#ed7953"
            ],
            [
             0.7777777777777778,
             "#fb9f3a"
            ],
            [
             0.8888888888888888,
             "#fdca26"
            ],
            [
             1,
             "#f0f921"
            ]
           ],
           "sequentialminus": [
            [
             0,
             "#0d0887"
            ],
            [
             0.1111111111111111,
             "#46039f"
            ],
            [
             0.2222222222222222,
             "#7201a8"
            ],
            [
             0.3333333333333333,
             "#9c179e"
            ],
            [
             0.4444444444444444,
             "#bd3786"
            ],
            [
             0.5555555555555556,
             "#d8576b"
            ],
            [
             0.6666666666666666,
             "#ed7953"
            ],
            [
             0.7777777777777778,
             "#fb9f3a"
            ],
            [
             0.8888888888888888,
             "#fdca26"
            ],
            [
             1,
             "#f0f921"
            ]
           ]
          },
          "colorway": [
           "#636efa",
           "#EF553B",
           "#00cc96",
           "#ab63fa",
           "#FFA15A",
           "#19d3f3",
           "#FF6692",
           "#B6E880",
           "#FF97FF",
           "#FECB52"
          ],
          "font": {
           "color": "#2a3f5f"
          },
          "geo": {
           "bgcolor": "white",
           "lakecolor": "white",
           "landcolor": "#E5ECF6",
           "showlakes": true,
           "showland": true,
           "subunitcolor": "white"
          },
          "hoverlabel": {
           "align": "left"
          },
          "hovermode": "closest",
          "mapbox": {
           "style": "light"
          },
          "paper_bgcolor": "white",
          "plot_bgcolor": "#E5ECF6",
          "polar": {
           "angularaxis": {
            "gridcolor": "white",
            "linecolor": "white",
            "ticks": ""
           },
           "bgcolor": "#E5ECF6",
           "radialaxis": {
            "gridcolor": "white",
            "linecolor": "white",
            "ticks": ""
           }
          },
          "scene": {
           "xaxis": {
            "backgroundcolor": "#E5ECF6",
            "gridcolor": "white",
            "gridwidth": 2,
            "linecolor": "white",
            "showbackground": true,
            "ticks": "",
            "zerolinecolor": "white"
           },
           "yaxis": {
            "backgroundcolor": "#E5ECF6",
            "gridcolor": "white",
            "gridwidth": 2,
            "linecolor": "white",
            "showbackground": true,
            "ticks": "",
            "zerolinecolor": "white"
           },
           "zaxis": {
            "backgroundcolor": "#E5ECF6",
            "gridcolor": "white",
            "gridwidth": 2,
            "linecolor": "white",
            "showbackground": true,
            "ticks": "",
            "zerolinecolor": "white"
           }
          },
          "shapedefaults": {
           "line": {
            "color": "#2a3f5f"
           }
          },
          "ternary": {
           "aaxis": {
            "gridcolor": "white",
            "linecolor": "white",
            "ticks": ""
           },
           "baxis": {
            "gridcolor": "white",
            "linecolor": "white",
            "ticks": ""
           },
           "bgcolor": "#E5ECF6",
           "caxis": {
            "gridcolor": "white",
            "linecolor": "white",
            "ticks": ""
           }
          },
          "title": {
           "x": 0.05
          },
          "xaxis": {
           "automargin": true,
           "gridcolor": "white",
           "linecolor": "white",
           "ticks": "",
           "title": {
            "standoff": 15
           },
           "zerolinecolor": "white",
           "zerolinewidth": 2
          },
          "yaxis": {
           "automargin": true,
           "gridcolor": "white",
           "linecolor": "white",
           "ticks": "",
           "title": {
            "standoff": 15
           },
           "zerolinecolor": "white",
           "zerolinewidth": 2
          }
         }
        }
       }
      },
      "text/html": [
       "<div>                            <div id=\"f5125189-e7a3-4c7e-b54a-707bbd13ac15\" class=\"plotly-graph-div\" style=\"height:525px; width:100%;\"></div>            <script type=\"text/javascript\">                require([\"plotly\"], function(Plotly) {                    window.PLOTLYENV=window.PLOTLYENV || {};                                    if (document.getElementById(\"f5125189-e7a3-4c7e-b54a-707bbd13ac15\")) {                    Plotly.newPlot(                        \"f5125189-e7a3-4c7e-b54a-707bbd13ac15\",                        [{\"dimensions\": [{\"axis\": {\"matches\": true}, \"label\": \"PC 1 (89.6%)\", \"values\": [0.07243974191069007]}, {\"axis\": {\"matches\": true}, \"label\": \"PC 2 (5.1%)\", \"values\": [0.0016407175473920905]}, {\"axis\": {\"matches\": true}, \"label\": \"PC 3 (2.9%)\", \"values\": [0.0018980707219325528]}, {\"axis\": {\"matches\": true}, \"label\": \"PC 4 (2.0%)\", \"values\": [0.017526724340036902]}], \"hovertemplate\": \"color=FINLAND<br>%{xaxis.title.text}=%{x}<br>%{yaxis.title.text}=%{y}<extra></extra>\", \"legendgroup\": \"FINLAND\", \"marker\": {\"color\": \"#636efa\", \"symbol\": \"circle\"}, \"name\": \"FINLAND\", \"showlegend\": true, \"type\": \"splom\"}, {\"dimensions\": [{\"axis\": {\"matches\": true}, \"label\": \"PC 1 (89.6%)\", \"values\": [0.029400813057069347]}, {\"axis\": {\"matches\": true}, \"label\": \"PC 2 (5.1%)\", \"values\": [-0.004776236009559876]}, {\"axis\": {\"matches\": true}, \"label\": \"PC 3 (2.9%)\", \"values\": [-0.0076250049646433985]}, {\"axis\": {\"matches\": true}, \"label\": \"PC 4 (2.0%)\", \"values\": [-0.009224776342059333]}], \"hovertemplate\": \"color=CZECH_REPUBLIC<br>%{xaxis.title.text}=%{x}<br>%{yaxis.title.text}=%{y}<extra></extra>\", \"legendgroup\": \"CZECH_REPUBLIC\", \"marker\": {\"color\": \"#EF553B\", \"symbol\": \"circle\"}, \"name\": \"CZECH_REPUBLIC\", \"showlegend\": true, \"type\": \"splom\"}, {\"dimensions\": [{\"axis\": {\"matches\": true}, \"label\": \"PC 1 (89.6%)\", \"values\": [-0.02634717504768791]}, {\"axis\": {\"matches\": true}, \"label\": \"PC 2 (5.1%)\", \"values\": [0.0032634698474807468]}, {\"axis\": {\"matches\": true}, \"label\": \"PC 3 (2.9%)\", \"values\": [-0.006022074075952608]}, {\"axis\": {\"matches\": true}, \"label\": \"PC 4 (2.0%)\", \"values\": [-0.004264280063134349]}], \"hovertemplate\": \"color=AUSTRIA<br>%{xaxis.title.text}=%{x}<br>%{yaxis.title.text}=%{y}<extra></extra>\", \"legendgroup\": \"AUSTRIA\", \"marker\": {\"color\": \"#00cc96\", \"symbol\": \"circle\"}, \"name\": \"AUSTRIA\", \"showlegend\": true, \"type\": \"splom\"}, {\"dimensions\": [{\"axis\": {\"matches\": true}, \"label\": \"PC 1 (89.6%)\", \"values\": [-0.007516544171357882]}, {\"axis\": {\"matches\": true}, \"label\": \"PC 2 (5.1%)\", \"values\": [0.006975396173196675]}, {\"axis\": {\"matches\": true}, \"label\": \"PC 3 (2.9%)\", \"values\": [-0.01643189626195771]}, {\"axis\": {\"matches\": true}, \"label\": \"PC 4 (2.0%)\", \"values\": [0.002027171903668074]}], \"hovertemplate\": \"color=MACEDONIA_REPUBLIC_OF<br>%{xaxis.title.text}=%{x}<br>%{yaxis.title.text}=%{y}<extra></extra>\", \"legendgroup\": \"MACEDONIA_REPUBLIC_OF\", \"marker\": {\"color\": \"#ab63fa\", \"symbol\": \"circle\"}, \"name\": \"MACEDONIA_REPUBLIC_OF\", \"showlegend\": true, \"type\": \"splom\"}, {\"dimensions\": [{\"axis\": {\"matches\": true}, \"label\": \"PC 1 (89.6%)\", \"values\": [-0.029385982789567857]}, {\"axis\": {\"matches\": true}, \"label\": \"PC 2 (5.1%)\", \"values\": [0.0012104788520174226]}, {\"axis\": {\"matches\": true}, \"label\": \"PC 3 (2.9%)\", \"values\": [-0.004233662083360726]}, {\"axis\": {\"matches\": true}, \"label\": \"PC 4 (2.0%)\", \"values\": [0.004264419542655776]}], \"hovertemplate\": \"color=BELGIUM<br>%{xaxis.title.text}=%{x}<br>%{yaxis.title.text}=%{y}<extra></extra>\", \"legendgroup\": \"BELGIUM\", \"marker\": {\"color\": \"#FFA15A\", \"symbol\": \"circle\"}, \"name\": \"BELGIUM\", \"showlegend\": true, \"type\": \"splom\"}, {\"dimensions\": [{\"axis\": {\"matches\": true}, \"label\": \"PC 1 (89.6%)\", \"values\": [-0.02046985721260992]}, {\"axis\": {\"matches\": true}, \"label\": \"PC 2 (5.1%)\", \"values\": [-0.0019950122325191853]}, {\"axis\": {\"matches\": true}, \"label\": \"PC 3 (2.9%)\", \"values\": [0.020121244115803436]}, {\"axis\": {\"matches\": true}, \"label\": \"PC 4 (2.0%)\", \"values\": [0.0007396065222095326]}], \"hovertemplate\": \"color=CROATIA<br>%{xaxis.title.text}=%{x}<br>%{yaxis.title.text}=%{y}<extra></extra>\", \"legendgroup\": \"CROATIA\", \"marker\": {\"color\": \"#19d3f3\", \"symbol\": \"circle\"}, \"name\": \"CROATIA\", \"showlegend\": true, \"type\": \"splom\"}, {\"dimensions\": [{\"axis\": {\"matches\": true}, \"label\": \"PC 1 (89.6%)\", \"values\": [-0.049531498822995124]}, {\"axis\": {\"matches\": true}, \"label\": \"PC 2 (5.1%)\", \"values\": [0.013317491344336794]}, {\"axis\": {\"matches\": true}, \"label\": \"PC 3 (2.9%)\", \"values\": [-0.00027238790525363103]}, {\"axis\": {\"matches\": true}, \"label\": \"PC 4 (2.0%)\", \"values\": [-0.001265840678660844]}], \"hovertemplate\": \"color=SWEDEN<br>%{xaxis.title.text}=%{x}<br>%{yaxis.title.text}=%{y}<extra></extra>\", \"legendgroup\": \"SWEDEN\", \"marker\": {\"color\": \"#FF6692\", \"symbol\": \"circle\"}, \"name\": \"SWEDEN\", \"showlegend\": true, \"type\": \"splom\"}, {\"dimensions\": [{\"axis\": {\"matches\": true}, \"label\": \"PC 1 (89.6%)\", \"values\": [-0.02053099612926958]}, {\"axis\": {\"matches\": true}, \"label\": \"PC 2 (5.1%)\", \"values\": [-0.0006157373912198248]}, {\"axis\": {\"matches\": true}, \"label\": \"PC 3 (2.9%)\", \"values\": [-0.0038214778051092863]}, {\"axis\": {\"matches\": true}, \"label\": \"PC 4 (2.0%)\", \"values\": [0.005319845707194278]}], \"hovertemplate\": \"color=SWITZERLAND<br>%{xaxis.title.text}=%{x}<br>%{yaxis.title.text}=%{y}<extra></extra>\", \"legendgroup\": \"SWITZERLAND\", \"marker\": {\"color\": \"#B6E880\", \"symbol\": \"circle\"}, \"name\": \"SWITZERLAND\", \"showlegend\": true, \"type\": \"splom\"}, {\"dimensions\": [{\"axis\": {\"matches\": true}, \"label\": \"PC 1 (89.6%)\", \"values\": [-0.028204186317174723]}, {\"axis\": {\"matches\": true}, \"label\": \"PC 2 (5.1%)\", \"values\": [0.007195562822908487]}, {\"axis\": {\"matches\": true}, \"label\": \"PC 3 (2.9%)\", \"values\": [0.008474869095044019]}, {\"axis\": {\"matches\": true}, \"label\": \"PC 4 (2.0%)\", \"values\": [0.003864779995396452]}], \"hovertemplate\": \"color=SPAIN<br>%{xaxis.title.text}=%{x}<br>%{yaxis.title.text}=%{y}<extra></extra>\", \"legendgroup\": \"SPAIN\", \"marker\": {\"color\": \"#FF97FF\", \"symbol\": \"circle\"}, \"name\": \"SPAIN\", \"showlegend\": true, \"type\": \"splom\"}, {\"dimensions\": [{\"axis\": {\"matches\": true}, \"label\": \"PC 1 (89.6%)\", \"values\": [-0.007979759148542735]}, {\"axis\": {\"matches\": true}, \"label\": \"PC 2 (5.1%)\", \"values\": [-0.0082984320480114]}, {\"axis\": {\"matches\": true}, \"label\": \"PC 3 (2.9%)\", \"values\": [-0.001973431515500731]}, {\"axis\": {\"matches\": true}, \"label\": \"PC 4 (2.0%)\", \"values\": [-0.0025340236068002488]}], \"hovertemplate\": \"color=TURKEY<br>%{xaxis.title.text}=%{x}<br>%{yaxis.title.text}=%{y}<extra></extra>\", \"legendgroup\": \"TURKEY\", \"marker\": {\"color\": \"#FECB52\", \"symbol\": \"circle\"}, \"name\": \"TURKEY\", \"showlegend\": true, \"type\": \"splom\"}, {\"dimensions\": [{\"axis\": {\"matches\": true}, \"label\": \"PC 1 (89.6%)\", \"values\": [-0.051176510272573104]}, {\"axis\": {\"matches\": true}, \"label\": \"PC 2 (5.1%)\", \"values\": [-0.007941420847762344]}, {\"axis\": {\"matches\": true}, \"label\": \"PC 3 (2.9%)\", \"values\": [0.0014775456627986018]}, {\"axis\": {\"matches\": true}, \"label\": \"PC 4 (2.0%)\", \"values\": [-0.00542739664186984]}], \"hovertemplate\": \"color=WALES<br>%{xaxis.title.text}=%{x}<br>%{yaxis.title.text}=%{y}<extra></extra>\", \"legendgroup\": \"WALES\", \"marker\": {\"color\": \"#636efa\", \"symbol\": \"circle\"}, \"name\": \"WALES\", \"showlegend\": true, \"type\": \"splom\"}, {\"dimensions\": [{\"axis\": {\"matches\": true}, \"label\": \"PC 1 (89.6%)\", \"values\": [0.06843809888348618]}, {\"axis\": {\"matches\": true}, \"label\": \"PC 2 (5.1%)\", \"values\": [-0.014550597017462688]}, {\"axis\": {\"matches\": true}, \"label\": \"PC 3 (2.9%)\", \"values\": [0.0019466205921571153]}, {\"axis\": {\"matches\": true}, \"label\": \"PC 4 (2.0%)\", \"values\": [-0.001983303338925058]}], \"hovertemplate\": \"color=NETHERLANDS<br>%{xaxis.title.text}=%{x}<br>%{yaxis.title.text}=%{y}<extra></extra>\", \"legendgroup\": \"NETHERLANDS\", \"marker\": {\"color\": \"#EF553B\", \"symbol\": \"circle\"}, \"name\": \"NETHERLANDS\", \"showlegend\": true, \"type\": \"splom\"}, {\"dimensions\": [{\"axis\": {\"matches\": true}, \"label\": \"PC 1 (89.6%)\", \"values\": [-0.03593851542173952]}, {\"axis\": {\"matches\": true}, \"label\": \"PC 2 (5.1%)\", \"values\": [0.016386137878336156]}, {\"axis\": {\"matches\": true}, \"label\": \"PC 3 (2.9%)\", \"values\": [-0.0031715059257153982]}, {\"axis\": {\"matches\": true}, \"label\": \"PC 4 (2.0%)\", \"values\": [0.006989953468583369]}], \"hovertemplate\": \"color=RUSSIA<br>%{xaxis.title.text}=%{x}<br>%{yaxis.title.text}=%{y}<extra></extra>\", \"legendgroup\": \"RUSSIA\", \"marker\": {\"color\": \"#00cc96\", \"symbol\": \"circle\"}, \"name\": \"RUSSIA\", \"showlegend\": true, \"type\": \"splom\"}, {\"dimensions\": [{\"axis\": {\"matches\": true}, \"label\": \"PC 1 (89.6%)\", \"values\": [0.02159453418446007]}, {\"axis\": {\"matches\": true}, \"label\": \"PC 2 (5.1%)\", \"values\": [0.024839086993494786]}, {\"axis\": {\"matches\": true}, \"label\": \"PC 3 (2.9%)\", \"values\": [0.010931325106016639]}, {\"axis\": {\"matches\": true}, \"label\": \"PC 4 (2.0%)\", \"values\": [-0.010318289855630691]}], \"hovertemplate\": \"color=SLOVAKIA<br>%{xaxis.title.text}=%{x}<br>%{yaxis.title.text}=%{y}<extra></extra>\", \"legendgroup\": \"SLOVAKIA\", \"marker\": {\"color\": \"#ab63fa\", \"symbol\": \"circle\"}, \"name\": \"SLOVAKIA\", \"showlegend\": true, \"type\": \"splom\"}, {\"dimensions\": [{\"axis\": {\"matches\": true}, \"label\": \"PC 1 (89.6%)\", \"values\": [0.0007963163765508129]}, {\"axis\": {\"matches\": true}, \"label\": \"PC 2 (5.1%)\", \"values\": [-0.006737665912648134]}, {\"axis\": {\"matches\": true}, \"label\": \"PC 3 (2.9%)\", \"values\": [0.00492577919518836]}, {\"axis\": {\"matches\": true}, \"label\": \"PC 4 (2.0%)\", \"values\": [0.010450466381251574]}], \"hovertemplate\": \"color=FRANCE<br>%{xaxis.title.text}=%{x}<br>%{yaxis.title.text}=%{y}<extra></extra>\", \"legendgroup\": \"FRANCE\", \"marker\": {\"color\": \"#FFA15A\", \"symbol\": \"circle\"}, \"name\": \"FRANCE\", \"showlegend\": true, \"type\": \"splom\"}, {\"dimensions\": [{\"axis\": {\"matches\": true}, \"label\": \"PC 1 (89.6%)\", \"values\": [0.04055825374549412]}, {\"axis\": {\"matches\": true}, \"label\": \"PC 2 (5.1%)\", \"values\": [0.006746990530284367]}, {\"axis\": {\"matches\": true}, \"label\": \"PC 3 (2.9%)\", \"values\": [-0.0057384802504952094]}, {\"axis\": {\"matches\": true}, \"label\": \"PC 4 (2.0%)\", \"values\": [-0.004388390087054758]}], \"hovertemplate\": \"color=POLAND<br>%{xaxis.title.text}=%{x}<br>%{yaxis.title.text}=%{y}<extra></extra>\", \"legendgroup\": \"POLAND\", \"marker\": {\"color\": \"#19d3f3\", \"symbol\": \"circle\"}, \"name\": \"POLAND\", \"showlegend\": true, \"type\": \"splom\"}, {\"dimensions\": [{\"axis\": {\"matches\": true}, \"label\": \"PC 1 (89.6%)\", \"values\": [0.10812112511722484]}, {\"axis\": {\"matches\": true}, \"label\": \"PC 2 (5.1%)\", \"values\": [0.002321041804070331]}, {\"axis\": {\"matches\": true}, \"label\": \"PC 3 (2.9%)\", \"values\": [-0.002230612421088787]}, {\"axis\": {\"matches\": true}, \"label\": \"PC 4 (2.0%)\", \"values\": [-0.004893095983718023]}], \"hovertemplate\": \"color=HUNGARY<br>%{xaxis.title.text}=%{x}<br>%{yaxis.title.text}=%{y}<extra></extra>\", \"legendgroup\": \"HUNGARY\", \"marker\": {\"color\": \"#FF6692\", \"symbol\": \"circle\"}, \"name\": \"HUNGARY\", \"showlegend\": true, \"type\": \"splom\"}, {\"dimensions\": [{\"axis\": {\"matches\": true}, \"label\": \"PC 1 (89.6%)\", \"values\": [0.018031372548735602]}, {\"axis\": {\"matches\": true}, \"label\": \"PC 2 (5.1%)\", \"values\": [0.008891542618122743]}, {\"axis\": {\"matches\": true}, \"label\": \"PC 3 (2.9%)\", \"values\": [0.003235479924152783]}, {\"axis\": {\"matches\": true}, \"label\": \"PC 4 (2.0%)\", \"values\": [-0.001770546575324119]}], \"hovertemplate\": \"color=ENGLAND<br>%{xaxis.title.text}=%{x}<br>%{yaxis.title.text}=%{y}<extra></extra>\", \"legendgroup\": \"ENGLAND\", \"marker\": {\"color\": \"#B6E880\", \"symbol\": \"circle\"}, \"name\": \"ENGLAND\", \"showlegend\": true, \"type\": \"splom\"}, {\"dimensions\": [{\"axis\": {\"matches\": true}, \"label\": \"PC 1 (89.6%)\", \"values\": [0.0038351241184307653]}, {\"axis\": {\"matches\": true}, \"label\": \"PC 2 (5.1%)\", \"values\": [-0.0046846749171848105]}, {\"axis\": {\"matches\": true}, \"label\": \"PC 3 (2.9%)\", \"values\": [0.0031373672025964763]}, {\"axis\": {\"matches\": true}, \"label\": \"PC 4 (2.0%)\", \"values\": [0.0019217667754614452]}], \"hovertemplate\": \"color=ITALY<br>%{xaxis.title.text}=%{x}<br>%{yaxis.title.text}=%{y}<extra></extra>\", \"legendgroup\": \"ITALY\", \"marker\": {\"color\": \"#FF97FF\", \"symbol\": \"circle\"}, \"name\": \"ITALY\", \"showlegend\": true, \"type\": \"splom\"}, {\"dimensions\": [{\"axis\": {\"matches\": true}, \"label\": \"PC 1 (89.6%)\", \"values\": [-0.006859101592809259]}, {\"axis\": {\"matches\": true}, \"label\": \"PC 2 (5.1%)\", \"values\": [-0.000934073235820978]}, {\"axis\": {\"matches\": true}, \"label\": \"PC 3 (2.9%)\", \"values\": [-0.013207622258008709]}, {\"axis\": {\"matches\": true}, \"label\": \"PC 4 (2.0%)\", \"values\": [0.0016465760309251722]}], \"hovertemplate\": \"color=PORTUGAL<br>%{xaxis.title.text}=%{x}<br>%{yaxis.title.text}=%{y}<extra></extra>\", \"legendgroup\": \"PORTUGAL\", \"marker\": {\"color\": \"#FECB52\", \"symbol\": \"circle\"}, \"name\": \"PORTUGAL\", \"showlegend\": true, \"type\": \"splom\"}, {\"dimensions\": [{\"axis\": {\"matches\": true}, \"label\": \"PC 1 (89.6%)\", \"values\": [0.001532670090304163]}, {\"axis\": {\"matches\": true}, \"label\": \"PC 2 (5.1%)\", \"values\": [-0.018034117700266313]}, {\"axis\": {\"matches\": true}, \"label\": \"PC 3 (2.9%)\", \"values\": [0.0016630267666997139]}, {\"axis\": {\"matches\": true}, \"label\": \"PC 4 (2.0%)\", \"values\": [-0.0018591933150046498]}], \"hovertemplate\": \"color=GERMANY<br>%{xaxis.title.text}=%{x}<br>%{yaxis.title.text}=%{y}<extra></extra>\", \"legendgroup\": \"GERMANY\", \"marker\": {\"color\": \"#636efa\", \"symbol\": \"circle\"}, \"name\": \"GERMANY\", \"showlegend\": true, \"type\": \"splom\"}, {\"dimensions\": [{\"axis\": {\"matches\": true}, \"label\": \"PC 1 (89.6%)\", \"values\": [-0.07488518794172483]}, {\"axis\": {\"matches\": true}, \"label\": \"PC 2 (5.1%)\", \"values\": [-0.01178195273081501]}, {\"axis\": {\"matches\": true}, \"label\": \"PC 3 (2.9%)\", \"values\": [-0.0022570253409581508]}, {\"axis\": {\"matches\": true}, \"label\": \"PC 4 (2.0%)\", \"values\": [-0.002409913582879879]}], \"hovertemplate\": \"color=SCOTLAND<br>%{xaxis.title.text}=%{x}<br>%{yaxis.title.text}=%{y}<extra></extra>\", \"legendgroup\": \"SCOTLAND\", \"marker\": {\"color\": \"#EF553B\", \"symbol\": \"circle\"}, \"name\": \"SCOTLAND\", \"showlegend\": true, \"type\": \"splom\"}, {\"dimensions\": [{\"axis\": {\"matches\": true}, \"label\": \"PC 1 (89.6%)\", \"values\": [0.0038351241184307653]}, {\"axis\": {\"matches\": true}, \"label\": \"PC 2 (5.1%)\", \"values\": [-0.0046846749171848105]}, {\"axis\": {\"matches\": true}, \"label\": \"PC 3 (2.9%)\", \"values\": [0.0031373672025964763]}, {\"axis\": {\"matches\": true}, \"label\": \"PC 4 (2.0%)\", \"values\": [0.0019217667754614452]}], \"hovertemplate\": \"color=UKRAINE<br>%{xaxis.title.text}=%{x}<br>%{yaxis.title.text}=%{y}<extra></extra>\", \"legendgroup\": \"UKRAINE\", \"marker\": {\"color\": \"#00cc96\", \"symbol\": \"circle\"}, \"name\": \"UKRAINE\", \"showlegend\": true, \"type\": \"splom\"}, {\"dimensions\": [{\"axis\": {\"matches\": true}, \"label\": \"PC 1 (89.6%)\", \"values\": [-0.009757859282824823]}, {\"axis\": {\"matches\": true}, \"label\": \"PC 2 (5.1%)\", \"values\": [-0.007753321451184175]}, {\"axis\": {\"matches\": true}, \"label\": \"PC 3 (2.9%)\", \"values\": [0.006036485223058245]}, {\"axis\": {\"matches\": true}, \"label\": \"PC 4 (2.0%)\", \"values\": [-0.006334027371782768]}], \"hovertemplate\": \"color=DENMARK<br>%{xaxis.title.text}=%{x}<br>%{yaxis.title.text}=%{y}<extra></extra>\", \"legendgroup\": \"DENMARK\", \"marker\": {\"color\": \"#ab63fa\", \"symbol\": \"circle\"}, \"name\": \"DENMARK\", \"showlegend\": true, \"type\": \"splom\"}],                        {\"dragmode\": \"select\", \"legend\": {\"title\": {\"text\": \"color\"}, \"tracegroupgap\": 0}, \"margin\": {\"t\": 60}, \"template\": {\"data\": {\"bar\": [{\"error_x\": {\"color\": \"#2a3f5f\"}, \"error_y\": {\"color\": \"#2a3f5f\"}, \"marker\": {\"line\": {\"color\": \"#E5ECF6\", \"width\": 0.5}}, \"type\": \"bar\"}], \"barpolar\": [{\"marker\": {\"line\": {\"color\": \"#E5ECF6\", \"width\": 0.5}}, \"type\": \"barpolar\"}], \"carpet\": [{\"aaxis\": {\"endlinecolor\": \"#2a3f5f\", \"gridcolor\": \"white\", \"linecolor\": \"white\", \"minorgridcolor\": \"white\", \"startlinecolor\": \"#2a3f5f\"}, \"baxis\": {\"endlinecolor\": \"#2a3f5f\", \"gridcolor\": \"white\", \"linecolor\": \"white\", \"minorgridcolor\": \"white\", \"startlinecolor\": \"#2a3f5f\"}, \"type\": \"carpet\"}], \"choropleth\": [{\"colorbar\": {\"outlinewidth\": 0, \"ticks\": \"\"}, \"type\": \"choropleth\"}], \"contour\": [{\"colorbar\": {\"outlinewidth\": 0, \"ticks\": \"\"}, \"colorscale\": [[0.0, \"#0d0887\"], [0.1111111111111111, \"#46039f\"], [0.2222222222222222, \"#7201a8\"], [0.3333333333333333, \"#9c179e\"], [0.4444444444444444, \"#bd3786\"], [0.5555555555555556, \"#d8576b\"], [0.6666666666666666, \"#ed7953\"], [0.7777777777777778, \"#fb9f3a\"], [0.8888888888888888, \"#fdca26\"], [1.0, \"#f0f921\"]], \"type\": \"contour\"}], \"contourcarpet\": [{\"colorbar\": {\"outlinewidth\": 0, \"ticks\": \"\"}, \"type\": \"contourcarpet\"}], \"heatmap\": [{\"colorbar\": {\"outlinewidth\": 0, \"ticks\": \"\"}, \"colorscale\": [[0.0, \"#0d0887\"], [0.1111111111111111, \"#46039f\"], [0.2222222222222222, \"#7201a8\"], [0.3333333333333333, \"#9c179e\"], [0.4444444444444444, \"#bd3786\"], [0.5555555555555556, \"#d8576b\"], [0.6666666666666666, \"#ed7953\"], [0.7777777777777778, \"#fb9f3a\"], [0.8888888888888888, \"#fdca26\"], [1.0, \"#f0f921\"]], \"type\": \"heatmap\"}], \"heatmapgl\": [{\"colorbar\": {\"outlinewidth\": 0, \"ticks\": \"\"}, \"colorscale\": [[0.0, \"#0d0887\"], [0.1111111111111111, \"#46039f\"], [0.2222222222222222, \"#7201a8\"], [0.3333333333333333, \"#9c179e\"], [0.4444444444444444, \"#bd3786\"], [0.5555555555555556, \"#d8576b\"], [0.6666666666666666, \"#ed7953\"], [0.7777777777777778, \"#fb9f3a\"], [0.8888888888888888, \"#fdca26\"], [1.0, \"#f0f921\"]], \"type\": \"heatmapgl\"}], \"histogram\": [{\"marker\": {\"colorbar\": {\"outlinewidth\": 0, \"ticks\": \"\"}}, \"type\": \"histogram\"}], \"histogram2d\": [{\"colorbar\": {\"outlinewidth\": 0, \"ticks\": \"\"}, \"colorscale\": [[0.0, \"#0d0887\"], [0.1111111111111111, \"#46039f\"], [0.2222222222222222, \"#7201a8\"], [0.3333333333333333, \"#9c179e\"], [0.4444444444444444, \"#bd3786\"], [0.5555555555555556, \"#d8576b\"], [0.6666666666666666, \"#ed7953\"], [0.7777777777777778, \"#fb9f3a\"], [0.8888888888888888, \"#fdca26\"], [1.0, \"#f0f921\"]], \"type\": \"histogram2d\"}], \"histogram2dcontour\": [{\"colorbar\": {\"outlinewidth\": 0, \"ticks\": \"\"}, \"colorscale\": [[0.0, \"#0d0887\"], [0.1111111111111111, \"#46039f\"], [0.2222222222222222, \"#7201a8\"], [0.3333333333333333, \"#9c179e\"], [0.4444444444444444, \"#bd3786\"], [0.5555555555555556, \"#d8576b\"], [0.6666666666666666, \"#ed7953\"], [0.7777777777777778, \"#fb9f3a\"], [0.8888888888888888, \"#fdca26\"], [1.0, \"#f0f921\"]], \"type\": \"histogram2dcontour\"}], \"mesh3d\": [{\"colorbar\": {\"outlinewidth\": 0, \"ticks\": \"\"}, \"type\": \"mesh3d\"}], \"parcoords\": [{\"line\": {\"colorbar\": {\"outlinewidth\": 0, \"ticks\": \"\"}}, \"type\": \"parcoords\"}], \"pie\": [{\"automargin\": true, \"type\": \"pie\"}], \"scatter\": [{\"marker\": {\"colorbar\": {\"outlinewidth\": 0, \"ticks\": \"\"}}, \"type\": \"scatter\"}], \"scatter3d\": [{\"line\": {\"colorbar\": {\"outlinewidth\": 0, \"ticks\": \"\"}}, \"marker\": {\"colorbar\": {\"outlinewidth\": 0, \"ticks\": \"\"}}, \"type\": \"scatter3d\"}], \"scattercarpet\": [{\"marker\": {\"colorbar\": {\"outlinewidth\": 0, \"ticks\": \"\"}}, \"type\": \"scattercarpet\"}], \"scattergeo\": [{\"marker\": {\"colorbar\": {\"outlinewidth\": 0, \"ticks\": \"\"}}, \"type\": \"scattergeo\"}], \"scattergl\": [{\"marker\": {\"colorbar\": {\"outlinewidth\": 0, \"ticks\": \"\"}}, \"type\": \"scattergl\"}], \"scattermapbox\": [{\"marker\": {\"colorbar\": {\"outlinewidth\": 0, \"ticks\": \"\"}}, \"type\": \"scattermapbox\"}], \"scatterpolar\": [{\"marker\": {\"colorbar\": {\"outlinewidth\": 0, \"ticks\": \"\"}}, \"type\": \"scatterpolar\"}], \"scatterpolargl\": [{\"marker\": {\"colorbar\": {\"outlinewidth\": 0, \"ticks\": \"\"}}, \"type\": \"scatterpolargl\"}], \"scatterternary\": [{\"marker\": {\"colorbar\": {\"outlinewidth\": 0, \"ticks\": \"\"}}, \"type\": \"scatterternary\"}], \"surface\": [{\"colorbar\": {\"outlinewidth\": 0, \"ticks\": \"\"}, \"colorscale\": [[0.0, \"#0d0887\"], [0.1111111111111111, \"#46039f\"], [0.2222222222222222, \"#7201a8\"], [0.3333333333333333, \"#9c179e\"], [0.4444444444444444, \"#bd3786\"], [0.5555555555555556, \"#d8576b\"], [0.6666666666666666, \"#ed7953\"], [0.7777777777777778, \"#fb9f3a\"], [0.8888888888888888, \"#fdca26\"], [1.0, \"#f0f921\"]], \"type\": \"surface\"}], \"table\": [{\"cells\": {\"fill\": {\"color\": \"#EBF0F8\"}, \"line\": {\"color\": \"white\"}}, \"header\": {\"fill\": {\"color\": \"#C8D4E3\"}, \"line\": {\"color\": \"white\"}}, \"type\": \"table\"}]}, \"layout\": {\"annotationdefaults\": {\"arrowcolor\": \"#2a3f5f\", \"arrowhead\": 0, \"arrowwidth\": 1}, \"autotypenumbers\": \"strict\", \"coloraxis\": {\"colorbar\": {\"outlinewidth\": 0, \"ticks\": \"\"}}, \"colorscale\": {\"diverging\": [[0, \"#8e0152\"], [0.1, \"#c51b7d\"], [0.2, \"#de77ae\"], [0.3, \"#f1b6da\"], [0.4, \"#fde0ef\"], [0.5, \"#f7f7f7\"], [0.6, \"#e6f5d0\"], [0.7, \"#b8e186\"], [0.8, \"#7fbc41\"], [0.9, \"#4d9221\"], [1, \"#276419\"]], \"sequential\": [[0.0, \"#0d0887\"], [0.1111111111111111, \"#46039f\"], [0.2222222222222222, \"#7201a8\"], [0.3333333333333333, \"#9c179e\"], [0.4444444444444444, \"#bd3786\"], [0.5555555555555556, \"#d8576b\"], [0.6666666666666666, \"#ed7953\"], [0.7777777777777778, \"#fb9f3a\"], [0.8888888888888888, \"#fdca26\"], [1.0, \"#f0f921\"]], \"sequentialminus\": [[0.0, \"#0d0887\"], [0.1111111111111111, \"#46039f\"], [0.2222222222222222, \"#7201a8\"], [0.3333333333333333, \"#9c179e\"], [0.4444444444444444, \"#bd3786\"], [0.5555555555555556, \"#d8576b\"], [0.6666666666666666, \"#ed7953\"], [0.7777777777777778, \"#fb9f3a\"], [0.8888888888888888, \"#fdca26\"], [1.0, \"#f0f921\"]]}, \"colorway\": [\"#636efa\", \"#EF553B\", \"#00cc96\", \"#ab63fa\", \"#FFA15A\", \"#19d3f3\", \"#FF6692\", \"#B6E880\", \"#FF97FF\", \"#FECB52\"], \"font\": {\"color\": \"#2a3f5f\"}, \"geo\": {\"bgcolor\": \"white\", \"lakecolor\": \"white\", \"landcolor\": \"#E5ECF6\", \"showlakes\": true, \"showland\": true, \"subunitcolor\": \"white\"}, \"hoverlabel\": {\"align\": \"left\"}, \"hovermode\": \"closest\", \"mapbox\": {\"style\": \"light\"}, \"paper_bgcolor\": \"white\", \"plot_bgcolor\": \"#E5ECF6\", \"polar\": {\"angularaxis\": {\"gridcolor\": \"white\", \"linecolor\": \"white\", \"ticks\": \"\"}, \"bgcolor\": \"#E5ECF6\", \"radialaxis\": {\"gridcolor\": \"white\", \"linecolor\": \"white\", \"ticks\": \"\"}}, \"scene\": {\"xaxis\": {\"backgroundcolor\": \"#E5ECF6\", \"gridcolor\": \"white\", \"gridwidth\": 2, \"linecolor\": \"white\", \"showbackground\": true, \"ticks\": \"\", \"zerolinecolor\": \"white\"}, \"yaxis\": {\"backgroundcolor\": \"#E5ECF6\", \"gridcolor\": \"white\", \"gridwidth\": 2, \"linecolor\": \"white\", \"showbackground\": true, \"ticks\": \"\", \"zerolinecolor\": \"white\"}, \"zaxis\": {\"backgroundcolor\": \"#E5ECF6\", \"gridcolor\": \"white\", \"gridwidth\": 2, \"linecolor\": \"white\", \"showbackground\": true, \"ticks\": \"\", \"zerolinecolor\": \"white\"}}, \"shapedefaults\": {\"line\": {\"color\": \"#2a3f5f\"}}, \"ternary\": {\"aaxis\": {\"gridcolor\": \"white\", \"linecolor\": \"white\", \"ticks\": \"\"}, \"baxis\": {\"gridcolor\": \"white\", \"linecolor\": \"white\", \"ticks\": \"\"}, \"bgcolor\": \"#E5ECF6\", \"caxis\": {\"gridcolor\": \"white\", \"linecolor\": \"white\", \"ticks\": \"\"}}, \"title\": {\"x\": 0.05}, \"xaxis\": {\"automargin\": true, \"gridcolor\": \"white\", \"linecolor\": \"white\", \"ticks\": \"\", \"title\": {\"standoff\": 15}, \"zerolinecolor\": \"white\", \"zerolinewidth\": 2}, \"yaxis\": {\"automargin\": true, \"gridcolor\": \"white\", \"linecolor\": \"white\", \"ticks\": \"\", \"title\": {\"standoff\": 15}, \"zerolinecolor\": \"white\", \"zerolinewidth\": 2}}}},                        {\"responsive\": true}                    ).then(function(){\n",
       "                            \n",
       "var gd = document.getElementById('f5125189-e7a3-4c7e-b54a-707bbd13ac15');\n",
       "var x = new MutationObserver(function (mutations, observer) {{\n",
       "        var display = window.getComputedStyle(gd).display;\n",
       "        if (!display || display === 'none') {{\n",
       "            console.log([gd, 'removed!']);\n",
       "            Plotly.purge(gd);\n",
       "            observer.disconnect();\n",
       "        }}\n",
       "}});\n",
       "\n",
       "// Listen for the removal of the full notebook cells\n",
       "var notebookContainer = gd.closest('#notebook-container');\n",
       "if (notebookContainer) {{\n",
       "    x.observe(notebookContainer, {childList: true});\n",
       "}}\n",
       "\n",
       "// Listen for the clearing of the current output cell\n",
       "var outputEl = gd.closest('.output');\n",
       "if (outputEl) {{\n",
       "    x.observe(outputEl, {childList: true});\n",
       "}}\n",
       "\n",
       "                        })                };                });            </script>        </div>"
      ]
     },
     "metadata": {},
     "output_type": "display_data"
    }
   ],
   "source": [
    "import plotly.express as px\n",
    "from sklearn.decomposition import PCA\n",
    "\n",
    "pca = PCA()\n",
    "components = pca.fit_transform(df)\n",
    "labels = {\n",
    "    str(i): f\"PC {i+1} ({var:.1f}%)\"\n",
    "    for i, var in enumerate(pca.explained_variance_ratio_ * 100)\n",
    "}\n",
    "\n",
    "fig = px.scatter_matrix(\n",
    "    components,\n",
    "    labels=labels,\n",
    "    dimensions=range(4),\n",
    "    color=df.index\n",
    ")\n",
    "fig.update_traces()\n",
    "fig.show()"
   ]
  },
  {
   "cell_type": "code",
   "execution_count": 109,
   "metadata": {},
   "outputs": [
    {
     "data": {
      "application/vnd.plotly.v1+json": {
       "config": {
        "plotlyServerURL": "https://plot.ly"
       },
       "data": [
        {
         "hovertemplate": "color=FINLAND<br>0=%{x}<br>1=%{y}<br>text=%{text}<extra></extra>",
         "legendgroup": "FINLAND",
         "marker": {
          "color": "#636efa",
          "symbol": "circle"
         },
         "mode": "markers+text",
         "name": "FINLAND",
         "orientation": "v",
         "showlegend": false,
         "text": [
          "FINLAND"
         ],
         "textfont": {
          "size": 9
         },
         "textposition": "bottom center",
         "type": "scatter",
         "x": [
          0.07243974191069007
         ],
         "xaxis": "x",
         "y": [
          0.0016407175473920905
         ],
         "yaxis": "y"
        },
        {
         "hovertemplate": "color=CZECH_REPUBLIC<br>0=%{x}<br>1=%{y}<br>text=%{text}<extra></extra>",
         "legendgroup": "CZECH_REPUBLIC",
         "marker": {
          "color": "#EF553B",
          "symbol": "circle"
         },
         "mode": "markers+text",
         "name": "CZECH_REPUBLIC",
         "orientation": "v",
         "showlegend": false,
         "text": [
          "CZECH_REPUBLIC"
         ],
         "textfont": {
          "size": 9
         },
         "textposition": "bottom center",
         "type": "scatter",
         "x": [
          0.029400813057069347
         ],
         "xaxis": "x",
         "y": [
          -0.004776236009559876
         ],
         "yaxis": "y"
        },
        {
         "hovertemplate": "color=AUSTRIA<br>0=%{x}<br>1=%{y}<br>text=%{text}<extra></extra>",
         "legendgroup": "AUSTRIA",
         "marker": {
          "color": "#00cc96",
          "symbol": "circle"
         },
         "mode": "markers+text",
         "name": "AUSTRIA",
         "orientation": "v",
         "showlegend": false,
         "text": [
          "AUSTRIA"
         ],
         "textfont": {
          "size": 9
         },
         "textposition": "bottom center",
         "type": "scatter",
         "x": [
          -0.02634717504768791
         ],
         "xaxis": "x",
         "y": [
          0.0032634698474807468
         ],
         "yaxis": "y"
        },
        {
         "hovertemplate": "color=MACEDONIA_REPUBLIC_OF<br>0=%{x}<br>1=%{y}<br>text=%{text}<extra></extra>",
         "legendgroup": "MACEDONIA_REPUBLIC_OF",
         "marker": {
          "color": "#ab63fa",
          "symbol": "circle"
         },
         "mode": "markers+text",
         "name": "MACEDONIA_REPUBLIC_OF",
         "orientation": "v",
         "showlegend": false,
         "text": [
          "MACEDONIA_REPUBLIC_OF"
         ],
         "textfont": {
          "size": 9
         },
         "textposition": "bottom center",
         "type": "scatter",
         "x": [
          -0.007516544171357882
         ],
         "xaxis": "x",
         "y": [
          0.006975396173196675
         ],
         "yaxis": "y"
        },
        {
         "hovertemplate": "color=BELGIUM<br>0=%{x}<br>1=%{y}<br>text=%{text}<extra></extra>",
         "legendgroup": "BELGIUM",
         "marker": {
          "color": "#FFA15A",
          "symbol": "circle"
         },
         "mode": "markers+text",
         "name": "BELGIUM",
         "orientation": "v",
         "showlegend": false,
         "text": [
          "BELGIUM"
         ],
         "textfont": {
          "size": 9
         },
         "textposition": "bottom center",
         "type": "scatter",
         "x": [
          -0.029385982789567857
         ],
         "xaxis": "x",
         "y": [
          0.0012104788520174226
         ],
         "yaxis": "y"
        },
        {
         "hovertemplate": "color=CROATIA<br>0=%{x}<br>1=%{y}<br>text=%{text}<extra></extra>",
         "legendgroup": "CROATIA",
         "marker": {
          "color": "#19d3f3",
          "symbol": "circle"
         },
         "mode": "markers+text",
         "name": "CROATIA",
         "orientation": "v",
         "showlegend": false,
         "text": [
          "CROATIA"
         ],
         "textfont": {
          "size": 9
         },
         "textposition": "bottom center",
         "type": "scatter",
         "x": [
          -0.02046985721260992
         ],
         "xaxis": "x",
         "y": [
          -0.0019950122325191853
         ],
         "yaxis": "y"
        },
        {
         "hovertemplate": "color=SWEDEN<br>0=%{x}<br>1=%{y}<br>text=%{text}<extra></extra>",
         "legendgroup": "SWEDEN",
         "marker": {
          "color": "#FF6692",
          "symbol": "circle"
         },
         "mode": "markers+text",
         "name": "SWEDEN",
         "orientation": "v",
         "showlegend": false,
         "text": [
          "SWEDEN"
         ],
         "textfont": {
          "size": 9
         },
         "textposition": "bottom center",
         "type": "scatter",
         "x": [
          -0.049531498822995124
         ],
         "xaxis": "x",
         "y": [
          0.013317491344336794
         ],
         "yaxis": "y"
        },
        {
         "hovertemplate": "color=SWITZERLAND<br>0=%{x}<br>1=%{y}<br>text=%{text}<extra></extra>",
         "legendgroup": "SWITZERLAND",
         "marker": {
          "color": "#B6E880",
          "symbol": "circle"
         },
         "mode": "markers+text",
         "name": "SWITZERLAND",
         "orientation": "v",
         "showlegend": false,
         "text": [
          "SWITZERLAND"
         ],
         "textfont": {
          "size": 9
         },
         "textposition": "bottom center",
         "type": "scatter",
         "x": [
          -0.02053099612926958
         ],
         "xaxis": "x",
         "y": [
          -0.0006157373912198248
         ],
         "yaxis": "y"
        },
        {
         "hovertemplate": "color=SPAIN<br>0=%{x}<br>1=%{y}<br>text=%{text}<extra></extra>",
         "legendgroup": "SPAIN",
         "marker": {
          "color": "#FF97FF",
          "symbol": "circle"
         },
         "mode": "markers+text",
         "name": "SPAIN",
         "orientation": "v",
         "showlegend": false,
         "text": [
          "SPAIN"
         ],
         "textfont": {
          "size": 9
         },
         "textposition": "bottom center",
         "type": "scatter",
         "x": [
          -0.028204186317174723
         ],
         "xaxis": "x",
         "y": [
          0.007195562822908487
         ],
         "yaxis": "y"
        },
        {
         "hovertemplate": "color=TURKEY<br>0=%{x}<br>1=%{y}<br>text=%{text}<extra></extra>",
         "legendgroup": "TURKEY",
         "marker": {
          "color": "#FECB52",
          "symbol": "circle"
         },
         "mode": "markers+text",
         "name": "TURKEY",
         "orientation": "v",
         "showlegend": false,
         "text": [
          "TURKEY"
         ],
         "textfont": {
          "size": 9
         },
         "textposition": "bottom center",
         "type": "scatter",
         "x": [
          -0.007979759148542735
         ],
         "xaxis": "x",
         "y": [
          -0.0082984320480114
         ],
         "yaxis": "y"
        },
        {
         "hovertemplate": "color=WALES<br>0=%{x}<br>1=%{y}<br>text=%{text}<extra></extra>",
         "legendgroup": "WALES",
         "marker": {
          "color": "#636efa",
          "symbol": "circle"
         },
         "mode": "markers+text",
         "name": "WALES",
         "orientation": "v",
         "showlegend": false,
         "text": [
          "WALES"
         ],
         "textfont": {
          "size": 9
         },
         "textposition": "bottom center",
         "type": "scatter",
         "x": [
          -0.051176510272573104
         ],
         "xaxis": "x",
         "y": [
          -0.007941420847762344
         ],
         "yaxis": "y"
        },
        {
         "hovertemplate": "color=NETHERLANDS<br>0=%{x}<br>1=%{y}<br>text=%{text}<extra></extra>",
         "legendgroup": "NETHERLANDS",
         "marker": {
          "color": "#EF553B",
          "symbol": "circle"
         },
         "mode": "markers+text",
         "name": "NETHERLANDS",
         "orientation": "v",
         "showlegend": false,
         "text": [
          "NETHERLANDS"
         ],
         "textfont": {
          "size": 9
         },
         "textposition": "bottom center",
         "type": "scatter",
         "x": [
          0.06843809888348618
         ],
         "xaxis": "x",
         "y": [
          -0.014550597017462688
         ],
         "yaxis": "y"
        },
        {
         "hovertemplate": "color=RUSSIA<br>0=%{x}<br>1=%{y}<br>text=%{text}<extra></extra>",
         "legendgroup": "RUSSIA",
         "marker": {
          "color": "#00cc96",
          "symbol": "circle"
         },
         "mode": "markers+text",
         "name": "RUSSIA",
         "orientation": "v",
         "showlegend": false,
         "text": [
          "RUSSIA"
         ],
         "textfont": {
          "size": 9
         },
         "textposition": "bottom center",
         "type": "scatter",
         "x": [
          -0.03593851542173952
         ],
         "xaxis": "x",
         "y": [
          0.016386137878336156
         ],
         "yaxis": "y"
        },
        {
         "hovertemplate": "color=SLOVAKIA<br>0=%{x}<br>1=%{y}<br>text=%{text}<extra></extra>",
         "legendgroup": "SLOVAKIA",
         "marker": {
          "color": "#ab63fa",
          "symbol": "circle"
         },
         "mode": "markers+text",
         "name": "SLOVAKIA",
         "orientation": "v",
         "showlegend": false,
         "text": [
          "SLOVAKIA"
         ],
         "textfont": {
          "size": 9
         },
         "textposition": "bottom center",
         "type": "scatter",
         "x": [
          0.02159453418446007
         ],
         "xaxis": "x",
         "y": [
          0.024839086993494786
         ],
         "yaxis": "y"
        },
        {
         "hovertemplate": "color=FRANCE<br>0=%{x}<br>1=%{y}<br>text=%{text}<extra></extra>",
         "legendgroup": "FRANCE",
         "marker": {
          "color": "#FFA15A",
          "symbol": "circle"
         },
         "mode": "markers+text",
         "name": "FRANCE",
         "orientation": "v",
         "showlegend": false,
         "text": [
          "FRANCE"
         ],
         "textfont": {
          "size": 9
         },
         "textposition": "bottom center",
         "type": "scatter",
         "x": [
          0.0007963163765508129
         ],
         "xaxis": "x",
         "y": [
          -0.006737665912648134
         ],
         "yaxis": "y"
        },
        {
         "hovertemplate": "color=POLAND<br>0=%{x}<br>1=%{y}<br>text=%{text}<extra></extra>",
         "legendgroup": "POLAND",
         "marker": {
          "color": "#19d3f3",
          "symbol": "circle"
         },
         "mode": "markers+text",
         "name": "POLAND",
         "orientation": "v",
         "showlegend": false,
         "text": [
          "POLAND"
         ],
         "textfont": {
          "size": 9
         },
         "textposition": "bottom center",
         "type": "scatter",
         "x": [
          0.04055825374549412
         ],
         "xaxis": "x",
         "y": [
          0.006746990530284367
         ],
         "yaxis": "y"
        },
        {
         "hovertemplate": "color=HUNGARY<br>0=%{x}<br>1=%{y}<br>text=%{text}<extra></extra>",
         "legendgroup": "HUNGARY",
         "marker": {
          "color": "#FF6692",
          "symbol": "circle"
         },
         "mode": "markers+text",
         "name": "HUNGARY",
         "orientation": "v",
         "showlegend": false,
         "text": [
          "HUNGARY"
         ],
         "textfont": {
          "size": 9
         },
         "textposition": "bottom center",
         "type": "scatter",
         "x": [
          0.10812112511722484
         ],
         "xaxis": "x",
         "y": [
          0.002321041804070331
         ],
         "yaxis": "y"
        },
        {
         "hovertemplate": "color=ENGLAND<br>0=%{x}<br>1=%{y}<br>text=%{text}<extra></extra>",
         "legendgroup": "ENGLAND",
         "marker": {
          "color": "#B6E880",
          "symbol": "circle"
         },
         "mode": "markers+text",
         "name": "ENGLAND",
         "orientation": "v",
         "showlegend": false,
         "text": [
          "ENGLAND"
         ],
         "textfont": {
          "size": 9
         },
         "textposition": "bottom center",
         "type": "scatter",
         "x": [
          0.018031372548735602
         ],
         "xaxis": "x",
         "y": [
          0.008891542618122743
         ],
         "yaxis": "y"
        },
        {
         "hovertemplate": "color=ITALY<br>0=%{x}<br>1=%{y}<br>text=%{text}<extra></extra>",
         "legendgroup": "ITALY",
         "marker": {
          "color": "#FF97FF",
          "symbol": "circle"
         },
         "mode": "markers+text",
         "name": "ITALY",
         "orientation": "v",
         "showlegend": false,
         "text": [
          "ITALY"
         ],
         "textfont": {
          "size": 9
         },
         "textposition": "bottom center",
         "type": "scatter",
         "x": [
          0.0038351241184307653
         ],
         "xaxis": "x",
         "y": [
          -0.0046846749171848105
         ],
         "yaxis": "y"
        },
        {
         "hovertemplate": "color=PORTUGAL<br>0=%{x}<br>1=%{y}<br>text=%{text}<extra></extra>",
         "legendgroup": "PORTUGAL",
         "marker": {
          "color": "#FECB52",
          "symbol": "circle"
         },
         "mode": "markers+text",
         "name": "PORTUGAL",
         "orientation": "v",
         "showlegend": false,
         "text": [
          "PORTUGAL"
         ],
         "textfont": {
          "size": 9
         },
         "textposition": "bottom center",
         "type": "scatter",
         "x": [
          -0.006859101592809259
         ],
         "xaxis": "x",
         "y": [
          -0.000934073235820978
         ],
         "yaxis": "y"
        },
        {
         "hovertemplate": "color=GERMANY<br>0=%{x}<br>1=%{y}<br>text=%{text}<extra></extra>",
         "legendgroup": "GERMANY",
         "marker": {
          "color": "#636efa",
          "symbol": "circle"
         },
         "mode": "markers+text",
         "name": "GERMANY",
         "orientation": "v",
         "showlegend": false,
         "text": [
          "GERMANY"
         ],
         "textfont": {
          "size": 9
         },
         "textposition": "bottom center",
         "type": "scatter",
         "x": [
          0.001532670090304163
         ],
         "xaxis": "x",
         "y": [
          -0.018034117700266313
         ],
         "yaxis": "y"
        },
        {
         "hovertemplate": "color=SCOTLAND<br>0=%{x}<br>1=%{y}<br>text=%{text}<extra></extra>",
         "legendgroup": "SCOTLAND",
         "marker": {
          "color": "#EF553B",
          "symbol": "circle"
         },
         "mode": "markers+text",
         "name": "SCOTLAND",
         "orientation": "v",
         "showlegend": false,
         "text": [
          "SCOTLAND"
         ],
         "textfont": {
          "size": 9
         },
         "textposition": "bottom center",
         "type": "scatter",
         "x": [
          -0.07488518794172483
         ],
         "xaxis": "x",
         "y": [
          -0.01178195273081501
         ],
         "yaxis": "y"
        },
        {
         "hovertemplate": "color=UKRAINE<br>0=%{x}<br>1=%{y}<br>text=%{text}<extra></extra>",
         "legendgroup": "UKRAINE",
         "marker": {
          "color": "#00cc96",
          "symbol": "circle"
         },
         "mode": "markers+text",
         "name": "UKRAINE",
         "orientation": "v",
         "showlegend": false,
         "text": [
          "UKRAINE"
         ],
         "textfont": {
          "size": 9
         },
         "textposition": "bottom center",
         "type": "scatter",
         "x": [
          0.0038351241184307653
         ],
         "xaxis": "x",
         "y": [
          -0.0046846749171848105
         ],
         "yaxis": "y"
        },
        {
         "hovertemplate": "color=DENMARK<br>0=%{x}<br>1=%{y}<br>text=%{text}<extra></extra>",
         "legendgroup": "DENMARK",
         "marker": {
          "color": "#ab63fa",
          "symbol": "circle"
         },
         "mode": "markers+text",
         "name": "DENMARK",
         "orientation": "v",
         "showlegend": false,
         "text": [
          "DENMARK"
         ],
         "textfont": {
          "size": 9
         },
         "textposition": "bottom center",
         "type": "scatter",
         "x": [
          -0.009757859282824823
         ],
         "xaxis": "x",
         "y": [
          -0.007753321451184175
         ],
         "yaxis": "y"
        }
       ],
       "layout": {
        "legend": {
         "title": {
          "text": "color"
         },
         "tracegroupgap": 0
        },
        "margin": {
         "t": 60
        },
        "template": {
         "data": {
          "bar": [
           {
            "error_x": {
             "color": "#2a3f5f"
            },
            "error_y": {
             "color": "#2a3f5f"
            },
            "marker": {
             "line": {
              "color": "#E5ECF6",
              "width": 0.5
             }
            },
            "type": "bar"
           }
          ],
          "barpolar": [
           {
            "marker": {
             "line": {
              "color": "#E5ECF6",
              "width": 0.5
             }
            },
            "type": "barpolar"
           }
          ],
          "carpet": [
           {
            "aaxis": {
             "endlinecolor": "#2a3f5f",
             "gridcolor": "white",
             "linecolor": "white",
             "minorgridcolor": "white",
             "startlinecolor": "#2a3f5f"
            },
            "baxis": {
             "endlinecolor": "#2a3f5f",
             "gridcolor": "white",
             "linecolor": "white",
             "minorgridcolor": "white",
             "startlinecolor": "#2a3f5f"
            },
            "type": "carpet"
           }
          ],
          "choropleth": [
           {
            "colorbar": {
             "outlinewidth": 0,
             "ticks": ""
            },
            "type": "choropleth"
           }
          ],
          "contour": [
           {
            "colorbar": {
             "outlinewidth": 0,
             "ticks": ""
            },
            "colorscale": [
             [
              0,
              "#0d0887"
             ],
             [
              0.1111111111111111,
              "#46039f"
             ],
             [
              0.2222222222222222,
              "#7201a8"
             ],
             [
              0.3333333333333333,
              "#9c179e"
             ],
             [
              0.4444444444444444,
              "#bd3786"
             ],
             [
              0.5555555555555556,
              "#d8576b"
             ],
             [
              0.6666666666666666,
              "#ed7953"
             ],
             [
              0.7777777777777778,
              "#fb9f3a"
             ],
             [
              0.8888888888888888,
              "#fdca26"
             ],
             [
              1,
              "#f0f921"
             ]
            ],
            "type": "contour"
           }
          ],
          "contourcarpet": [
           {
            "colorbar": {
             "outlinewidth": 0,
             "ticks": ""
            },
            "type": "contourcarpet"
           }
          ],
          "heatmap": [
           {
            "colorbar": {
             "outlinewidth": 0,
             "ticks": ""
            },
            "colorscale": [
             [
              0,
              "#0d0887"
             ],
             [
              0.1111111111111111,
              "#46039f"
             ],
             [
              0.2222222222222222,
              "#7201a8"
             ],
             [
              0.3333333333333333,
              "#9c179e"
             ],
             [
              0.4444444444444444,
              "#bd3786"
             ],
             [
              0.5555555555555556,
              "#d8576b"
             ],
             [
              0.6666666666666666,
              "#ed7953"
             ],
             [
              0.7777777777777778,
              "#fb9f3a"
             ],
             [
              0.8888888888888888,
              "#fdca26"
             ],
             [
              1,
              "#f0f921"
             ]
            ],
            "type": "heatmap"
           }
          ],
          "heatmapgl": [
           {
            "colorbar": {
             "outlinewidth": 0,
             "ticks": ""
            },
            "colorscale": [
             [
              0,
              "#0d0887"
             ],
             [
              0.1111111111111111,
              "#46039f"
             ],
             [
              0.2222222222222222,
              "#7201a8"
             ],
             [
              0.3333333333333333,
              "#9c179e"
             ],
             [
              0.4444444444444444,
              "#bd3786"
             ],
             [
              0.5555555555555556,
              "#d8576b"
             ],
             [
              0.6666666666666666,
              "#ed7953"
             ],
             [
              0.7777777777777778,
              "#fb9f3a"
             ],
             [
              0.8888888888888888,
              "#fdca26"
             ],
             [
              1,
              "#f0f921"
             ]
            ],
            "type": "heatmapgl"
           }
          ],
          "histogram": [
           {
            "marker": {
             "colorbar": {
              "outlinewidth": 0,
              "ticks": ""
             }
            },
            "type": "histogram"
           }
          ],
          "histogram2d": [
           {
            "colorbar": {
             "outlinewidth": 0,
             "ticks": ""
            },
            "colorscale": [
             [
              0,
              "#0d0887"
             ],
             [
              0.1111111111111111,
              "#46039f"
             ],
             [
              0.2222222222222222,
              "#7201a8"
             ],
             [
              0.3333333333333333,
              "#9c179e"
             ],
             [
              0.4444444444444444,
              "#bd3786"
             ],
             [
              0.5555555555555556,
              "#d8576b"
             ],
             [
              0.6666666666666666,
              "#ed7953"
             ],
             [
              0.7777777777777778,
              "#fb9f3a"
             ],
             [
              0.8888888888888888,
              "#fdca26"
             ],
             [
              1,
              "#f0f921"
             ]
            ],
            "type": "histogram2d"
           }
          ],
          "histogram2dcontour": [
           {
            "colorbar": {
             "outlinewidth": 0,
             "ticks": ""
            },
            "colorscale": [
             [
              0,
              "#0d0887"
             ],
             [
              0.1111111111111111,
              "#46039f"
             ],
             [
              0.2222222222222222,
              "#7201a8"
             ],
             [
              0.3333333333333333,
              "#9c179e"
             ],
             [
              0.4444444444444444,
              "#bd3786"
             ],
             [
              0.5555555555555556,
              "#d8576b"
             ],
             [
              0.6666666666666666,
              "#ed7953"
             ],
             [
              0.7777777777777778,
              "#fb9f3a"
             ],
             [
              0.8888888888888888,
              "#fdca26"
             ],
             [
              1,
              "#f0f921"
             ]
            ],
            "type": "histogram2dcontour"
           }
          ],
          "mesh3d": [
           {
            "colorbar": {
             "outlinewidth": 0,
             "ticks": ""
            },
            "type": "mesh3d"
           }
          ],
          "parcoords": [
           {
            "line": {
             "colorbar": {
              "outlinewidth": 0,
              "ticks": ""
             }
            },
            "type": "parcoords"
           }
          ],
          "pie": [
           {
            "automargin": true,
            "type": "pie"
           }
          ],
          "scatter": [
           {
            "marker": {
             "colorbar": {
              "outlinewidth": 0,
              "ticks": ""
             }
            },
            "type": "scatter"
           }
          ],
          "scatter3d": [
           {
            "line": {
             "colorbar": {
              "outlinewidth": 0,
              "ticks": ""
             }
            },
            "marker": {
             "colorbar": {
              "outlinewidth": 0,
              "ticks": ""
             }
            },
            "type": "scatter3d"
           }
          ],
          "scattercarpet": [
           {
            "marker": {
             "colorbar": {
              "outlinewidth": 0,
              "ticks": ""
             }
            },
            "type": "scattercarpet"
           }
          ],
          "scattergeo": [
           {
            "marker": {
             "colorbar": {
              "outlinewidth": 0,
              "ticks": ""
             }
            },
            "type": "scattergeo"
           }
          ],
          "scattergl": [
           {
            "marker": {
             "colorbar": {
              "outlinewidth": 0,
              "ticks": ""
             }
            },
            "type": "scattergl"
           }
          ],
          "scattermapbox": [
           {
            "marker": {
             "colorbar": {
              "outlinewidth": 0,
              "ticks": ""
             }
            },
            "type": "scattermapbox"
           }
          ],
          "scatterpolar": [
           {
            "marker": {
             "colorbar": {
              "outlinewidth": 0,
              "ticks": ""
             }
            },
            "type": "scatterpolar"
           }
          ],
          "scatterpolargl": [
           {
            "marker": {
             "colorbar": {
              "outlinewidth": 0,
              "ticks": ""
             }
            },
            "type": "scatterpolargl"
           }
          ],
          "scatterternary": [
           {
            "marker": {
             "colorbar": {
              "outlinewidth": 0,
              "ticks": ""
             }
            },
            "type": "scatterternary"
           }
          ],
          "surface": [
           {
            "colorbar": {
             "outlinewidth": 0,
             "ticks": ""
            },
            "colorscale": [
             [
              0,
              "#0d0887"
             ],
             [
              0.1111111111111111,
              "#46039f"
             ],
             [
              0.2222222222222222,
              "#7201a8"
             ],
             [
              0.3333333333333333,
              "#9c179e"
             ],
             [
              0.4444444444444444,
              "#bd3786"
             ],
             [
              0.5555555555555556,
              "#d8576b"
             ],
             [
              0.6666666666666666,
              "#ed7953"
             ],
             [
              0.7777777777777778,
              "#fb9f3a"
             ],
             [
              0.8888888888888888,
              "#fdca26"
             ],
             [
              1,
              "#f0f921"
             ]
            ],
            "type": "surface"
           }
          ],
          "table": [
           {
            "cells": {
             "fill": {
              "color": "#EBF0F8"
             },
             "line": {
              "color": "white"
             }
            },
            "header": {
             "fill": {
              "color": "#C8D4E3"
             },
             "line": {
              "color": "white"
             }
            },
            "type": "table"
           }
          ]
         },
         "layout": {
          "annotationdefaults": {
           "arrowcolor": "#2a3f5f",
           "arrowhead": 0,
           "arrowwidth": 1
          },
          "autotypenumbers": "strict",
          "coloraxis": {
           "colorbar": {
            "outlinewidth": 0,
            "ticks": ""
           }
          },
          "colorscale": {
           "diverging": [
            [
             0,
             "#8e0152"
            ],
            [
             0.1,
             "#c51b7d"
            ],
            [
             0.2,
             "#de77ae"
            ],
            [
             0.3,
             "#f1b6da"
            ],
            [
             0.4,
             "#fde0ef"
            ],
            [
             0.5,
             "#f7f7f7"
            ],
            [
             0.6,
             "#e6f5d0"
            ],
            [
             0.7,
             "#b8e186"
            ],
            [
             0.8,
             "#7fbc41"
            ],
            [
             0.9,
             "#4d9221"
            ],
            [
             1,
             "#276419"
            ]
           ],
           "sequential": [
            [
             0,
             "#0d0887"
            ],
            [
             0.1111111111111111,
             "#46039f"
            ],
            [
             0.2222222222222222,
             "#7201a8"
            ],
            [
             0.3333333333333333,
             "#9c179e"
            ],
            [
             0.4444444444444444,
             "#bd3786"
            ],
            [
             0.5555555555555556,
             "#d8576b"
            ],
            [
             0.6666666666666666,
             "#ed7953"
            ],
            [
             0.7777777777777778,
             "#fb9f3a"
            ],
            [
             0.8888888888888888,
             "#fdca26"
            ],
            [
             1,
             "#f0f921"
            ]
           ],
           "sequentialminus": [
            [
             0,
             "#0d0887"
            ],
            [
             0.1111111111111111,
             "#46039f"
            ],
            [
             0.2222222222222222,
             "#7201a8"
            ],
            [
             0.3333333333333333,
             "#9c179e"
            ],
            [
             0.4444444444444444,
             "#bd3786"
            ],
            [
             0.5555555555555556,
             "#d8576b"
            ],
            [
             0.6666666666666666,
             "#ed7953"
            ],
            [
             0.7777777777777778,
             "#fb9f3a"
            ],
            [
             0.8888888888888888,
             "#fdca26"
            ],
            [
             1,
             "#f0f921"
            ]
           ]
          },
          "colorway": [
           "#636efa",
           "#EF553B",
           "#00cc96",
           "#ab63fa",
           "#FFA15A",
           "#19d3f3",
           "#FF6692",
           "#B6E880",
           "#FF97FF",
           "#FECB52"
          ],
          "font": {
           "color": "#2a3f5f"
          },
          "geo": {
           "bgcolor": "white",
           "lakecolor": "white",
           "landcolor": "#E5ECF6",
           "showlakes": true,
           "showland": true,
           "subunitcolor": "white"
          },
          "hoverlabel": {
           "align": "left"
          },
          "hovermode": "closest",
          "mapbox": {
           "style": "light"
          },
          "paper_bgcolor": "white",
          "plot_bgcolor": "#E5ECF6",
          "polar": {
           "angularaxis": {
            "gridcolor": "white",
            "linecolor": "white",
            "ticks": ""
           },
           "bgcolor": "#E5ECF6",
           "radialaxis": {
            "gridcolor": "white",
            "linecolor": "white",
            "ticks": ""
           }
          },
          "scene": {
           "xaxis": {
            "backgroundcolor": "#E5ECF6",
            "gridcolor": "white",
            "gridwidth": 2,
            "linecolor": "white",
            "showbackground": true,
            "ticks": "",
            "zerolinecolor": "white"
           },
           "yaxis": {
            "backgroundcolor": "#E5ECF6",
            "gridcolor": "white",
            "gridwidth": 2,
            "linecolor": "white",
            "showbackground": true,
            "ticks": "",
            "zerolinecolor": "white"
           },
           "zaxis": {
            "backgroundcolor": "#E5ECF6",
            "gridcolor": "white",
            "gridwidth": 2,
            "linecolor": "white",
            "showbackground": true,
            "ticks": "",
            "zerolinecolor": "white"
           }
          },
          "shapedefaults": {
           "line": {
            "color": "#2a3f5f"
           }
          },
          "ternary": {
           "aaxis": {
            "gridcolor": "white",
            "linecolor": "white",
            "ticks": ""
           },
           "baxis": {
            "gridcolor": "white",
            "linecolor": "white",
            "ticks": ""
           },
           "bgcolor": "#E5ECF6",
           "caxis": {
            "gridcolor": "white",
            "linecolor": "white",
            "ticks": ""
           }
          },
          "title": {
           "x": 0.05
          },
          "xaxis": {
           "automargin": true,
           "gridcolor": "white",
           "linecolor": "white",
           "ticks": "",
           "title": {
            "standoff": 15
           },
           "zerolinecolor": "white",
           "zerolinewidth": 2
          },
          "yaxis": {
           "automargin": true,
           "gridcolor": "white",
           "linecolor": "white",
           "ticks": "",
           "title": {
            "standoff": 15
           },
           "zerolinecolor": "white",
           "zerolinewidth": 2
          }
         }
        },
        "xaxis": {
         "anchor": "y",
         "domain": [
          0,
          1
         ],
         "title": {
          "text": "0"
         }
        },
        "yaxis": {
         "anchor": "x",
         "domain": [
          0,
          1
         ],
         "title": {
          "text": "1"
         }
        }
       }
      },
      "text/html": [
       "<div>                            <div id=\"f46b8ebd-dfef-4b74-b5f2-d4cc42e76cb9\" class=\"plotly-graph-div\" style=\"height:525px; width:100%;\"></div>            <script type=\"text/javascript\">                require([\"plotly\"], function(Plotly) {                    window.PLOTLYENV=window.PLOTLYENV || {};                                    if (document.getElementById(\"f46b8ebd-dfef-4b74-b5f2-d4cc42e76cb9\")) {                    Plotly.newPlot(                        \"f46b8ebd-dfef-4b74-b5f2-d4cc42e76cb9\",                        [{\"hovertemplate\": \"color=FINLAND<br>0=%{x}<br>1=%{y}<br>text=%{text}<extra></extra>\", \"legendgroup\": \"FINLAND\", \"marker\": {\"color\": \"#636efa\", \"symbol\": \"circle\"}, \"mode\": \"markers+text\", \"name\": \"FINLAND\", \"orientation\": \"v\", \"showlegend\": false, \"text\": [\"FINLAND\"], \"textfont\": {\"size\": 9}, \"textposition\": \"bottom center\", \"type\": \"scatter\", \"x\": [0.07243974191069007], \"xaxis\": \"x\", \"y\": [0.0016407175473920905], \"yaxis\": \"y\"}, {\"hovertemplate\": \"color=CZECH_REPUBLIC<br>0=%{x}<br>1=%{y}<br>text=%{text}<extra></extra>\", \"legendgroup\": \"CZECH_REPUBLIC\", \"marker\": {\"color\": \"#EF553B\", \"symbol\": \"circle\"}, \"mode\": \"markers+text\", \"name\": \"CZECH_REPUBLIC\", \"orientation\": \"v\", \"showlegend\": false, \"text\": [\"CZECH_REPUBLIC\"], \"textfont\": {\"size\": 9}, \"textposition\": \"bottom center\", \"type\": \"scatter\", \"x\": [0.029400813057069347], \"xaxis\": \"x\", \"y\": [-0.004776236009559876], \"yaxis\": \"y\"}, {\"hovertemplate\": \"color=AUSTRIA<br>0=%{x}<br>1=%{y}<br>text=%{text}<extra></extra>\", \"legendgroup\": \"AUSTRIA\", \"marker\": {\"color\": \"#00cc96\", \"symbol\": \"circle\"}, \"mode\": \"markers+text\", \"name\": \"AUSTRIA\", \"orientation\": \"v\", \"showlegend\": false, \"text\": [\"AUSTRIA\"], \"textfont\": {\"size\": 9}, \"textposition\": \"bottom center\", \"type\": \"scatter\", \"x\": [-0.02634717504768791], \"xaxis\": \"x\", \"y\": [0.0032634698474807468], \"yaxis\": \"y\"}, {\"hovertemplate\": \"color=MACEDONIA_REPUBLIC_OF<br>0=%{x}<br>1=%{y}<br>text=%{text}<extra></extra>\", \"legendgroup\": \"MACEDONIA_REPUBLIC_OF\", \"marker\": {\"color\": \"#ab63fa\", \"symbol\": \"circle\"}, \"mode\": \"markers+text\", \"name\": \"MACEDONIA_REPUBLIC_OF\", \"orientation\": \"v\", \"showlegend\": false, \"text\": [\"MACEDONIA_REPUBLIC_OF\"], \"textfont\": {\"size\": 9}, \"textposition\": \"bottom center\", \"type\": \"scatter\", \"x\": [-0.007516544171357882], \"xaxis\": \"x\", \"y\": [0.006975396173196675], \"yaxis\": \"y\"}, {\"hovertemplate\": \"color=BELGIUM<br>0=%{x}<br>1=%{y}<br>text=%{text}<extra></extra>\", \"legendgroup\": \"BELGIUM\", \"marker\": {\"color\": \"#FFA15A\", \"symbol\": \"circle\"}, \"mode\": \"markers+text\", \"name\": \"BELGIUM\", \"orientation\": \"v\", \"showlegend\": false, \"text\": [\"BELGIUM\"], \"textfont\": {\"size\": 9}, \"textposition\": \"bottom center\", \"type\": \"scatter\", \"x\": [-0.029385982789567857], \"xaxis\": \"x\", \"y\": [0.0012104788520174226], \"yaxis\": \"y\"}, {\"hovertemplate\": \"color=CROATIA<br>0=%{x}<br>1=%{y}<br>text=%{text}<extra></extra>\", \"legendgroup\": \"CROATIA\", \"marker\": {\"color\": \"#19d3f3\", \"symbol\": \"circle\"}, \"mode\": \"markers+text\", \"name\": \"CROATIA\", \"orientation\": \"v\", \"showlegend\": false, \"text\": [\"CROATIA\"], \"textfont\": {\"size\": 9}, \"textposition\": \"bottom center\", \"type\": \"scatter\", \"x\": [-0.02046985721260992], \"xaxis\": \"x\", \"y\": [-0.0019950122325191853], \"yaxis\": \"y\"}, {\"hovertemplate\": \"color=SWEDEN<br>0=%{x}<br>1=%{y}<br>text=%{text}<extra></extra>\", \"legendgroup\": \"SWEDEN\", \"marker\": {\"color\": \"#FF6692\", \"symbol\": \"circle\"}, \"mode\": \"markers+text\", \"name\": \"SWEDEN\", \"orientation\": \"v\", \"showlegend\": false, \"text\": [\"SWEDEN\"], \"textfont\": {\"size\": 9}, \"textposition\": \"bottom center\", \"type\": \"scatter\", \"x\": [-0.049531498822995124], \"xaxis\": \"x\", \"y\": [0.013317491344336794], \"yaxis\": \"y\"}, {\"hovertemplate\": \"color=SWITZERLAND<br>0=%{x}<br>1=%{y}<br>text=%{text}<extra></extra>\", \"legendgroup\": \"SWITZERLAND\", \"marker\": {\"color\": \"#B6E880\", \"symbol\": \"circle\"}, \"mode\": \"markers+text\", \"name\": \"SWITZERLAND\", \"orientation\": \"v\", \"showlegend\": false, \"text\": [\"SWITZERLAND\"], \"textfont\": {\"size\": 9}, \"textposition\": \"bottom center\", \"type\": \"scatter\", \"x\": [-0.02053099612926958], \"xaxis\": \"x\", \"y\": [-0.0006157373912198248], \"yaxis\": \"y\"}, {\"hovertemplate\": \"color=SPAIN<br>0=%{x}<br>1=%{y}<br>text=%{text}<extra></extra>\", \"legendgroup\": \"SPAIN\", \"marker\": {\"color\": \"#FF97FF\", \"symbol\": \"circle\"}, \"mode\": \"markers+text\", \"name\": \"SPAIN\", \"orientation\": \"v\", \"showlegend\": false, \"text\": [\"SPAIN\"], \"textfont\": {\"size\": 9}, \"textposition\": \"bottom center\", \"type\": \"scatter\", \"x\": [-0.028204186317174723], \"xaxis\": \"x\", \"y\": [0.007195562822908487], \"yaxis\": \"y\"}, {\"hovertemplate\": \"color=TURKEY<br>0=%{x}<br>1=%{y}<br>text=%{text}<extra></extra>\", \"legendgroup\": \"TURKEY\", \"marker\": {\"color\": \"#FECB52\", \"symbol\": \"circle\"}, \"mode\": \"markers+text\", \"name\": \"TURKEY\", \"orientation\": \"v\", \"showlegend\": false, \"text\": [\"TURKEY\"], \"textfont\": {\"size\": 9}, \"textposition\": \"bottom center\", \"type\": \"scatter\", \"x\": [-0.007979759148542735], \"xaxis\": \"x\", \"y\": [-0.0082984320480114], \"yaxis\": \"y\"}, {\"hovertemplate\": \"color=WALES<br>0=%{x}<br>1=%{y}<br>text=%{text}<extra></extra>\", \"legendgroup\": \"WALES\", \"marker\": {\"color\": \"#636efa\", \"symbol\": \"circle\"}, \"mode\": \"markers+text\", \"name\": \"WALES\", \"orientation\": \"v\", \"showlegend\": false, \"text\": [\"WALES\"], \"textfont\": {\"size\": 9}, \"textposition\": \"bottom center\", \"type\": \"scatter\", \"x\": [-0.051176510272573104], \"xaxis\": \"x\", \"y\": [-0.007941420847762344], \"yaxis\": \"y\"}, {\"hovertemplate\": \"color=NETHERLANDS<br>0=%{x}<br>1=%{y}<br>text=%{text}<extra></extra>\", \"legendgroup\": \"NETHERLANDS\", \"marker\": {\"color\": \"#EF553B\", \"symbol\": \"circle\"}, \"mode\": \"markers+text\", \"name\": \"NETHERLANDS\", \"orientation\": \"v\", \"showlegend\": false, \"text\": [\"NETHERLANDS\"], \"textfont\": {\"size\": 9}, \"textposition\": \"bottom center\", \"type\": \"scatter\", \"x\": [0.06843809888348618], \"xaxis\": \"x\", \"y\": [-0.014550597017462688], \"yaxis\": \"y\"}, {\"hovertemplate\": \"color=RUSSIA<br>0=%{x}<br>1=%{y}<br>text=%{text}<extra></extra>\", \"legendgroup\": \"RUSSIA\", \"marker\": {\"color\": \"#00cc96\", \"symbol\": \"circle\"}, \"mode\": \"markers+text\", \"name\": \"RUSSIA\", \"orientation\": \"v\", \"showlegend\": false, \"text\": [\"RUSSIA\"], \"textfont\": {\"size\": 9}, \"textposition\": \"bottom center\", \"type\": \"scatter\", \"x\": [-0.03593851542173952], \"xaxis\": \"x\", \"y\": [0.016386137878336156], \"yaxis\": \"y\"}, {\"hovertemplate\": \"color=SLOVAKIA<br>0=%{x}<br>1=%{y}<br>text=%{text}<extra></extra>\", \"legendgroup\": \"SLOVAKIA\", \"marker\": {\"color\": \"#ab63fa\", \"symbol\": \"circle\"}, \"mode\": \"markers+text\", \"name\": \"SLOVAKIA\", \"orientation\": \"v\", \"showlegend\": false, \"text\": [\"SLOVAKIA\"], \"textfont\": {\"size\": 9}, \"textposition\": \"bottom center\", \"type\": \"scatter\", \"x\": [0.02159453418446007], \"xaxis\": \"x\", \"y\": [0.024839086993494786], \"yaxis\": \"y\"}, {\"hovertemplate\": \"color=FRANCE<br>0=%{x}<br>1=%{y}<br>text=%{text}<extra></extra>\", \"legendgroup\": \"FRANCE\", \"marker\": {\"color\": \"#FFA15A\", \"symbol\": \"circle\"}, \"mode\": \"markers+text\", \"name\": \"FRANCE\", \"orientation\": \"v\", \"showlegend\": false, \"text\": [\"FRANCE\"], \"textfont\": {\"size\": 9}, \"textposition\": \"bottom center\", \"type\": \"scatter\", \"x\": [0.0007963163765508129], \"xaxis\": \"x\", \"y\": [-0.006737665912648134], \"yaxis\": \"y\"}, {\"hovertemplate\": \"color=POLAND<br>0=%{x}<br>1=%{y}<br>text=%{text}<extra></extra>\", \"legendgroup\": \"POLAND\", \"marker\": {\"color\": \"#19d3f3\", \"symbol\": \"circle\"}, \"mode\": \"markers+text\", \"name\": \"POLAND\", \"orientation\": \"v\", \"showlegend\": false, \"text\": [\"POLAND\"], \"textfont\": {\"size\": 9}, \"textposition\": \"bottom center\", \"type\": \"scatter\", \"x\": [0.04055825374549412], \"xaxis\": \"x\", \"y\": [0.006746990530284367], \"yaxis\": \"y\"}, {\"hovertemplate\": \"color=HUNGARY<br>0=%{x}<br>1=%{y}<br>text=%{text}<extra></extra>\", \"legendgroup\": \"HUNGARY\", \"marker\": {\"color\": \"#FF6692\", \"symbol\": \"circle\"}, \"mode\": \"markers+text\", \"name\": \"HUNGARY\", \"orientation\": \"v\", \"showlegend\": false, \"text\": [\"HUNGARY\"], \"textfont\": {\"size\": 9}, \"textposition\": \"bottom center\", \"type\": \"scatter\", \"x\": [0.10812112511722484], \"xaxis\": \"x\", \"y\": [0.002321041804070331], \"yaxis\": \"y\"}, {\"hovertemplate\": \"color=ENGLAND<br>0=%{x}<br>1=%{y}<br>text=%{text}<extra></extra>\", \"legendgroup\": \"ENGLAND\", \"marker\": {\"color\": \"#B6E880\", \"symbol\": \"circle\"}, \"mode\": \"markers+text\", \"name\": \"ENGLAND\", \"orientation\": \"v\", \"showlegend\": false, \"text\": [\"ENGLAND\"], \"textfont\": {\"size\": 9}, \"textposition\": \"bottom center\", \"type\": \"scatter\", \"x\": [0.018031372548735602], \"xaxis\": \"x\", \"y\": [0.008891542618122743], \"yaxis\": \"y\"}, {\"hovertemplate\": \"color=ITALY<br>0=%{x}<br>1=%{y}<br>text=%{text}<extra></extra>\", \"legendgroup\": \"ITALY\", \"marker\": {\"color\": \"#FF97FF\", \"symbol\": \"circle\"}, \"mode\": \"markers+text\", \"name\": \"ITALY\", \"orientation\": \"v\", \"showlegend\": false, \"text\": [\"ITALY\"], \"textfont\": {\"size\": 9}, \"textposition\": \"bottom center\", \"type\": \"scatter\", \"x\": [0.0038351241184307653], \"xaxis\": \"x\", \"y\": [-0.0046846749171848105], \"yaxis\": \"y\"}, {\"hovertemplate\": \"color=PORTUGAL<br>0=%{x}<br>1=%{y}<br>text=%{text}<extra></extra>\", \"legendgroup\": \"PORTUGAL\", \"marker\": {\"color\": \"#FECB52\", \"symbol\": \"circle\"}, \"mode\": \"markers+text\", \"name\": \"PORTUGAL\", \"orientation\": \"v\", \"showlegend\": false, \"text\": [\"PORTUGAL\"], \"textfont\": {\"size\": 9}, \"textposition\": \"bottom center\", \"type\": \"scatter\", \"x\": [-0.006859101592809259], \"xaxis\": \"x\", \"y\": [-0.000934073235820978], \"yaxis\": \"y\"}, {\"hovertemplate\": \"color=GERMANY<br>0=%{x}<br>1=%{y}<br>text=%{text}<extra></extra>\", \"legendgroup\": \"GERMANY\", \"marker\": {\"color\": \"#636efa\", \"symbol\": \"circle\"}, \"mode\": \"markers+text\", \"name\": \"GERMANY\", \"orientation\": \"v\", \"showlegend\": false, \"text\": [\"GERMANY\"], \"textfont\": {\"size\": 9}, \"textposition\": \"bottom center\", \"type\": \"scatter\", \"x\": [0.001532670090304163], \"xaxis\": \"x\", \"y\": [-0.018034117700266313], \"yaxis\": \"y\"}, {\"hovertemplate\": \"color=SCOTLAND<br>0=%{x}<br>1=%{y}<br>text=%{text}<extra></extra>\", \"legendgroup\": \"SCOTLAND\", \"marker\": {\"color\": \"#EF553B\", \"symbol\": \"circle\"}, \"mode\": \"markers+text\", \"name\": \"SCOTLAND\", \"orientation\": \"v\", \"showlegend\": false, \"text\": [\"SCOTLAND\"], \"textfont\": {\"size\": 9}, \"textposition\": \"bottom center\", \"type\": \"scatter\", \"x\": [-0.07488518794172483], \"xaxis\": \"x\", \"y\": [-0.01178195273081501], \"yaxis\": \"y\"}, {\"hovertemplate\": \"color=UKRAINE<br>0=%{x}<br>1=%{y}<br>text=%{text}<extra></extra>\", \"legendgroup\": \"UKRAINE\", \"marker\": {\"color\": \"#00cc96\", \"symbol\": \"circle\"}, \"mode\": \"markers+text\", \"name\": \"UKRAINE\", \"orientation\": \"v\", \"showlegend\": false, \"text\": [\"UKRAINE\"], \"textfont\": {\"size\": 9}, \"textposition\": \"bottom center\", \"type\": \"scatter\", \"x\": [0.0038351241184307653], \"xaxis\": \"x\", \"y\": [-0.0046846749171848105], \"yaxis\": \"y\"}, {\"hovertemplate\": \"color=DENMARK<br>0=%{x}<br>1=%{y}<br>text=%{text}<extra></extra>\", \"legendgroup\": \"DENMARK\", \"marker\": {\"color\": \"#ab63fa\", \"symbol\": \"circle\"}, \"mode\": \"markers+text\", \"name\": \"DENMARK\", \"orientation\": \"v\", \"showlegend\": false, \"text\": [\"DENMARK\"], \"textfont\": {\"size\": 9}, \"textposition\": \"bottom center\", \"type\": \"scatter\", \"x\": [-0.009757859282824823], \"xaxis\": \"x\", \"y\": [-0.007753321451184175], \"yaxis\": \"y\"}],                        {\"legend\": {\"title\": {\"text\": \"color\"}, \"tracegroupgap\": 0}, \"margin\": {\"t\": 60}, \"template\": {\"data\": {\"bar\": [{\"error_x\": {\"color\": \"#2a3f5f\"}, \"error_y\": {\"color\": \"#2a3f5f\"}, \"marker\": {\"line\": {\"color\": \"#E5ECF6\", \"width\": 0.5}}, \"type\": \"bar\"}], \"barpolar\": [{\"marker\": {\"line\": {\"color\": \"#E5ECF6\", \"width\": 0.5}}, \"type\": \"barpolar\"}], \"carpet\": [{\"aaxis\": {\"endlinecolor\": \"#2a3f5f\", \"gridcolor\": \"white\", \"linecolor\": \"white\", \"minorgridcolor\": \"white\", \"startlinecolor\": \"#2a3f5f\"}, \"baxis\": {\"endlinecolor\": \"#2a3f5f\", \"gridcolor\": \"white\", \"linecolor\": \"white\", \"minorgridcolor\": \"white\", \"startlinecolor\": \"#2a3f5f\"}, \"type\": \"carpet\"}], \"choropleth\": [{\"colorbar\": {\"outlinewidth\": 0, \"ticks\": \"\"}, \"type\": \"choropleth\"}], \"contour\": [{\"colorbar\": {\"outlinewidth\": 0, \"ticks\": \"\"}, \"colorscale\": [[0.0, \"#0d0887\"], [0.1111111111111111, \"#46039f\"], [0.2222222222222222, \"#7201a8\"], [0.3333333333333333, \"#9c179e\"], [0.4444444444444444, \"#bd3786\"], [0.5555555555555556, \"#d8576b\"], [0.6666666666666666, \"#ed7953\"], [0.7777777777777778, \"#fb9f3a\"], [0.8888888888888888, \"#fdca26\"], [1.0, \"#f0f921\"]], \"type\": \"contour\"}], \"contourcarpet\": [{\"colorbar\": {\"outlinewidth\": 0, \"ticks\": \"\"}, \"type\": \"contourcarpet\"}], \"heatmap\": [{\"colorbar\": {\"outlinewidth\": 0, \"ticks\": \"\"}, \"colorscale\": [[0.0, \"#0d0887\"], [0.1111111111111111, \"#46039f\"], [0.2222222222222222, \"#7201a8\"], [0.3333333333333333, \"#9c179e\"], [0.4444444444444444, \"#bd3786\"], [0.5555555555555556, \"#d8576b\"], [0.6666666666666666, \"#ed7953\"], [0.7777777777777778, \"#fb9f3a\"], [0.8888888888888888, \"#fdca26\"], [1.0, \"#f0f921\"]], \"type\": \"heatmap\"}], \"heatmapgl\": [{\"colorbar\": {\"outlinewidth\": 0, \"ticks\": \"\"}, \"colorscale\": [[0.0, \"#0d0887\"], [0.1111111111111111, \"#46039f\"], [0.2222222222222222, \"#7201a8\"], [0.3333333333333333, \"#9c179e\"], [0.4444444444444444, \"#bd3786\"], [0.5555555555555556, \"#d8576b\"], [0.6666666666666666, \"#ed7953\"], [0.7777777777777778, \"#fb9f3a\"], [0.8888888888888888, \"#fdca26\"], [1.0, \"#f0f921\"]], \"type\": \"heatmapgl\"}], \"histogram\": [{\"marker\": {\"colorbar\": {\"outlinewidth\": 0, \"ticks\": \"\"}}, \"type\": \"histogram\"}], \"histogram2d\": [{\"colorbar\": {\"outlinewidth\": 0, \"ticks\": \"\"}, \"colorscale\": [[0.0, \"#0d0887\"], [0.1111111111111111, \"#46039f\"], [0.2222222222222222, \"#7201a8\"], [0.3333333333333333, \"#9c179e\"], [0.4444444444444444, \"#bd3786\"], [0.5555555555555556, \"#d8576b\"], [0.6666666666666666, \"#ed7953\"], [0.7777777777777778, \"#fb9f3a\"], [0.8888888888888888, \"#fdca26\"], [1.0, \"#f0f921\"]], \"type\": \"histogram2d\"}], \"histogram2dcontour\": [{\"colorbar\": {\"outlinewidth\": 0, \"ticks\": \"\"}, \"colorscale\": [[0.0, \"#0d0887\"], [0.1111111111111111, \"#46039f\"], [0.2222222222222222, \"#7201a8\"], [0.3333333333333333, \"#9c179e\"], [0.4444444444444444, \"#bd3786\"], [0.5555555555555556, \"#d8576b\"], [0.6666666666666666, \"#ed7953\"], [0.7777777777777778, \"#fb9f3a\"], [0.8888888888888888, \"#fdca26\"], [1.0, \"#f0f921\"]], \"type\": \"histogram2dcontour\"}], \"mesh3d\": [{\"colorbar\": {\"outlinewidth\": 0, \"ticks\": \"\"}, \"type\": \"mesh3d\"}], \"parcoords\": [{\"line\": {\"colorbar\": {\"outlinewidth\": 0, \"ticks\": \"\"}}, \"type\": \"parcoords\"}], \"pie\": [{\"automargin\": true, \"type\": \"pie\"}], \"scatter\": [{\"marker\": {\"colorbar\": {\"outlinewidth\": 0, \"ticks\": \"\"}}, \"type\": \"scatter\"}], \"scatter3d\": [{\"line\": {\"colorbar\": {\"outlinewidth\": 0, \"ticks\": \"\"}}, \"marker\": {\"colorbar\": {\"outlinewidth\": 0, \"ticks\": \"\"}}, \"type\": \"scatter3d\"}], \"scattercarpet\": [{\"marker\": {\"colorbar\": {\"outlinewidth\": 0, \"ticks\": \"\"}}, \"type\": \"scattercarpet\"}], \"scattergeo\": [{\"marker\": {\"colorbar\": {\"outlinewidth\": 0, \"ticks\": \"\"}}, \"type\": \"scattergeo\"}], \"scattergl\": [{\"marker\": {\"colorbar\": {\"outlinewidth\": 0, \"ticks\": \"\"}}, \"type\": \"scattergl\"}], \"scattermapbox\": [{\"marker\": {\"colorbar\": {\"outlinewidth\": 0, \"ticks\": \"\"}}, \"type\": \"scattermapbox\"}], \"scatterpolar\": [{\"marker\": {\"colorbar\": {\"outlinewidth\": 0, \"ticks\": \"\"}}, \"type\": \"scatterpolar\"}], \"scatterpolargl\": [{\"marker\": {\"colorbar\": {\"outlinewidth\": 0, \"ticks\": \"\"}}, \"type\": \"scatterpolargl\"}], \"scatterternary\": [{\"marker\": {\"colorbar\": {\"outlinewidth\": 0, \"ticks\": \"\"}}, \"type\": \"scatterternary\"}], \"surface\": [{\"colorbar\": {\"outlinewidth\": 0, \"ticks\": \"\"}, \"colorscale\": [[0.0, \"#0d0887\"], [0.1111111111111111, \"#46039f\"], [0.2222222222222222, \"#7201a8\"], [0.3333333333333333, \"#9c179e\"], [0.4444444444444444, \"#bd3786\"], [0.5555555555555556, \"#d8576b\"], [0.6666666666666666, \"#ed7953\"], [0.7777777777777778, \"#fb9f3a\"], [0.8888888888888888, \"#fdca26\"], [1.0, \"#f0f921\"]], \"type\": \"surface\"}], \"table\": [{\"cells\": {\"fill\": {\"color\": \"#EBF0F8\"}, \"line\": {\"color\": \"white\"}}, \"header\": {\"fill\": {\"color\": \"#C8D4E3\"}, \"line\": {\"color\": \"white\"}}, \"type\": \"table\"}]}, \"layout\": {\"annotationdefaults\": {\"arrowcolor\": \"#2a3f5f\", \"arrowhead\": 0, \"arrowwidth\": 1}, \"autotypenumbers\": \"strict\", \"coloraxis\": {\"colorbar\": {\"outlinewidth\": 0, \"ticks\": \"\"}}, \"colorscale\": {\"diverging\": [[0, \"#8e0152\"], [0.1, \"#c51b7d\"], [0.2, \"#de77ae\"], [0.3, \"#f1b6da\"], [0.4, \"#fde0ef\"], [0.5, \"#f7f7f7\"], [0.6, \"#e6f5d0\"], [0.7, \"#b8e186\"], [0.8, \"#7fbc41\"], [0.9, \"#4d9221\"], [1, \"#276419\"]], \"sequential\": [[0.0, \"#0d0887\"], [0.1111111111111111, \"#46039f\"], [0.2222222222222222, \"#7201a8\"], [0.3333333333333333, \"#9c179e\"], [0.4444444444444444, \"#bd3786\"], [0.5555555555555556, \"#d8576b\"], [0.6666666666666666, \"#ed7953\"], [0.7777777777777778, \"#fb9f3a\"], [0.8888888888888888, \"#fdca26\"], [1.0, \"#f0f921\"]], \"sequentialminus\": [[0.0, \"#0d0887\"], [0.1111111111111111, \"#46039f\"], [0.2222222222222222, \"#7201a8\"], [0.3333333333333333, \"#9c179e\"], [0.4444444444444444, \"#bd3786\"], [0.5555555555555556, \"#d8576b\"], [0.6666666666666666, \"#ed7953\"], [0.7777777777777778, \"#fb9f3a\"], [0.8888888888888888, \"#fdca26\"], [1.0, \"#f0f921\"]]}, \"colorway\": [\"#636efa\", \"#EF553B\", \"#00cc96\", \"#ab63fa\", \"#FFA15A\", \"#19d3f3\", \"#FF6692\", \"#B6E880\", \"#FF97FF\", \"#FECB52\"], \"font\": {\"color\": \"#2a3f5f\"}, \"geo\": {\"bgcolor\": \"white\", \"lakecolor\": \"white\", \"landcolor\": \"#E5ECF6\", \"showlakes\": true, \"showland\": true, \"subunitcolor\": \"white\"}, \"hoverlabel\": {\"align\": \"left\"}, \"hovermode\": \"closest\", \"mapbox\": {\"style\": \"light\"}, \"paper_bgcolor\": \"white\", \"plot_bgcolor\": \"#E5ECF6\", \"polar\": {\"angularaxis\": {\"gridcolor\": \"white\", \"linecolor\": \"white\", \"ticks\": \"\"}, \"bgcolor\": \"#E5ECF6\", \"radialaxis\": {\"gridcolor\": \"white\", \"linecolor\": \"white\", \"ticks\": \"\"}}, \"scene\": {\"xaxis\": {\"backgroundcolor\": \"#E5ECF6\", \"gridcolor\": \"white\", \"gridwidth\": 2, \"linecolor\": \"white\", \"showbackground\": true, \"ticks\": \"\", \"zerolinecolor\": \"white\"}, \"yaxis\": {\"backgroundcolor\": \"#E5ECF6\", \"gridcolor\": \"white\", \"gridwidth\": 2, \"linecolor\": \"white\", \"showbackground\": true, \"ticks\": \"\", \"zerolinecolor\": \"white\"}, \"zaxis\": {\"backgroundcolor\": \"#E5ECF6\", \"gridcolor\": \"white\", \"gridwidth\": 2, \"linecolor\": \"white\", \"showbackground\": true, \"ticks\": \"\", \"zerolinecolor\": \"white\"}}, \"shapedefaults\": {\"line\": {\"color\": \"#2a3f5f\"}}, \"ternary\": {\"aaxis\": {\"gridcolor\": \"white\", \"linecolor\": \"white\", \"ticks\": \"\"}, \"baxis\": {\"gridcolor\": \"white\", \"linecolor\": \"white\", \"ticks\": \"\"}, \"bgcolor\": \"#E5ECF6\", \"caxis\": {\"gridcolor\": \"white\", \"linecolor\": \"white\", \"ticks\": \"\"}}, \"title\": {\"x\": 0.05}, \"xaxis\": {\"automargin\": true, \"gridcolor\": \"white\", \"linecolor\": \"white\", \"ticks\": \"\", \"title\": {\"standoff\": 15}, \"zerolinecolor\": \"white\", \"zerolinewidth\": 2}, \"yaxis\": {\"automargin\": true, \"gridcolor\": \"white\", \"linecolor\": \"white\", \"ticks\": \"\", \"title\": {\"standoff\": 15}, \"zerolinecolor\": \"white\", \"zerolinewidth\": 2}}}, \"xaxis\": {\"anchor\": \"y\", \"domain\": [0.0, 1.0], \"title\": {\"text\": \"0\"}}, \"yaxis\": {\"anchor\": \"x\", \"domain\": [0.0, 1.0], \"title\": {\"text\": \"1\"}}},                        {\"responsive\": true}                    ).then(function(){\n",
       "                            \n",
       "var gd = document.getElementById('f46b8ebd-dfef-4b74-b5f2-d4cc42e76cb9');\n",
       "var x = new MutationObserver(function (mutations, observer) {{\n",
       "        var display = window.getComputedStyle(gd).display;\n",
       "        if (!display || display === 'none') {{\n",
       "            console.log([gd, 'removed!']);\n",
       "            Plotly.purge(gd);\n",
       "            observer.disconnect();\n",
       "        }}\n",
       "}});\n",
       "\n",
       "// Listen for the removal of the full notebook cells\n",
       "var notebookContainer = gd.closest('#notebook-container');\n",
       "if (notebookContainer) {{\n",
       "    x.observe(notebookContainer, {childList: true});\n",
       "}}\n",
       "\n",
       "// Listen for the clearing of the current output cell\n",
       "var outputEl = gd.closest('.output');\n",
       "if (outputEl) {{\n",
       "    x.observe(outputEl, {childList: true});\n",
       "}}\n",
       "\n",
       "                        })                };                });            </script>        </div>"
      ]
     },
     "metadata": {},
     "output_type": "display_data"
    }
   ],
   "source": [
    "pca = PCA(n_components=2)\n",
    "components = pca.fit_transform(df)\n",
    "\n",
    "fig = px.scatter(components, x=0, y=1, color=df.index, text = df.index)\n",
    "fig.update_traces(textposition='bottom center', showlegend = False, textfont_size = 9)\n",
    "fig.update_traces(marker=dict(size=12,\n",
    "                              line=dict(width=2,\n",
    "                                        color='DarkSlateGrey')),\n",
    "                  selector=dict(mode='markers'),\n",
    "                 )\n",
    "fig.show()"
   ]
  },
  {
   "cell_type": "code",
   "execution_count": null,
   "metadata": {},
   "outputs": [],
   "source": []
  }
 ],
 "metadata": {
  "kernelspec": {
   "display_name": "Python 3",
   "language": "python",
   "name": "python3"
  },
  "language_info": {
   "codemirror_mode": {
    "name": "ipython",
    "version": 3
   },
   "file_extension": ".py",
   "mimetype": "text/x-python",
   "name": "python",
   "nbconvert_exporter": "python",
   "pygments_lexer": "ipython3",
   "version": "3.8.3"
  }
 },
 "nbformat": 4,
 "nbformat_minor": 4
}
