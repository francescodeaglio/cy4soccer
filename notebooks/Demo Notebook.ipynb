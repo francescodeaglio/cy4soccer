{
 "cells": [
  {
   "cell_type": "markdown",
   "metadata": {},
   "source": [
    "# Demo notebook"
   ]
  },
  {
   "cell_type": "markdown",
   "metadata": {},
   "source": [
    "This is a demo notebook to perform query in CYPHER directly from Python."
   ]
  },
  {
   "cell_type": "code",
   "execution_count": 169,
   "metadata": {},
   "outputs": [],
   "source": [
    "from neo4j import GraphDatabase\n",
    "import logging\n",
    "from neo4j.exceptions import ServiceUnavailable\n",
    "import streamlit as st\n",
    "class App:\n",
    "\n",
    "    def __init__(self, uri, user, password):\n",
    "        self.driver = GraphDatabase.driver(uri, auth=(user, password))\n",
    "\n",
    "    def close(self):\n",
    "        # Don't forget to close the driver connection when you are finished with it\n",
    "        self.driver.close()\n",
    "\n",
    "\n",
    "    def find_pattern(self, query_string):\n",
    "        with self.driver.session() as session:\n",
    "            result = session.read_transaction(self._find_and_return_pattern, query_string)\n",
    "            for row in result:\n",
    "                .....TODO...... ##########<----- here you have to change with the data you inserted into the query.\n",
    "            #for example if we have RETURN A.match_id, P, count(c) as cnt you can access to the returned values using \n",
    "            # row[\"A.match_id\"], row[\"P\"] and row[\"cnt\"] respectively\n",
    "\n",
    "\n",
    "    @staticmethod\n",
    "    def _find_and_return_pattern(tx, query_string):\n",
    "        result = tx.run(query_string)\n",
    "        return [row for row in result]"
   ]
  },
  {
   "cell_type": "code",
   "execution_count": 190,
   "metadata": {},
   "outputs": [],
   "source": [
    "#this is a useful function to automatically write pattern matching query\n",
    "\"\"\"\n",
    "For example cypherify(ABAC, \"ITALY\") returns\n",
    "MATCH p=(A:ITALY)-[p0:PASS]->(B:ITALY)-[p1:PASS]->(A:ITALY)-[p2:PASS]->(C:ITALY)\n",
    "WHERE p0.order + 1 = p1.order and p1.order + 1 = p2.order and p0.possession = p1.possession \n",
    "and p1.possession = p2.possession and p0.match_id = p1.match_id and p1.match_id = p2.match_id \n",
    "and A.name <> C.name and A.name <> B.name and B.name <> C.name\n",
    "RETURN COUNT(p)\n",
    "\n",
    "Then you can modify in to get whatever you want (ax you want to draw a heatmap of passing motifs, \n",
    "then you can return pass.location and pass.end_location for every pass)\n",
    "\"\"\"\n",
    "\n",
    "def cypherify(string, team = None):\n",
    "    letters = list(string)\n",
    "\n",
    "    if team:\n",
    "        query = \"MATCH p=(A:\"+team+\")\"\n",
    "        for i in range(len(string) - 1):\n",
    "            query += \"-[p\" + str(i) + \":PASS]->(\" + letters[i + 1] + \":\"+team+\")\"\n",
    "    else:\n",
    "        query = \"MATCH (A)\"\n",
    "        for i in range(len(string) - 1):\n",
    "            query += \"-[p\" + str(i) + \":PASS]->(\" + letters[i + 1] + \")\"\n",
    "\n",
    "    query += \"\\nWHERE \"\n",
    "\n",
    "    #correct order\n",
    "    first = True\n",
    "    for i in range(len(string) - 2):\n",
    "        if first:\n",
    "            query += \"p\" + str(i) + \".order + 1 = p\" + str(i + 1) + \".order\"\n",
    "            first = False\n",
    "        else:\n",
    "            query += \" and p\" + str(i) + \".order + 1 = p\" + str(i + 1) + \".order\"\n",
    "\n",
    "    #same possession\n",
    "    first = True\n",
    "    for i in range(len(string) - 2):\n",
    "        if first:\n",
    "            query += \" and p\" + str(i) + \".possession = p\" + str(i + 1) + \".possession\"\n",
    "            first = False\n",
    "        else:\n",
    "            query += \" and p\" + str(i) + \".possession = p\" + str(i + 1) + \".possession\"\n",
    "\n",
    "    #same match\n",
    "    first = True\n",
    "    for i in range(len(string) - 2):\n",
    "        if first:\n",
    "            query += \" and p\" + str(i) + \".match_id = p\" + str(i + 1) + \".match_id\"\n",
    "            first = False\n",
    "        else:\n",
    "            query += \" and p\" + str(i) + \".match_id = p\" + str(i + 1) + \".match_id\"\n",
    "\n",
    "    #different players, we have to check all the Nc2 possible combinations (N = number of distinct players)\n",
    "    unorderedPairGenerator = ((x, y) for x in set(letters) for y in set(letters) if y > x)\n",
    "    \n",
    "    if string != \"AB\": #special case, if we are matching AB we don't have anything before so we avoid the and at the beginning \n",
    "        query += \" and \" + \" and \".join([x + \".name <>\" + \" \" +y + \".name\" for x, y in list(unorderedPairGenerator)])\n",
    "    else:\n",
    "        query +=  \" and \".join([x + \".name <>\" + \" \" +y + \".name\" for x, y in list(unorderedPairGenerator)])\n",
    "    \n",
    "    \n",
    "    query += \"\\n RETURN COUNT(p)\"\n",
    "    return query"
   ]
  },
  {
   "cell_type": "code",
   "execution_count": null,
   "metadata": {},
   "outputs": [],
   "source": [
    "#parameters to connect to neo4j server\n",
    "uri = \"neo4j+s://00e145e7.databases.neo4j.io:7687\"\n",
    "user = \"soccer_analytics\"\n",
    "password = \"night-candle-miracle-nickel-declare-32\"\n",
    "app = App(uri, user, password)"
   ]
  },
  {
   "cell_type": "code",
   "execution_count": 192,
   "metadata": {},
   "outputs": [],
   "source": [
    "\"\"\"\n",
    "Typically to match a pattern I use these 2 functions\n",
    "\"\"\"\n",
    "query = cypherify(pattern, team)\n",
    "v = app.find_pattern(query)\n",
    "\n",
    "    "
   ]
  },
  {
   "cell_type": "code",
   "execution_count": null,
   "metadata": {},
   "outputs": [],
   "source": []
  },
  {
   "cell_type": "code",
   "execution_count": null,
   "metadata": {},
   "outputs": [],
   "source": []
  },
  {
   "cell_type": "code",
   "execution_count": null,
   "metadata": {},
   "outputs": [],
   "source": []
  },
  {
   "cell_type": "code",
   "execution_count": null,
   "metadata": {},
   "outputs": [],
   "source": []
  },
  {
   "cell_type": "code",
   "execution_count": null,
   "metadata": {},
   "outputs": [],
   "source": []
  },
  {
   "cell_type": "code",
   "execution_count": null,
   "metadata": {},
   "outputs": [],
   "source": []
  },
  {
   "cell_type": "code",
   "execution_count": null,
   "metadata": {},
   "outputs": [],
   "source": []
  },
  {
   "cell_type": "code",
   "execution_count": null,
   "metadata": {},
   "outputs": [],
   "source": []
  },
  {
   "cell_type": "code",
   "execution_count": null,
   "metadata": {},
   "outputs": [],
   "source": []
  }
 ],
 "metadata": {
  "kernelspec": {
   "display_name": "Python 3",
   "language": "python",
   "name": "python3"
  },
  "language_info": {
   "codemirror_mode": {
    "name": "ipython",
    "version": 3
   },
   "file_extension": ".py",
   "mimetype": "text/x-python",
   "name": "python",
   "nbconvert_exporter": "python",
   "pygments_lexer": "ipython3",
   "version": "3.8.3"
  }
 },
 "nbformat": 4,
 "nbformat_minor": 4
}
